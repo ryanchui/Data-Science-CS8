{
 "cells": [
  {
   "cell_type": "code",
   "execution_count": 1,
   "metadata": {
    "collapsed": true
   },
   "outputs": [],
   "source": [
    "\n",
    "import numpy as np\n",
    "import math\n",
    "from datascience import *\n",
    "\n",
    "# These lines set up the plotting functionality and formatting.\n",
    "import matplotlib"
   ]
  },
  {
   "cell_type": "code",
   "execution_count": 5,
   "metadata": {
    "collapsed": false
   },
   "outputs": [
    {
     "data": {
      "text/html": [
       "<table border=\"1\" class=\"dataframe\">\n",
       "    <thead>\n",
       "        <tr>\n",
       "            <th>year</th> <th>soc_name</th> <th>soc</th> <th>num_ppl</th> <th>num_ppl_moe</th> <th>wage_bin_name</th> <th>wage_bin</th>\n",
       "        </tr>\n",
       "    </thead>\n",
       "    <tbody>\n",
       "        <tr>\n",
       "            <td>2014</td> <td>Actuaries</td> <td>152011</td> <td>644    </td> <td>844.789    </td> <td>< 10K        </td> <td>A       </td>\n",
       "        </tr>\n",
       "    </tbody>\n",
       "        <tr>\n",
       "            <td>2014</td> <td>Actuaries</td> <td>152011</td> <td>829    </td> <td>638.834    </td> <td>$20-30K      </td> <td>C       </td>\n",
       "        </tr>\n",
       "    </tbody>\n",
       "        <tr>\n",
       "            <td>2014</td> <td>Actuaries</td> <td>152011</td> <td>143    </td> <td>197.196    </td> <td>$30-40K      </td> <td>D       </td>\n",
       "        </tr>\n",
       "    </tbody>\n",
       "        <tr>\n",
       "            <td>2014</td> <td>Actuaries</td> <td>152011</td> <td>1080   </td> <td>760.719    </td> <td>$40-50K      </td> <td>E       </td>\n",
       "        </tr>\n",
       "    </tbody>\n",
       "        <tr>\n",
       "            <td>2014</td> <td>Actuaries</td> <td>152011</td> <td>828    </td> <td>523.182    </td> <td>$50-60K      </td> <td>F       </td>\n",
       "        </tr>\n",
       "    </tbody>\n",
       "        <tr>\n",
       "            <td>2014</td> <td>Actuaries</td> <td>152011</td> <td>2416   </td> <td>787.474    </td> <td>$60-70K      </td> <td>G       </td>\n",
       "        </tr>\n",
       "    </tbody>\n",
       "        <tr>\n",
       "            <td>2014</td> <td>Actuaries</td> <td>152011</td> <td>3514   </td> <td>1207.44    </td> <td>$70-80K      </td> <td>H       </td>\n",
       "        </tr>\n",
       "    </tbody>\n",
       "        <tr>\n",
       "            <td>2014</td> <td>Actuaries</td> <td>152011</td> <td>3285   </td> <td>1138.68    </td> <td>$80-90K      </td> <td>I       </td>\n",
       "        </tr>\n",
       "    </tbody>\n",
       "        <tr>\n",
       "            <td>2014</td> <td>Actuaries</td> <td>152011</td> <td>3023   </td> <td>1186.02    </td> <td>$90-100K     </td> <td>J       </td>\n",
       "        </tr>\n",
       "    </tbody>\n",
       "        <tr>\n",
       "            <td>2014</td> <td>Actuaries</td> <td>152011</td> <td>2375   </td> <td>908.996    </td> <td>$100K-110    </td> <td>K       </td>\n",
       "        </tr>\n",
       "    </tbody>\n",
       "</table>\n",
       "<p>... (10 rows omitted)</p"
      ],
      "text/plain": [
       "year | soc_name  | soc    | num_ppl | num_ppl_moe | wage_bin_name | wage_bin\n",
       "2014 | Actuaries | 152011 | 644     | 844.789     | < 10K         | A\n",
       "2014 | Actuaries | 152011 | 829     | 638.834     | $20-30K       | C\n",
       "2014 | Actuaries | 152011 | 143     | 197.196     | $30-40K       | D\n",
       "2014 | Actuaries | 152011 | 1080    | 760.719     | $40-50K       | E\n",
       "2014 | Actuaries | 152011 | 828     | 523.182     | $50-60K       | F\n",
       "2014 | Actuaries | 152011 | 2416    | 787.474     | $60-70K       | G\n",
       "2014 | Actuaries | 152011 | 3514    | 1207.44     | $70-80K       | H\n",
       "2014 | Actuaries | 152011 | 3285    | 1138.68     | $80-90K       | I\n",
       "2014 | Actuaries | 152011 | 3023    | 1186.02     | $90-100K      | J\n",
       "2014 | Actuaries | 152011 | 2375    | 908.996     | $100K-110     | K\n",
       "... (10 rows omitted)"
      ]
     },
     "execution_count": 5,
     "metadata": {},
     "output_type": "execute_result"
    }
   ],
   "source": [
    "wages = Table.read_table('Data USA - Bar Chart of Wage Distribution for Actuaries-1.csv').relabeled(\"soc_name\", \"OCCUPATION\")\n",
    "wages2 = Table.read_table('Data USA - Bar Chart of Race & Ethnicity for Actuaries-2.csv')\n",
    "wages"
   ]
  },
  {
   "cell_type": "code",
   "execution_count": null,
   "metadata": {
    "collapsed": true
   },
   "outputs": [],
   "source": []
  }
 ],
 "metadata": {
  "kernelspec": {
   "display_name": "Python 3",
   "language": "python",
   "name": "python3"
  },
  "language_info": {
   "codemirror_mode": {
    "name": "ipython",
    "version": 3
   },
   "file_extension": ".py",
   "mimetype": "text/x-python",
   "name": "python",
   "nbconvert_exporter": "python",
   "pygments_lexer": "ipython3",
   "version": "3.4.4"
  }
 },
 "nbformat": 4,
 "nbformat_minor": 0
}

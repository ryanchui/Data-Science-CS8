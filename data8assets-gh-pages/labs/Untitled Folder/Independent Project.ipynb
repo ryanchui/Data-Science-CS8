{
 "cells": [
  {
   "cell_type": "code",
   "execution_count": 5,
   "metadata": {
    "collapsed": true
   },
   "outputs": [],
   "source": [
    "# Run this cell, but please don't change it.\n",
    "import numpy as np\n",
    "import math\n",
    "from datascience import *\n",
    "\n",
    "# These lines set up the plotting functionality and formatting.\n",
    "import matplotlib\n",
    "\n",
    "matplotlib.use('Agg', warn=False)\n",
    "%matplotlib inline\n",
    "import matplotlib.pyplot as plt\n",
    "plt.style.use('fivethirtyeight')\n",
    "\n",
    "import warnings\n",
    "warnings.simplefilter(action=\"ignore\", category=FutureWarning)\n",
    "\n",
    "# These lines load the tests.\n",
    "from client.api.assignment import load_assignment \n"
   ]
  },
  {
   "cell_type": "code",
   "execution_count": 29,
   "metadata": {
    "collapsed": false
   },
   "outputs": [
    {
     "data": {
      "text/html": [
       "<table border=\"1\" class=\"dataframe\">\n",
       "    <thead>\n",
       "        <tr>\n",
       "            <th>year</th> <th>naics_name</th> <th>naics</th> <th>soc_name</th> <th>soc</th> <th>num_ppl</th> <th>num_ppl_moe</th> <th>avg_wage</th> <th>avg_wage_moe</th>\n",
       "        </tr>\n",
       "    </thead>\n",
       "    <tbody>\n",
       "        <tr>\n",
       "            <td>2014</td> <td>Insurance carriers & related activities                     </td> <td>524  </td> <td>Actuaries</td> <td>152011</td> <td>22967  </td> <td>2919       </td> <td>123618  </td> <td>8831.45     </td>\n",
       "        </tr>\n",
       "    </tbody>\n",
       "        <tr>\n",
       "            <td>2014</td> <td>Management, scientific & technical consulting services      </td> <td>5416 </td> <td>Actuaries</td> <td>152011</td> <td>5266   </td> <td>1370.89    </td> <td>151097  </td> <td>24592.6     </td>\n",
       "        </tr>\n",
       "    </tbody>\n",
       "        <tr>\n",
       "            <td>2014</td> <td>Nondepository credit & related activities                   </td> <td>522M </td> <td>Actuaries</td> <td>152011</td> <td>503    </td> <td>403.435    </td> <td>84288.7 </td> <td>24552       </td>\n",
       "        </tr>\n",
       "    </tbody>\n",
       "        <tr>\n",
       "            <td>2014</td> <td>Securities, commodities, funds, trusts & other financial ...</td> <td>52M2 </td> <td>Actuaries</td> <td>152011</td> <td>732    </td> <td>684.601    </td> <td>144705  </td> <td>34816.8     </td>\n",
       "        </tr>\n",
       "    </tbody>\n",
       "</table>"
      ],
      "text/plain": [
       "year | naics_name                                                   | naics | soc_name  | soc    | num_ppl | num_ppl_moe | avg_wage | avg_wage_moe\n",
       "2014 | Insurance carriers & related activities                      | 524   | Actuaries | 152011 | 22967   | 2919        | 123618   | 8831.45\n",
       "2014 | Management, scientific & technical consulting services       | 5416  | Actuaries | 152011 | 5266    | 1370.89     | 151097   | 24592.6\n",
       "2014 | Nondepository credit & related activities                    | 522M  | Actuaries | 152011 | 503     | 403.435     | 84288.7  | 24552\n",
       "2014 | Securities, commodities, funds, trusts & other financial ... | 52M2  | Actuaries | 152011 | 732     | 684.601     | 144705   | 34816.8"
      ]
     },
     "execution_count": 29,
     "metadata": {},
     "output_type": "execute_result"
    }
   ],
   "source": [
    "gender = Table.read_table(\"Data USA - Bar Chart of Gender for Actuaries.csv\")\n",
    "gender\n",
    "Race1 = Table.read_table(\"Data USA - Bar Chart of Race & Ethnicity for Actuaries-1.csv\")\n",
    "Race1\n",
    "Race2 = Table.read_table(\"Data USA - Bar Chart of Race & Ethnicity for Actuaries-2.csv\")\n",
    "Race2\n",
    "a = Table.read_table(\"Data USA - Line Plot of Age by Gender for Actuaries.csv\")\n",
    "a\n",
    "b = Table.read_table(\"Data USA - Tree Map of Industries by Share for Actuaries.csv\")\n",
    "b\n",
    "d = Table.read_table(\"Data USA - Tree Map of Majors for Actuaries.csv\")\n",
    "d\n",
    "e = Table.read_table(\"Data USA - Tree Map of Universities for Actuaries.csv\")\n",
    "e.where(\"university_name\", \"University of California-Berkeley\")\n",
    "\n",
    "b"
   ]
  },
  {
   "cell_type": "code",
   "execution_count": null,
   "metadata": {
    "collapsed": true
   },
   "outputs": [],
   "source": []
  }
 ],
 "metadata": {
  "kernelspec": {
   "display_name": "Python 3",
   "language": "python",
   "name": "python3"
  },
  "language_info": {
   "codemirror_mode": {
    "name": "ipython",
    "version": 3
   },
   "file_extension": ".py",
   "mimetype": "text/x-python",
   "name": "python",
   "nbconvert_exporter": "python",
   "pygments_lexer": "ipython3",
   "version": "3.4.4"
  }
 },
 "nbformat": 4,
 "nbformat_minor": 0
}

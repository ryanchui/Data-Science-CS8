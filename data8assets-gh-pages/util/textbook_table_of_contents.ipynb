{
 "cells": [
  {
   "cell_type": "code",
   "execution_count": 5,
   "metadata": {
    "collapsed": true
   },
   "outputs": [],
   "source": [
    "import bs4\n",
    "import requests"
   ]
  },
  {
   "cell_type": "code",
   "execution_count": 6,
   "metadata": {
    "collapsed": false
   },
   "outputs": [
    {
     "name": "stderr",
     "output_type": "stream",
     "text": [
      "/Users/denero/anaconda/lib/python3.4/site-packages/bs4/__init__.py:166: UserWarning: No parser was explicitly specified, so I'm using the best available HTML parser for this system (\"lxml\"). This usually isn't a problem, but if you run this code on another system, or in a different virtual environment, it may use a different parser and behave differently.\n",
      "\n",
      "To get rid of this warning, change this:\n",
      "\n",
      " BeautifulSoup([your markup])\n",
      "\n",
      "to this:\n",
      "\n",
      " BeautifulSoup([your markup], \"lxml\")\n",
      "\n",
      "  markup_type=markup_type))\n"
     ]
    }
   ],
   "source": [
    "root = 'http://www.inferentialthinking.com'\n",
    "r = requests.get(root)\n",
    "soup = bs4.BeautifulSoup(r.text)"
   ]
  },
  {
   "cell_type": "code",
   "execution_count": 7,
   "metadata": {
    "collapsed": false
   },
   "outputs": [
    {
     "data": {
      "text/plain": [
       "50"
      ]
     },
     "execution_count": 7,
     "metadata": {},
     "output_type": "execute_result"
    }
   ],
   "source": [
    "chapters = soup.find_all('li', class_='chapter')\n",
    "len(chapters)"
   ]
  },
  {
   "cell_type": "code",
   "execution_count": 8,
   "metadata": {
    "collapsed": false
   },
   "outputs": [
    {
     "name": "stdout",
     "output_type": "stream",
     "text": [
      "0: <a href=\"http://www.inferentialthinking.com/index.html\" target=\"_blank\">0</a>\n",
      "1: <a href=\"http://www.inferentialthinking.com/chapter1/what-is-data-science.html\" target=\"_blank\">1</a>\n",
      "1.1: <a href=\"http://www.inferentialthinking.com/chapter1/intro.html\" target=\"_blank\">1.1</a>\n",
      "1.1.1: <a href=\"http://www.inferentialthinking.com/chapter1/computational-tools.html\" target=\"_blank\">1.1.1</a>\n",
      "1.1.2: <a href=\"http://www.inferentialthinking.com/chapter1/statistical-techniques.html\" target=\"_blank\">1.1.2</a>\n",
      "1.2: <a href=\"http://www.inferentialthinking.com/chapter1/why-data-science.html\" target=\"_blank\">1.2</a>\n",
      "1.2.1: <a href=\"http://www.inferentialthinking.com/chapter1/example-plotting-the-classics.html\" target=\"_blank\">1.2.1</a>\n",
      "1.3: <a href=\"http://www.inferentialthinking.com/chapter1/causality-and-experiments.html\" target=\"_blank\">1.3</a>\n",
      "1.3.1: <a href=\"http://www.inferentialthinking.com/chapter1/observation-and-visualization-john-snow-and-the-broad-street-pump.html\" target=\"_blank\">1.3.1</a>\n",
      "1.3.2: <a href=\"http://www.inferentialthinking.com/chapter1/snow-s-grand-experiment.html\" target=\"_blank\">1.3.2</a>\n",
      "1.3.3: <a href=\"http://www.inferentialthinking.com/chapter1/establishing-causality.html\" target=\"_blank\">1.3.3</a>\n",
      "1.3.4: <a href=\"http://www.inferentialthinking.com/chapter1/randomization.html\" target=\"_blank\">1.3.4</a>\n",
      "1.3.5: <a href=\"http://www.inferentialthinking.com/chapter1/endnote.html\" target=\"_blank\">1.3.5</a>\n",
      "1.4: <a href=\"http://www.inferentialthinking.com/chapter1/expressions.html\" target=\"_blank\">1.4</a>\n",
      "1.4.1: <a href=\"http://www.inferentialthinking.com/chapter1/names.html\" target=\"_blank\">1.4.1</a>\n",
      "1.4.2: <a href=\"http://www.inferentialthinking.com/chapter1/example-growth-rates.html\" target=\"_blank\">1.4.2</a>\n",
      "1.4.3: <a href=\"http://www.inferentialthinking.com/chapter1/call-expressions.html\" target=\"_blank\">1.4.3</a>\n",
      "1.4.4: <a href=\"http://www.inferentialthinking.com/chapter1/data-types.html\" target=\"_blank\">1.4.4</a>\n",
      "1.4.5: <a href=\"http://www.inferentialthinking.com/chapter1/comparisons.html\" target=\"_blank\">1.4.5</a>\n",
      "1.5: <a href=\"http://www.inferentialthinking.com/chapter1/sequences.html\" target=\"_blank\">1.5</a>\n",
      "1.5.1: <a href=\"http://www.inferentialthinking.com/chapter1/arrays.html\" target=\"_blank\">1.5.1</a>\n",
      "1.5.2: <a href=\"http://www.inferentialthinking.com/chapter1/ranges.html\" target=\"_blank\">1.5.2</a>\n",
      "1.6: <a href=\"http://www.inferentialthinking.com/chapter1/tables.html\" target=\"_blank\">1.6</a>\n",
      "1.6.1: <a href=\"http://www.inferentialthinking.com/chapter1/functions.html\" target=\"_blank\">1.6.1</a>\n",
      "1.6.2: <a href=\"http://www.inferentialthinking.com/chapter1/categories.html\" target=\"_blank\">1.6.2</a>\n",
      "2: <a href=\"http://www.inferentialthinking.com/chapter2/intro.html\" target=\"_blank\">2</a>\n",
      "2.1: <a href=\"http://www.inferentialthinking.com/chapter2/charts.html\" target=\"_blank\">2.1</a>\n",
      "2.2: <a href=\"http://www.inferentialthinking.com/chapter2/histograms.html\" target=\"_blank\">2.2</a>\n",
      "3: <a href=\"http://www.inferentialthinking.com/chapter3/intro.html\" target=\"_blank\">3</a>\n",
      "3.1: <a href=\"http://www.inferentialthinking.com/chapter3/sampling.html\" target=\"_blank\">3.1</a>\n",
      "3.2: <a href=\"http://www.inferentialthinking.com/chapter3/iteration.html\" target=\"_blank\">3.2</a>\n",
      "3.3: <a href=\"http://www.inferentialthinking.com/chapter3/estimation.html\" target=\"_blank\">3.3</a>\n",
      "3.4: <a href=\"http://www.inferentialthinking.com/chapter3/center.html\" target=\"_blank\">3.4</a>\n",
      "3.5: <a href=\"http://www.inferentialthinking.com/chapter3/spread.html\" target=\"_blank\">3.5</a>\n",
      "3.6: <a href=\"http://www.inferentialthinking.com/chapter3/normal.html\" target=\"_blank\">3.6</a>\n",
      "3.7: <a href=\"http://www.inferentialthinking.com/chapter3/privacy.html\" target=\"_blank\">3.7</a>\n",
      "4: <a href=\"http://www.inferentialthinking.com/chapter4/intro.html\" target=\"_blank\">4</a>\n",
      "4.1: <a href=\"http://www.inferentialthinking.com/chapter4/correlation.html\" target=\"_blank\">4.1</a>\n",
      "4.2: <a href=\"http://www.inferentialthinking.com/chapter4/regression.html\" target=\"_blank\">4.2</a>\n",
      "4.3: <a href=\"http://www.inferentialthinking.com/chapter4/prediction.html\" target=\"_blank\">4.3</a>\n",
      "4.4: <a href=\"http://www.inferentialthinking.com/chapter4/hof.html\" target=\"_blank\">4.4</a>\n",
      "4.5: <a href=\"http://www.inferentialthinking.com/chapter4/errors.html\" target=\"_blank\">4.5</a>\n",
      "4.6: <a href=\"http://www.inferentialthinking.com/chapter4/multiple.html\" target=\"_blank\">4.6</a>\n",
      "4.7: <a href=\"http://www.inferentialthinking.com/chapter4/classification.html\" target=\"_blank\">4.7</a>\n",
      "4.8: <a href=\"http://www.inferentialthinking.com/chapter4/features.html\" target=\"_blank\">4.8</a>\n",
      "5: <a href=\"http://www.inferentialthinking.com/chapter5/intro.html\" target=\"_blank\">5</a>\n",
      "5.1: <a href=\"http://www.inferentialthinking.com/chapter5/confidence.html\" target=\"_blank\">5.1</a>\n",
      "5.2: <a href=\"http://www.inferentialthinking.com/chapter5/distance.html\" target=\"_blank\">5.2</a>\n",
      "5.3: <a href=\"http://www.inferentialthinking.com/chapter5/testing.html\" target=\"_blank\">5.3</a>\n",
      "5.4: <a href=\"http://www.inferentialthinking.com/chapter5/permutation.html\" target=\"_blank\">5.4</a>\n"
     ]
    }
   ],
   "source": [
    "for c in chapters:\n",
    "    print('{section}: <a href=\"{root}/{path}\" target=\"_blank\">{section}</a>'.format(\n",
    "            root=root, path=c['data-path'], section=c['data-level']))"
   ]
  },
  {
   "cell_type": "code",
   "execution_count": null,
   "metadata": {
    "collapsed": true
   },
   "outputs": [],
   "source": []
  },
  {
   "cell_type": "code",
   "execution_count": null,
   "metadata": {
    "collapsed": true
   },
   "outputs": [],
   "source": []
  }
 ],
 "metadata": {
  "kernelspec": {
   "display_name": "Python 3",
   "language": "python",
   "name": "python3"
  },
  "language_info": {
   "codemirror_mode": {
    "name": "ipython",
    "version": 3
   },
   "file_extension": ".py",
   "mimetype": "text/x-python",
   "name": "python",
   "nbconvert_exporter": "python",
   "pygments_lexer": "ipython3",
   "version": "3.4.4"
  }
 },
 "nbformat": 4,
 "nbformat_minor": 0
}

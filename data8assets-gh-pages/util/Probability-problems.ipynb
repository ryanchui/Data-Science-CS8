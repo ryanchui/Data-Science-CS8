{
 "cells": [
  {
   "cell_type": "markdown",
   "metadata": {},
   "source": [
    "# Hello, Core Infrastucture Person!\n",
    "\n",
    "Welcome to the team!\n",
    "\n",
    "This is a [Jupyter Notebook](http://jupyter.org/). Students in [Data 8][data8] use\n",
    "these to complete their labs, homeworks, and projects. Today, you'll get to see what\n",
    "students experience.\n",
    "\n",
    "[data8]: https://data-8.appspot.com/sp16/course\n",
    "\n",
    "[Peter Norvig](http://norvig.com/) originally made this to demonstrate probability paradoxes.  I've changed the notebook a bit to add questions that you can answer.\n",
    "\n",
    "Whenever you see a **Fill me in.**, go ahead and solve the problem.\n",
    "\n",
    "I hope that you'll get to appreciate the coolness of our JupyterHub platform through this\n",
    "notebook and learn something new about probability in the process!"
   ]
  },
  {
   "cell_type": "markdown",
   "metadata": {
    "button": false,
    "deletable": true,
    "new_sheet": false,
    "run_control": {
     "read_only": false
    }
   },
   "source": [
    "<div style=\"text-align: right\">Peter Norvig, 3 Oct 2015, revised 27 Oct 2015; 9 Feb 2016</div> \n",
    "\n",
    "# Probability, Paradox, and the Reasonable Person Principle\n",
    "\n",
    "In this notebook, we cover the basics of probability theory, and show how to implement the theory in Python. (You should have a little background in [probability](http://www.dartmouth.edu/~chance/teaching_aids/books_articles/probability_book/pdf.html) and [Python](https://www.python.org/about/gettingstarted/).) Then we show how to solve a profusion of particularly perplexing paradoxical probability problems.\n",
    "\n",
    "Over 200 years ago, [Pierre-Simon Laplace](https://en.wikipedia.org/wiki/Pierre-Simon_Laplace) [wrote](https://en.wikipedia.org/wiki/Classical_definition_of_probability):\n",
    "\n",
    ">*The probability of an event is the ratio of the number of cases favorable to it, to the number of all cases possible, when [the cases are] equally possible. ... Probability is thus simply a fraction whose numerator is the number of favorable cases and whose denominator is the number of all the cases possible.*\n",
    "\n",
    "Laplace really nailed it, way back then. If you want to untangle a probability problem, all you have to do is be methodical about defining exactly what the cases are, and then careful in counting the number of favorable and total cases. We'll start being methodical by defining terms:\n",
    "\n",
    "\n",
    "- **[Experiment](https://en.wikipedia.org/wiki/Experiment_(probability_theory%29):**\n",
    "  An occurrence with an uncertain outcome that we can observe.\n",
    "  <br>*For example, rolling a die.*\n",
    "- **[Outcome](https://en.wikipedia.org/wiki/Outcome_(probability%29):**\n",
    "  The result of an experiment; one particular state of the world. What Laplace calls a \"case.\"\n",
    "  <br>*For example:* `6`.\n",
    "- **[Sample Space](https://en.wikipedia.org/wiki/Sample_space):**\n",
    "  The set of all possible outcomes for the experiment. \n",
    "  <br>*For example,* `{1, 2, 3, 4, 5, 6}`.\n",
    "- **[Event](https://en.wikipedia.org/wiki/Event_(probability_theory%29):**\n",
    "  A subset of possible outcomes that together have some property we are interested in.\n",
    "  <br>*For example, the event \"even die roll\" is the set of outcomes* `{2, 4, 6}`. \n",
    "- **[Probability](https://en.wikipedia.org/wiki/Probability_theory):**\n",
    "  The probability of an event is the expected proportion of times that an exxperiment would yield an outcome that is part of the event. Under the assumption that all outcomes in the sample space are equally likely, this is the number of possible outcomes in the event divided by the number in the sample space.\n",
    "  <br>*For example, the probability of an even outcome from a six-sided die is*:\n",
    "  <br>`|{2, 4, 6}| / |{1, 2, 3, 4, 5, 6}| = 3/6 = 1/2.`\n",
    "\n",
    "# Code for `P` \n",
    "\n",
    "The traditional name is `P` for Probability:"
   ]
  },
  {
   "cell_type": "code",
   "execution_count": null,
   "metadata": {
    "button": false,
    "collapsed": false,
    "deletable": true,
    "new_sheet": false,
    "run_control": {
     "read_only": false
    }
   },
   "outputs": [],
   "source": [
    "from fractions import Fraction\n",
    "from __future__ import division\n",
    "\n",
    "def P(event, space): \n",
    "    \"The probability of an event, given a sample space of equiprobable outcomes.\"\n",
    "    return Fraction(len(event & space), len(space))"
   ]
  },
  {
   "cell_type": "markdown",
   "metadata": {
    "button": false,
    "deletable": true,
    "new_sheet": false,
    "run_control": {
     "read_only": false
    }
   },
   "source": [
    "Read this as implementing Laplace's quote directly: *\"Probability is thus simply a fraction whose numerator is the number of favorable cases [outcomes in the intersection of the sample space and the event] and whose denominator is the number of all the cases possible [the sample space].\"* Note I use `Fraction` rather than regular division because I want exact answers like 1/3, not 0.3333333333333333.  \n",
    "\n",
    "# Warm-up Problem: Die Roll"
   ]
  },
  {
   "cell_type": "markdown",
   "metadata": {
    "button": false,
    "deletable": true,
    "new_sheet": false,
    "run_control": {
     "read_only": false
    }
   },
   "source": [
    "What's the probability of rolling an even number with a single six-sided fair die? \n",
    "\n",
    "We'll call the sample space `D`:"
   ]
  },
  {
   "cell_type": "code",
   "execution_count": null,
   "metadata": {
    "button": false,
    "collapsed": false,
    "deletable": true,
    "new_sheet": false,
    "run_control": {
     "read_only": false
    }
   },
   "outputs": [],
   "source": [
    "D = {1, 2, 3, 4, 5, 6}"
   ]
  },
  {
   "cell_type": "markdown",
   "metadata": {
    "button": false,
    "deletable": true,
    "new_sheet": false,
    "run_control": {
     "read_only": false
    }
   },
   "source": [
    "The probability of the event of \"*rolling an even number*\" is:"
   ]
  },
  {
   "cell_type": "code",
   "execution_count": null,
   "metadata": {
    "button": false,
    "collapsed": false,
    "deletable": true,
    "new_sheet": false,
    "run_control": {
     "read_only": false
    }
   },
   "outputs": [],
   "source": [
    "even = {2, 4, 6}\n",
    "\n",
    "P(even, D)"
   ]
  },
  {
   "cell_type": "markdown",
   "metadata": {},
   "source": [
    "**Fill me in.** What is the probability of the event of *\"rolling a one or a six\"*?"
   ]
  },
  {
   "cell_type": "code",
   "execution_count": null,
   "metadata": {
    "collapsed": true
   },
   "outputs": [],
   "source": []
  },
  {
   "cell_type": "markdown",
   "metadata": {
    "button": false,
    "deletable": true,
    "new_sheet": false,
    "run_control": {
     "read_only": false
    }
   },
   "source": [
    "# More Warm-Up Problems: Balls in Urns\n",
    "\n",
    "Around 1700, [Jacob Bernoulli](https://en.wikipedia.org/wiki/Jacob_Bernoulli), wrote about drawing colored balls from an urn in his landmark treatise *[Ars Conjectandi](https://en.wikipedia.org/wiki/Ars_Conjectandi)*, and ever since then, explanations of probability have relied on [drawing balls from urns](https://www.google.com/webhp?sourceid=chrome-instant&ion=1&espv=2&ie=UTF-8#q=probability%20ball%20urn). (You'd think the urns would be empty by now.) \n",
    "\n",
    "We might as well try a few of these problems.  For example, here are [four related problems](http://mathforum.org/library/drmath/view/69151.html) adapted from mathforum.org:\n",
    "\n",
    "> An urn contains 23 balls: 8 white, 6 blue, and 9 red.  We select six balls at random (meaning, each possible selection is equally likely) from the urn. What is the probability of each of these possible outcomes:\n",
    "\n",
    "> 1. all balls are red\n",
    "2. 3 are blue, 2 are white, and 1 is red\n",
    "3. 2 are blue and 4 are red\n",
    "4. exactly 4 balls are white\n",
    "\n",
    "So, an outcome is a set of 6 balls, and the sample space is the set of all possible 6 ball combinations. We'll solve each problem using our `P` function, and also using basic arithmetic; that is, *counting*. There are two aspects of these kinds of problems that make counting tricky:\n",
    "- We have multiple balls of the same color. \n",
    "- An outcome is a set of balls, where order doesn't matter, but it is often easier to count with sequences of balls, where order does matter.\n",
    "\n",
    "To account for the first aspect, I'll have 8 different white balls labelled `'W1'` through `'W8'`, rather than having eight balls all labelled `'W'`.  That makes it clear that selecting `'W1'` is different from selecting `'W2'`.\n",
    "\n",
    "To account for the second aspect, I will sometimes first count the number of *permutations* of balls, then get the number of *combinations* by dividing the number of permutations by $c!$, where $c$ is the number of balls in a combination. For example, if I want to choose 2 white balls from the 8 available, there are 8 ways to choose a first white ball and 7 ways to choose a second, and therefore 8 &times; 7 = 56 permutations of two white balls. But there are only 56 / 2 = 28 combinations, because `(W1, W2)` is the same combination as `(W2, W1)`.\n",
    "\n",
    "Let's solve the four problems. First, we'll define the contents of the urn:"
   ]
  },
  {
   "cell_type": "code",
   "execution_count": null,
   "metadata": {
    "button": false,
    "collapsed": false,
    "deletable": true,
    "new_sheet": false,
    "run_control": {
     "read_only": false
    }
   },
   "outputs": [],
   "source": [
    "def cross(A, B):\n",
    "    \"The set of all ways of concatenating one item from the iterable 'A' with one from 'B'.\"\n",
    "    return {a + b \n",
    "            for a in A for b in B}\n",
    "\n",
    "urn = cross('W', '12345678') | cross('B', '123456') | cross('R', '123456789') \n",
    "\n",
    "urn"
   ]
  },
  {
   "cell_type": "code",
   "execution_count": null,
   "metadata": {
    "button": false,
    "collapsed": false,
    "deletable": true,
    "new_sheet": false,
    "run_control": {
     "read_only": false
    }
   },
   "outputs": [],
   "source": [
    "len(urn)"
   ]
  },
  {
   "cell_type": "markdown",
   "metadata": {
    "button": false,
    "deletable": true,
    "new_sheet": false,
    "run_control": {
     "read_only": false
    }
   },
   "source": [
    "`U6` will be the sample space.  We use `itertools.combinations` to generate all combinations of 6 balls from the urn, and we then join each combination into a string:"
   ]
  },
  {
   "cell_type": "code",
   "execution_count": null,
   "metadata": {
    "button": false,
    "collapsed": false,
    "deletable": true,
    "new_sheet": false,
    "run_control": {
     "read_only": false
    }
   },
   "outputs": [],
   "source": [
    "import itertools\n",
    "\n",
    "U6 = {' '.join(combo)\n",
    "      for combo in itertools.combinations(urn, 6)}\n",
    "\n",
    "len(U6)"
   ]
  },
  {
   "cell_type": "markdown",
   "metadata": {
    "button": false,
    "deletable": true,
    "new_sheet": false,
    "run_control": {
     "read_only": false
    }
   },
   "source": [
    "I don't want to print the whole sample space (since it is pretty big); let's just peek at a random sample of them:"
   ]
  },
  {
   "cell_type": "code",
   "execution_count": null,
   "metadata": {
    "button": false,
    "collapsed": false,
    "deletable": true,
    "new_sheet": false,
    "run_control": {
     "read_only": false
    }
   },
   "outputs": [],
   "source": [
    "import random\n",
    "\n",
    "random.sample(U6, 10)"
   ]
  },
  {
   "cell_type": "markdown",
   "metadata": {
    "button": false,
    "deletable": true,
    "new_sheet": false,
    "run_control": {
     "read_only": false
    }
   },
   "source": [
    "Is 100,947 really the right number of ways of choosing 6 out of 23 items, or  \"23 choose 6\", as  mathematicians [call it](https://en.wikipedia.org/wiki/Combination)?  Well, we can choose any of 23 for the first item, any of 22 for the second, and so on down to 18 for the sixth. But we don't care about the ordering of the six items, so we divide the product by 6! (the number of permutations of 6 things) giving us:\n",
    "\n",
    "$$23 ~\\mbox{choose}~ 6 = \\frac{23 \\cdot 22 \\cdot 21 \\cdot 20 \\cdot 19 \\cdot 18}{6!} = 100947$$\n",
    "\n",
    "Note that $23 \\cdot 22 \\cdot 21 \\cdot 20 \\cdot 19 \\cdot 18 = 23! \\;/\\; 17!$, so, generalizing, we can write:\n",
    "\n",
    "$$n ~\\mbox{choose}~ c = \\frac{n!}{(n - c)! \\cdot c!}$$\n",
    "\n",
    "And we can translate that to code and verify that 23 choose 6 is 100,947:"
   ]
  },
  {
   "cell_type": "code",
   "execution_count": null,
   "metadata": {
    "button": false,
    "collapsed": true,
    "deletable": true,
    "new_sheet": false,
    "run_control": {
     "read_only": false
    }
   },
   "outputs": [],
   "source": [
    "from math import factorial\n",
    "\n",
    "def choose(n, c):\n",
    "    \"Number of ways to choose c items from a list of n items.\"\n",
    "    return factorial(n) // (factorial(n - c) * factorial(c))"
   ]
  },
  {
   "cell_type": "code",
   "execution_count": null,
   "metadata": {
    "button": false,
    "collapsed": false,
    "deletable": true,
    "new_sheet": false,
    "run_control": {
     "read_only": false
    }
   },
   "outputs": [],
   "source": [
    "choose(23, 6)"
   ]
  },
  {
   "cell_type": "markdown",
   "metadata": {
    "button": false,
    "deletable": true,
    "new_sheet": false,
    "run_control": {
     "read_only": false
    }
   },
   "source": [
    "Now we're ready to answer the 4 problems: \n",
    "\n",
    "**Fill me in. Urn Problem 1:** what's the probability of selecting 6 red balls? "
   ]
  },
  {
   "cell_type": "code",
   "execution_count": null,
   "metadata": {
    "button": false,
    "collapsed": false,
    "deletable": true,
    "new_sheet": false,
    "run_control": {
     "read_only": false
    }
   },
   "outputs": [],
   "source": [
    "red6 = ...\n",
    "\n",
    "P(red6, U6)"
   ]
  },
  {
   "cell_type": "markdown",
   "metadata": {
    "button": false,
    "deletable": true,
    "new_sheet": false,
    "run_control": {
     "read_only": false
    }
   },
   "source": [
    "Let's investigate a bit more. How many ways of getting 6 red balls are there?"
   ]
  },
  {
   "cell_type": "code",
   "execution_count": null,
   "metadata": {
    "button": false,
    "collapsed": false,
    "deletable": true,
    "new_sheet": false,
    "run_control": {
     "read_only": false
    }
   },
   "outputs": [],
   "source": [
    "... # should evaluate to 84"
   ]
  },
  {
   "cell_type": "markdown",
   "metadata": {
    "button": false,
    "deletable": true,
    "new_sheet": false,
    "run_control": {
     "read_only": false
    }
   },
   "source": [
    "Why are there 84 ways?  Because there are 9 red balls in total, and we are asking how many ways we can choose 6 of them:"
   ]
  },
  {
   "cell_type": "code",
   "execution_count": null,
   "metadata": {
    "button": false,
    "collapsed": false,
    "deletable": true,
    "new_sheet": false,
    "run_control": {
     "read_only": false
    }
   },
   "outputs": [],
   "source": [
    "choose(9, 6)"
   ]
  },
  {
   "cell_type": "markdown",
   "metadata": {
    "button": false,
    "deletable": true,
    "new_sheet": false,
    "run_control": {
     "read_only": false
    }
   },
   "source": [
    "So the probabilty of 6 red balls is then just 9 choose 6 divided by the size of the sample space:"
   ]
  },
  {
   "cell_type": "code",
   "execution_count": null,
   "metadata": {
    "button": false,
    "collapsed": false,
    "deletable": true,
    "new_sheet": false,
    "run_control": {
     "read_only": false
    }
   },
   "outputs": [],
   "source": [
    "P(red6, U6) == Fraction(choose(9, 6), \n",
    "                        len(U6))"
   ]
  },
  {
   "cell_type": "markdown",
   "metadata": {
    "button": false,
    "deletable": true,
    "new_sheet": false,
    "run_control": {
     "read_only": false
    }
   },
   "source": [
    "**Fill me in. Urn Problem 2:** what is the probability of 3 blue, 2 white, and 1 red?"
   ]
  },
  {
   "cell_type": "code",
   "execution_count": null,
   "metadata": {
    "button": false,
    "collapsed": false,
    "deletable": true,
    "new_sheet": false,
    "run_control": {
     "read_only": false
    }
   },
   "outputs": [],
   "source": [
    "b3w2r1 = ...\n",
    "\n",
    "P(b3w2r1, U6)"
   ]
  },
  {
   "cell_type": "markdown",
   "metadata": {
    "button": false,
    "deletable": true,
    "new_sheet": false,
    "run_control": {
     "read_only": false
    }
   },
   "source": [
    "We can get the same answer by counting how many ways we can choose 3 out of 6 blues, 2 out of 8 whites, and 1 out of 9 reds, and dividing by the number of possible selections:"
   ]
  },
  {
   "cell_type": "code",
   "execution_count": null,
   "metadata": {
    "button": false,
    "collapsed": false,
    "deletable": true,
    "new_sheet": false,
    "run_control": {
     "read_only": false
    }
   },
   "outputs": [],
   "source": [
    "P(b3w2r1, U6) == Fraction(choose(6, 3) * choose(8, 2) * choose(9, 1), \n",
    "                          len(U6))"
   ]
  },
  {
   "cell_type": "markdown",
   "metadata": {
    "button": false,
    "deletable": true,
    "new_sheet": false,
    "run_control": {
     "read_only": false
    }
   },
   "source": [
    "Here we don't need to divide by any factorials, because `choose` has already accounted for that. \n",
    "\n",
    "We can get the same answer by figuring: \"there are 6 ways to pick the first blue, 5 ways to pick the second blue, and 4 ways to pick the third; then 8 ways to pick the first white and 7 to pick the second; then 9 ways to pick a red. But the order `'B1, B2, B3'` should count as the same as `'B2, B3, B1'` and all the other orderings; so divide by 3! to account for the permutations of blues, by 2! to account for the permutations of whites, and by 100947 to get a probability:"
   ]
  },
  {
   "cell_type": "code",
   "execution_count": null,
   "metadata": {
    "button": false,
    "collapsed": false,
    "deletable": true,
    "new_sheet": false,
    "run_control": {
     "read_only": false
    }
   },
   "outputs": [],
   "source": [
    " P(b3w2r1, U6) == Fraction((6 * 5 * 4) * (8 * 7) * 9, \n",
    "                           factorial(3) * factorial(2) * len(U6))"
   ]
  },
  {
   "cell_type": "markdown",
   "metadata": {
    "button": false,
    "deletable": true,
    "new_sheet": false,
    "run_control": {
     "read_only": false
    }
   },
   "source": [
    "**Fill me in. Urn Problem 3:** What is the probability of 2 blue and 4 red balls? \n",
    "\n",
    "We can solve it the same three ways:"
   ]
  },
  {
   "cell_type": "code",
   "execution_count": null,
   "metadata": {
    "button": false,
    "collapsed": false,
    "deletable": true,
    "new_sheet": false,
    "run_control": {
     "read_only": false
    }
   },
   "outputs": [],
   "source": [
    "b2r4 = ...\n",
    "\n",
    "P(b2r4, U6)"
   ]
  },
  {
   "cell_type": "code",
   "execution_count": null,
   "metadata": {
    "button": false,
    "collapsed": false,
    "deletable": true,
    "new_sheet": false,
    "run_control": {
     "read_only": false
    }
   },
   "outputs": [],
   "source": [
    "P(b2r4, U6) == Fraction(...) # Fill in using choose() and dividing by len(U6)"
   ]
  },
  {
   "cell_type": "code",
   "execution_count": null,
   "metadata": {
    "button": false,
    "collapsed": false,
    "deletable": true,
    "new_sheet": false,
    "run_control": {
     "read_only": false
    }
   },
   "outputs": [],
   "source": [
    "P(b2r4, U6) == Fraction(...) # Fill in like the third method for the previous\n",
    "                             # problem."
   ]
  },
  {
   "cell_type": "markdown",
   "metadata": {
    "button": false,
    "deletable": true,
    "new_sheet": false,
    "run_control": {
     "read_only": false
    }
   },
   "source": [
    "**Fill me in. Urn Problem 4:** What is the probability of exactly 4 white balls?\n",
    "\n",
    "We can interpret this as choosing 4 out of the 8 white balls, and 2 out of the 15 non-white balls. Then we can solve it the same three ways:"
   ]
  },
  {
   "cell_type": "code",
   "execution_count": null,
   "metadata": {
    "button": false,
    "collapsed": false,
    "deletable": true,
    "new_sheet": false,
    "run_control": {
     "read_only": false
    }
   },
   "outputs": [],
   "source": [
    "w4 = {s for s in U6 if\n",
    "      s.count('W') == 4}\n",
    "\n",
    "P(w4, U6)"
   ]
  },
  {
   "cell_type": "code",
   "execution_count": null,
   "metadata": {
    "button": false,
    "collapsed": false,
    "deletable": true,
    "new_sheet": false,
    "run_control": {
     "read_only": false
    }
   },
   "outputs": [],
   "source": [
    "P(w4, U6) == Fraction(choose(8, 4) * choose(15, 2),\n",
    "                      len(U6))"
   ]
  },
  {
   "cell_type": "code",
   "execution_count": null,
   "metadata": {
    "button": false,
    "collapsed": false,
    "deletable": true,
    "new_sheet": false,
    "run_control": {
     "read_only": false
    }
   },
   "outputs": [],
   "source": [
    "P(w4, U6) == Fraction((8 * 7 * 6 * 5) * (15 * 14),\n",
    "                      factorial(4) * factorial(2) * len(U6))"
   ]
  },
  {
   "cell_type": "markdown",
   "metadata": {
    "button": false,
    "deletable": true,
    "new_sheet": false,
    "run_control": {
     "read_only": false
    }
   },
   "source": [
    "# Revised Version of `P`, accepting a predicate for the event\n",
    "\n",
    "To calculate the probability of an even die roll, I said\n",
    "\n",
    "    even = {2, 4, 6}\n",
    "    \n",
    "But that's inelegant&mdash;I had to explicitly enumerate all the even numbers from one to six. If I ever wanted to deal with a different kind of die, say a twelve or twenty-sided die, I would have to go back and change the definition of `even`.  I would prefer to define `even` once and for all like this:"
   ]
  },
  {
   "cell_type": "code",
   "execution_count": null,
   "metadata": {
    "button": false,
    "collapsed": true,
    "deletable": true,
    "new_sheet": false,
    "run_control": {
     "read_only": false
    }
   },
   "outputs": [],
   "source": [
    "def even(n): return n % 2 == 0"
   ]
  },
  {
   "cell_type": "markdown",
   "metadata": {
    "button": false,
    "deletable": true,
    "new_sheet": false,
    "run_control": {
     "read_only": false
    }
   },
   "source": [
    "Now in order to make `P(even, D)` work, I'll have to modify `P` to accept an event as either\n",
    "a *set* of outcomes (as before), or a *predicate* over outcomes that returns true for each outcome in the event:"
   ]
  },
  {
   "cell_type": "code",
   "execution_count": null,
   "metadata": {
    "button": false,
    "collapsed": true,
    "deletable": true,
    "new_sheet": false,
    "run_control": {
     "read_only": false
    }
   },
   "outputs": [],
   "source": [
    "def P(event, space): \n",
    "    \"\"\"The probability of an event, given a sample space of equiprobable outcomes.\n",
    "    event can be either a set of outcomes, or a predicate (true for outcomes in the event).\"\"\"\n",
    "    if callable(event):\n",
    "        event = such_that(event, space)\n",
    "    return Fraction(len(event & space), len(space))\n",
    "\n",
    "def such_that(predicate, collection): \n",
    "    \"The subset of elements in the collection for which the predicate is true.\"\n",
    "    return {e for e in collection if predicate(e)}"
   ]
  },
  {
   "cell_type": "markdown",
   "metadata": {
    "button": false,
    "deletable": true,
    "new_sheet": false,
    "run_control": {
     "read_only": false
    }
   },
   "source": [
    "Here we see how `such_that`, the new `even` predicate, and the new `P` work:"
   ]
  },
  {
   "cell_type": "code",
   "execution_count": null,
   "metadata": {
    "button": false,
    "collapsed": false,
    "deletable": true,
    "new_sheet": false,
    "run_control": {
     "read_only": false
    }
   },
   "outputs": [],
   "source": [
    "such_that(even, D)"
   ]
  },
  {
   "cell_type": "code",
   "execution_count": null,
   "metadata": {
    "button": false,
    "collapsed": false,
    "deletable": true,
    "new_sheet": false,
    "run_control": {
     "read_only": false
    }
   },
   "outputs": [],
   "source": [
    "P(even, D)"
   ]
  },
  {
   "cell_type": "code",
   "execution_count": null,
   "metadata": {
    "button": false,
    "collapsed": false,
    "deletable": true,
    "new_sheet": false,
    "run_control": {
     "read_only": false
    }
   },
   "outputs": [],
   "source": [
    "D12 = {1, 2, 3, 4, 5, 6, 7, 8, 9, 10, 11, 12}\n",
    "\n",
    "such_that(even, D12)"
   ]
  },
  {
   "cell_type": "code",
   "execution_count": null,
   "metadata": {
    "button": false,
    "collapsed": false,
    "deletable": true,
    "new_sheet": false,
    "run_control": {
     "read_only": false
    }
   },
   "outputs": [],
   "source": [
    "P(even, D12)"
   ]
  },
  {
   "cell_type": "markdown",
   "metadata": {
    "button": false,
    "deletable": true,
    "new_sheet": false,
    "run_control": {
     "read_only": false
    }
   },
   "source": [
    "(Note: `such_that` is just like the built-in function `filter`, except `such_that` returns a set.)"
   ]
  },
  {
   "cell_type": "markdown",
   "metadata": {
    "button": false,
    "deletable": true,
    "new_sheet": false,
    "run_control": {
     "read_only": false
    }
   },
   "source": [
    "# The Two Child Paradoxes\n",
    "\n",
    "In 1959, [Martin Gardner posed](https://en.wikipedia.org/wiki/Boy_or_Girl_paradox) these two problems:\n",
    "\n",
    "- **Problem 1.** Mr. Jones has two children. The older child is a boy. What is the\n",
    "probability that both children are boys?\n",
    "\n",
    "- **Problem 2.** Mr. Smith has two children. At least one of them is a boy. What is\n",
    "the probability that both children are boys? \n",
    "\n",
    "Then in 2006, Mike & Tom Starbird came up with a variant, which Gary Foshee introduced to Gardner fans in 2010:\n",
    "\n",
    "- **Problem 3.** I have two children. At least one of them is a boy born on Tuesday. What is\n",
    "the probability that both children are boys? \n",
    "\n",
    "Problems 2 and 3 are considered *paradoxes* because they have surprising answers that people\n",
    "argue about. \n",
    "\n",
    "(*Note:* Assume the probability of a boy is exactly 1/2, and is independent of any siblings.)"
   ]
  },
  {
   "cell_type": "markdown",
   "metadata": {
    "button": false,
    "deletable": true,
    "new_sheet": false,
    "run_control": {
     "read_only": false
    }
   },
   "source": [
    "## Problem 1: Older child is a boy. What is the probability both are boys?\n",
    "\n",
    "We use `'BG'` to denote the outcome in which the older child is a boy and the younger a girl. The sample space, `S`, is:"
   ]
  },
  {
   "cell_type": "code",
   "execution_count": null,
   "metadata": {
    "button": false,
    "collapsed": true,
    "deletable": true,
    "new_sheet": false,
    "run_control": {
     "read_only": false
    }
   },
   "outputs": [],
   "source": [
    "S = {'BG', 'BB', 'GB', 'GG'}"
   ]
  },
  {
   "cell_type": "markdown",
   "metadata": {
    "button": false,
    "collapsed": false,
    "deletable": true,
    "new_sheet": false,
    "run_control": {
     "read_only": false
    }
   },
   "source": [
    "Let's define predicates for the conditions of having two boys, and of the older child being a boy:"
   ]
  },
  {
   "cell_type": "code",
   "execution_count": null,
   "metadata": {
    "button": false,
    "collapsed": false,
    "deletable": true,
    "new_sheet": false,
    "run_control": {
     "read_only": false
    }
   },
   "outputs": [],
   "source": [
    "def two_boys(outcome): return outcome.count('B') == 2\n",
    "\n",
    "def older_is_a_boy(outcome): return outcome.startswith('B')"
   ]
  },
  {
   "cell_type": "markdown",
   "metadata": {
    "button": false,
    "deletable": true,
    "new_sheet": false,
    "run_control": {
     "read_only": false
    }
   },
   "source": [
    "Now we can answer Problem 1:\n",
    "\n",
    "**Fill me in.**"
   ]
  },
  {
   "cell_type": "code",
   "execution_count": null,
   "metadata": {
    "button": false,
    "collapsed": false,
    "deletable": true,
    "new_sheet": false,
    "run_control": {
     "read_only": false
    }
   },
   "outputs": [],
   "source": [
    "P(...)"
   ]
  },
  {
   "cell_type": "markdown",
   "metadata": {
    "button": false,
    "deletable": true,
    "new_sheet": false,
    "run_control": {
     "read_only": false
    }
   },
   "source": [
    "## Problem 2: At least one is a boy. What is the probability both are boys? \n",
    "\n",
    "Implementing this problem and finding the answer is easy:\n",
    "\n",
    "**Fill me in.**"
   ]
  },
  {
   "cell_type": "code",
   "execution_count": null,
   "metadata": {
    "button": false,
    "collapsed": false,
    "deletable": true,
    "new_sheet": false,
    "run_control": {
     "read_only": false
    }
   },
   "outputs": [],
   "source": [
    "def at_least_one_boy(outcome):\n",
    "    # Fill in this function so that the line of code below evaulates to the\n",
    "    # answer to problem 2.\n",
    "    ..."
   ]
  },
  {
   "cell_type": "code",
   "execution_count": null,
   "metadata": {
    "button": false,
    "collapsed": false,
    "deletable": true,
    "new_sheet": false,
    "run_control": {
     "read_only": false
    }
   },
   "outputs": [],
   "source": [
    "# Should come out to 1/3\n",
    "P(two_boys, such_that(at_least_one_boy, S))"
   ]
  },
  {
   "cell_type": "markdown",
   "metadata": {
    "button": false,
    "deletable": true,
    "new_sheet": false,
    "run_control": {
     "read_only": false
    }
   },
   "source": [
    "Understanding the problem is tougher. Some people think the answer should be 1/2. Can we justify the answer 1/3?  We can see there are three equiprobable outcomes in which there is at least one boy:"
   ]
  },
  {
   "cell_type": "code",
   "execution_count": null,
   "metadata": {
    "button": false,
    "collapsed": false,
    "deletable": true,
    "new_sheet": false,
    "run_control": {
     "read_only": false
    }
   },
   "outputs": [],
   "source": [
    "such_that(at_least_one_boy, S)"
   ]
  },
  {
   "cell_type": "markdown",
   "metadata": {
    "button": false,
    "collapsed": false,
    "deletable": true,
    "new_sheet": false,
    "run_control": {
     "read_only": false
    }
   },
   "source": [
    "Of those three outcomes, only one has two boys, so the answer of 1/3 is indeed justified. \n",
    "\n",
    "But some people *still* think the answer should be 1/2.\n",
    "Their reasoning is *\"If one child is a boy, then there are two equiprobable outcomes for the other child, so the probability that the other child is a boy, and thus that there are two boys, is 1/2.\"* \n",
    "\n",
    "When two methods of reasoning give two different answers, we have a [paradox](https://en.wikipedia.org/wiki/Paradox). Here are three responses to a paradox:\n",
    "\n",
    "1. The very fundamentals of mathematics must be incomplete, and this problem reveals it!\n",
    "2. I'm right, and anyone who disagrees with me is an idiot!\n",
    "3. I have the right answer for one interpretation of the problem, and you have the right answer\n",
    "for a different interpretation of the problem.\n",
    "\n",
    "If you're [Bertrand Russell](https://en.wikipedia.org/wiki/Russell%27s_paradox) or [Georg Cantor](https://en.wikipedia.org/wiki/Cantor%27s_paradox), you might very well uncover a fundamental flaw in mathematics; for the rest of us, I recommend Response 3. When I believe the answer is 1/3, and I hear someone say the answer is 1/2, my response is not *\"You're wrong!\"*, rather it is *\"How interesting! You must have a different interpretation of the problem; I should try to discover what your interpretation is, and why your answer is correct for your interpretation.\"* The first step is to be more explicit in describing *my* understanding of the experiment:\n",
    "\n",
    "- **Experiment 2a.** Mr. Smith is chosen at random from families with two children. He is asked if at least one of his children is a boy. He replies \"yes.\"\n",
    "\n",
    "Next I envision another possible interpretation of the experiment:\n",
    "\n",
    "- **Experiment 2b.** Mr. Smith is chosen at random from families with two children. He is observed at a time when he is accompanied by one of his children, chosen at random. The child is observed to be a boy.  \n",
    "\n",
    "Experiment 2b needs a different sample space, which we will call `S2b`.  It consists of 8 outcomes, not just 4; for each of the 4 outcomes in `S`, we have a choice of observing either the older child or the younger child.  We will use the notation `'GB/g?'` to mean that the older child is a girl, the younger a boy, the older child was observed to be a girl, and the younger was not observed. The sample space is therefore:"
   ]
  },
  {
   "cell_type": "code",
   "execution_count": null,
   "metadata": {
    "button": false,
    "collapsed": false,
    "deletable": true,
    "new_sheet": false,
    "run_control": {
     "read_only": false
    }
   },
   "outputs": [],
   "source": [
    "S2b = {'BB/b?', 'BB/?b', \n",
    "       'BG/b?', 'BG/?g', \n",
    "       'GB/g?', 'GB/?b', \n",
    "       'GG/g?', 'GG/?g'}"
   ]
  },
  {
   "cell_type": "markdown",
   "metadata": {
    "button": false,
    "deletable": true,
    "new_sheet": false,
    "run_control": {
     "read_only": false
    }
   },
   "source": [
    "Now we can figure out the subset of this sample space in which we observe Mr. Smith with a boy:"
   ]
  },
  {
   "cell_type": "code",
   "execution_count": null,
   "metadata": {
    "button": false,
    "collapsed": false,
    "deletable": true,
    "new_sheet": false,
    "run_control": {
     "read_only": false
    }
   },
   "outputs": [],
   "source": [
    "def observed_boy(outcome): return 'b' in outcome\n",
    "\n",
    "such_that(observed_boy, S2b)"
   ]
  },
  {
   "cell_type": "markdown",
   "metadata": {
    "button": false,
    "deletable": true,
    "new_sheet": false,
    "run_control": {
     "read_only": false
    }
   },
   "source": [
    "And finally we can determine the probability that he has two boys, given that we observed him with a boy:"
   ]
  },
  {
   "cell_type": "code",
   "execution_count": null,
   "metadata": {
    "button": false,
    "collapsed": false,
    "deletable": true,
    "new_sheet": false,
    "run_control": {
     "read_only": false
    }
   },
   "outputs": [],
   "source": [
    "P(two_boys, such_that(observed_boy, S2b))"
   ]
  },
  {
   "cell_type": "markdown",
   "metadata": {
    "button": false,
    "deletable": true,
    "new_sheet": false,
    "run_control": {
     "read_only": false
    }
   },
   "source": [
    "The paradox is resolved. Two reasonable people can have different interpretations of the problem, and can each reason flawlessly to reach different conclusions, 1/3 or 1/2. \n",
    "\n",
    "Which interpretation of the problem is \"better?\"  We could debate that, or we could just agree to use unambiguous problem descriptions (that is, use the language of Experiment 2a or Experiment 2b, not the ambiguous language of Problem 2). \n",
    "\n",
    "## The Reasonable Person Principle\n",
    "\n",
    "It is an unfortunate fact of human nature that we often assume the other person is an idiot. As [George Carlin puts it](https://www.youtube.com/watch?v=XWPCE2tTLZQ) *\"Have you ever noticed when you're driving that anybody driving slower than you is an idiot, and anyone going faster than you is a maniac?\"*\n",
    "\n",
    "<img src=\"https://upload.wikimedia.org/wikipedia/commons/thumb/2/2e/Jesus_is_coming.._Look_Busy_%28George_Carlin%29.jpg/192px-Jesus_is_coming.._Look_Busy_%28George_Carlin%29.jpg\">\n",
    "<center>George Carlin</center>\n",
    "\n",
    "The opposite assumption&mdash;that other people are more likely to be **reasonable** rather than **idiots** is known as the **[reasonable person principle](http://www.cs.cmu.edu/~weigand/staff/)**. It is a guiding principle at Carnegie Mellon University's School of Computer Science, and is a principle I try to live by as well.\n",
    "\n",
    "Now let's return to an even more paradoxical problem.\n",
    "\n",
    "## Problem 3. One is a boy born on Tuesday. What's the probability  both are boys?\n",
    "\n",
    "Most people can not imagine how the boy's birth-day-of-week could be relevant, and feel the answer should be the same as Problem 2.  But to be sure, we should clearly describe the experiment, define the sample space, and calculate.  First:\n",
    "\n",
    "- **Experiment 3a.** A parent is chosen at random from families with two children. She is asked if at least one of her children is a boy born on Tuesday. She replies \"yes.\"\n",
    "\n",
    "Next we'll define a sample space. We'll use the notation \"`G1B3`\" to mean the older child is a girl born on the first day of the week (Sunday) and the younger a boy born on the third day of the week (Tuesday). We'll call the resulting sample space `S3`."
   ]
  },
  {
   "cell_type": "code",
   "execution_count": null,
   "metadata": {
    "button": false,
    "collapsed": false,
    "deletable": true,
    "new_sheet": false,
    "run_control": {
     "read_only": false
    }
   },
   "outputs": [],
   "source": [
    "sexesdays = cross('BG', '1234567')\n",
    "S3 = cross(sexesdays, sexesdays)"
   ]
  },
  {
   "cell_type": "code",
   "execution_count": null,
   "metadata": {
    "button": false,
    "collapsed": false,
    "deletable": true,
    "new_sheet": false,
    "run_control": {
     "read_only": false
    }
   },
   "outputs": [],
   "source": [
    "assert len(S3) == (2*7)**2 == 196\n",
    "\n",
    "random.sample(S3, 8)"
   ]
  },
  {
   "cell_type": "markdown",
   "metadata": {
    "button": false,
    "deletable": true,
    "new_sheet": false,
    "run_control": {
     "read_only": false
    }
   },
   "source": [
    "We determine below that the probability of having at least one boy is 3/4, both in `S3` (where we keep track of the birth day of week) and in `S` (where we don't):"
   ]
  },
  {
   "cell_type": "code",
   "execution_count": null,
   "metadata": {
    "button": false,
    "collapsed": false,
    "deletable": true,
    "new_sheet": false,
    "run_control": {
     "read_only": false
    }
   },
   "outputs": [],
   "source": [
    "P(at_least_one_boy, S3)"
   ]
  },
  {
   "cell_type": "code",
   "execution_count": null,
   "metadata": {
    "button": false,
    "collapsed": false,
    "deletable": true,
    "new_sheet": false,
    "run_control": {
     "read_only": false
    }
   },
   "outputs": [],
   "source": [
    "P(at_least_one_boy, S)"
   ]
  },
  {
   "cell_type": "markdown",
   "metadata": {
    "button": false,
    "deletable": true,
    "new_sheet": false,
    "run_control": {
     "read_only": false
    }
   },
   "source": [
    "The probability of two boys is 1/4 in either sample space:"
   ]
  },
  {
   "cell_type": "code",
   "execution_count": null,
   "metadata": {
    "button": false,
    "collapsed": false,
    "deletable": true,
    "new_sheet": false,
    "run_control": {
     "read_only": false
    }
   },
   "outputs": [],
   "source": [
    "P(two_boys, S3)"
   ]
  },
  {
   "cell_type": "code",
   "execution_count": null,
   "metadata": {
    "button": false,
    "collapsed": false,
    "deletable": true,
    "new_sheet": false,
    "run_control": {
     "read_only": false
    }
   },
   "outputs": [],
   "source": [
    "P(two_boys, S)"
   ]
  },
  {
   "cell_type": "markdown",
   "metadata": {
    "button": false,
    "deletable": true,
    "new_sheet": false,
    "run_control": {
     "read_only": false
    }
   },
   "source": [
    "And the probability of two boys given at least one boy is 1/3 in either sample space:"
   ]
  },
  {
   "cell_type": "code",
   "execution_count": null,
   "metadata": {
    "button": false,
    "collapsed": false,
    "deletable": true,
    "new_sheet": false,
    "run_control": {
     "read_only": false
    }
   },
   "outputs": [],
   "source": [
    "P(two_boys, such_that(at_least_one_boy, S3))"
   ]
  },
  {
   "cell_type": "code",
   "execution_count": null,
   "metadata": {
    "button": false,
    "collapsed": false,
    "deletable": true,
    "new_sheet": false,
    "run_control": {
     "read_only": false
    }
   },
   "outputs": [],
   "source": [
    "P(two_boys, such_that(at_least_one_boy, S))"
   ]
  },
  {
   "cell_type": "markdown",
   "metadata": {
    "button": false,
    "deletable": true,
    "new_sheet": false,
    "run_control": {
     "read_only": false
    }
   },
   "source": [
    "We will define a predicate for the event of at least one boy born on Tuesday: \n",
    "\n",
    "**Fill me in.**"
   ]
  },
  {
   "cell_type": "code",
   "execution_count": null,
   "metadata": {
    "button": false,
    "collapsed": false,
    "deletable": true,
    "new_sheet": false,
    "run_control": {
     "read_only": false
    }
   },
   "outputs": [],
   "source": [
    "def at_least_one_boy_tues(outcome):\n",
    "    # Fill in this predicate.\n",
    "    ..."
   ]
  },
  {
   "cell_type": "markdown",
   "metadata": {
    "button": false,
    "deletable": true,
    "new_sheet": false,
    "run_control": {
     "read_only": false
    }
   },
   "source": [
    "We are now ready to answer Problem 3:"
   ]
  },
  {
   "cell_type": "code",
   "execution_count": null,
   "metadata": {
    "button": false,
    "collapsed": false,
    "deletable": true,
    "new_sheet": false,
    "run_control": {
     "read_only": false
    }
   },
   "outputs": [],
   "source": [
    "P(two_boys, such_that(at_least_one_boy_tues, S3))"
   ]
  },
  {
   "cell_type": "markdown",
   "metadata": {
    "button": false,
    "deletable": true,
    "new_sheet": false,
    "run_control": {
     "read_only": false
    }
   },
   "source": [
    "13/27? \n",
    "\n",
    "How many saw that coming? 13/27 is quite different from 1/3, but rather close to 1/2. So \"at least one boy born on Tuesday\" is quite different from \"at least one boy.\" Are you surprised? Do you accept the answer, or do you think we did something wrong? Are there other interpretations of the experiment that lead to other answers?\n",
    "\n",
    "Here is one alternative interpretation:"
   ]
  },
  {
   "cell_type": "markdown",
   "metadata": {
    "button": false,
    "deletable": true,
    "new_sheet": false,
    "run_control": {
     "read_only": false
    }
   },
   "source": [
    "- **Experiment 3b.** A parent is chosen at random from families with two children. She is observed at a time when she is accompanied by one of her children, chosen at random. The child is observed to be a boy who reports that his birth day is Tuesday.\n",
    "\n",
    "We can represent outcomes in this sample space with the notation `G1B3/??b3`, meaning the older child is a girl born on Sunday, the younger a boy born on Tuesday, the older was not observed, and the younger was."
   ]
  },
  {
   "cell_type": "code",
   "execution_count": null,
   "metadata": {
    "button": false,
    "collapsed": false,
    "deletable": true,
    "new_sheet": false,
    "run_control": {
     "read_only": false
    }
   },
   "outputs": [],
   "source": [
    "def observed_boy_tues(outcome): return 'b3' in outcome\n",
    "\n",
    "S3b = {children + '/' + observation\n",
    "       for children in S3\n",
    "       for observation in (children[:2].lower()+'??', '??'+children[-2:].lower())}                        "
   ]
  },
  {
   "cell_type": "code",
   "execution_count": null,
   "metadata": {
    "button": false,
    "collapsed": false,
    "deletable": true,
    "new_sheet": false,
    "run_control": {
     "read_only": false
    }
   },
   "outputs": [],
   "source": [
    "random.sample(S3b, 5)"
   ]
  },
  {
   "cell_type": "markdown",
   "metadata": {
    "button": false,
    "deletable": true,
    "new_sheet": false,
    "run_control": {
     "read_only": false
    }
   },
   "source": [
    "Now we can answer this version of  problem 3:"
   ]
  },
  {
   "cell_type": "code",
   "execution_count": null,
   "metadata": {
    "button": false,
    "collapsed": false,
    "deletable": true,
    "new_sheet": false,
    "run_control": {
     "read_only": false
    }
   },
   "outputs": [],
   "source": [
    "P(two_boys, such_that(observed_boy_tues, S3b))"
   ]
  },
  {
   "cell_type": "markdown",
   "metadata": {
    "button": false,
    "deletable": true,
    "new_sheet": false,
    "run_control": {
     "read_only": false
    }
   },
   "source": [
    "So with the wording of Experiment 3b, the answer to problem 3 is the same as 2b.\n",
    "\n",
    "Still confused? Let's build a visualization tool to make things more concrete.\n",
    "\n",
    "# Visualization\n",
    "\n",
    "We'll display the results as a two dimensional table of outcomes, with each cell in the table is a color-coded outcome. A cell will be white if it does not satisfy the predicate we are working with; green if the outcome contains two boys; and yellow if it does satisfy the predicate, but does not have two boys. Every cell in a row has the same older child, and every cell in a column has the same younger child. Here's the code to display a table:"
   ]
  },
  {
   "cell_type": "code",
   "execution_count": null,
   "metadata": {
    "button": false,
    "collapsed": false,
    "deletable": true,
    "new_sheet": false,
    "run_control": {
     "read_only": false
    }
   },
   "outputs": [],
   "source": [
    "from IPython.display import HTML\n",
    "\n",
    "def table(space, n=1, event=two_boys, condition=older_is_a_boy):\n",
    "    \"\"\"Display sample space in a table, color-coded: green if event and condition is true; \n",
    "    yellow if only condition is true; white otherwise.\"\"\"\n",
    "    # n is the number of characters that make up the older child.\n",
    "    olders = sorted(set(outcome[:n] for outcome in space))\n",
    "    return HTML('<table>' +\n",
    "                cat(row(older, space, event, condition) for older in olders) +\n",
    "                '</table>' + \n",
    "                str(P(event, such_that(condition, space))))\n",
    "\n",
    "def row(older, space, event, condition):\n",
    "    \"Display a row where an older child is paired with each of the possible younger children.\"\n",
    "    thisrow = sorted(outcome for outcome in space if outcome.startswith(older))\n",
    "    return '<tr>' + cat(cell(outcome, event, condition) for outcome in thisrow) + '</tr>'\n",
    "\n",
    "def cell(outcome, event, condition): \n",
    "    \"Display outcome in appropriate color.\"\n",
    "    color = ('lightgreen' if event(outcome) and condition(outcome) else\n",
    "             'yellow' if condition(outcome) else\n",
    "             'ghostwhite')\n",
    "    return '<td style=\"background-color: {}\">{}</td>'.format(color, outcome)    \n",
    "\n",
    "cat = ''.join"
   ]
  },
  {
   "cell_type": "markdown",
   "metadata": {
    "button": false,
    "deletable": true,
    "new_sheet": false,
    "run_control": {
     "read_only": false
    }
   },
   "source": [
    "We can use this visualization tool to see that in Problem 1, there is one outcome with two boys (green) out of a total of two outcomes where the older is a boy (green and yellow) so the probability of two boys given that the older is a boy is 1/2."
   ]
  },
  {
   "cell_type": "code",
   "execution_count": null,
   "metadata": {
    "button": false,
    "collapsed": false,
    "deletable": true,
    "new_sheet": false,
    "run_control": {
     "read_only": false
    }
   },
   "outputs": [],
   "source": [
    "# Problem 1\n",
    "table(S, 1, two_boys, older_is_a_boy)"
   ]
  },
  {
   "cell_type": "markdown",
   "metadata": {
    "button": false,
    "deletable": true,
    "new_sheet": false,
    "run_control": {
     "read_only": false
    }
   },
   "source": [
    "For Problem 2, we see the probability of two boys (green) given at least one boy (green and yellow)  is 1/3. "
   ]
  },
  {
   "cell_type": "code",
   "execution_count": null,
   "metadata": {
    "button": false,
    "collapsed": false,
    "deletable": true,
    "new_sheet": false,
    "run_control": {
     "read_only": false
    }
   },
   "outputs": [],
   "source": [
    "# Problem 2\n",
    "table(S, 1, two_boys, at_least_one_boy)"
   ]
  },
  {
   "cell_type": "markdown",
   "metadata": {
    "button": false,
    "deletable": true,
    "new_sheet": false,
    "run_control": {
     "read_only": false
    }
   },
   "source": [
    "The answer is still 1/3 when we consider the day of the week of each birth. (We've just made each cell \"bigger\" by enumerating all the days-of-week.)"
   ]
  },
  {
   "cell_type": "code",
   "execution_count": null,
   "metadata": {
    "button": false,
    "collapsed": false,
    "deletable": true,
    "new_sheet": false,
    "run_control": {
     "read_only": false
    }
   },
   "outputs": [],
   "source": [
    "# Problem 2\n",
    "table(S3, 2, two_boys, at_least_one_boy)"
   ]
  },
  {
   "cell_type": "markdown",
   "metadata": {
    "button": false,
    "deletable": true,
    "new_sheet": false,
    "run_control": {
     "read_only": false
    }
   },
   "source": [
    "\n",
    "\n",
    "Now for the paradox of Problem 3:"
   ]
  },
  {
   "cell_type": "code",
   "execution_count": null,
   "metadata": {
    "button": false,
    "collapsed": false,
    "deletable": true,
    "new_sheet": false,
    "run_control": {
     "read_only": false
    }
   },
   "outputs": [],
   "source": [
    "# Problem 3\n",
    "table(S3, 2, two_boys, at_least_one_boy_tues)"
   ]
  },
  {
   "cell_type": "markdown",
   "metadata": {
    "button": false,
    "deletable": true,
    "new_sheet": false,
    "run_control": {
     "read_only": false
    }
   },
   "source": [
    "We see there are 27 relevant outcomes, of which 13 are green. So 13/27 really does seem to be the right answer. This picture also gives us a way to think about why the answer is not 1/3. Think of the yellow-plus-green area as a horizontal stripe and a vertical stripe, with an overlap. Each stripe is half yellow and half green, so if there were no overlap at all, the probability of green would be 1/2.  When each stripe takes up half the sample space and the overlap is maximal, the probability is 1/3. And in the Problem 3 table, where the overlap is small, the probability is close to 1/2 (but slightly smaller).\n",
    "\n",
    "One way to look at it is that if I tell you very specific information (such as a boy born on Tuesday), it is unlikely that this applies to both children, so we have smaller overlap and a probability closer to 1/2, but if I give you broad information (a boy), this is more likely to apply to either child, resulting in a larger overlap, and a probability closer to 1/3.\n",
    "\n",
    "You can read some more discussions of the problem by (in alphabetical order) \n",
    "[Alex Bellos](https://www.newscientist.com/article/dn18950-magic-numbers-a-meeting-of-mathemagical-tricksters?full=true),\n",
    "[Alexander Bogomolny](http://www.cut-the-knot.org/Probability/BearBornOnTuesday.shtml),\n",
    "[Andrew Gelman](http://andrewgelman.com/2010/05/27/hype_about_cond/),\n",
    "[David Bigelow](https://web.viu.ca/bigelow2/Problem%201127%20Solution.pdf),\n",
    "[Julie Rehmeyer](https://www.sciencenews.org/article/when-intuition-and-math-probably-look-wrong),\n",
    "[Keith Devlin](https://www.maa.org/external_archive/devlin/devlin_05_10.html),\n",
    "[Peter Lynch](http://mathsci.ucd.ie/~plynch/Publications/BIMS-TwoChildParadox.pdf),\n",
    "[Tanya Khovanova](http://arxiv.org/pdf/1102.0173v1.pdf),\n",
    "and\n",
    "[Wendy Taylor &amp; Kaye Stacey](http://www.aamt.edu.au/Journals/Sample-articles/amt70_2_taylor.pdf)."
   ]
  },
  {
   "cell_type": "markdown",
   "metadata": {},
   "source": [
    "# Congrats teammate! You made it.\n",
    "\n",
    "I didn't want to make you spend too much time on this so I'm cutting the notebook short. It's okay if you didn't understand all the probability. My goal is for you to get acquainted with what the JupyterHub platform looks like.\n",
    "\n",
    "[Here's a link to grab the original notebook (which also contains the solutions to the problems in this notebook).](https://ds8.berkeley.edu/hub/interact?repo=data8assets&path=util/Probability.ipynb)\n",
    "\n",
    "**Please come into our first team meeting with answers to these questions:**\n",
    "\n",
    "- What's an advantage over Jupyter over a more traditional approach to coding? (Eg. 61A style using Sublime Text)\n",
    "- What's a disadvantage of this platform?\n",
    "- How do you suppose the link you clicked on works? (Just take a wild guess.)\n",
    "- What's another creative way to use this platform (perhaps in an educational sense)?\n",
    "\n",
    "If you're interested, feel free to keep going. There aren't any more questions that you have to fill in, so you can just run the cells and watch Peter Norvig work his magic."
   ]
  },
  {
   "cell_type": "markdown",
   "metadata": {},
   "source": [
    "------"
   ]
  },
  {
   "cell_type": "markdown",
   "metadata": {
    "button": false,
    "deletable": true,
    "new_sheet": false,
    "run_control": {
     "read_only": false
    }
   },
   "source": [
    "# The Sleeping Beauty Paradox\n",
    "\n",
    "The [Sleeping Beauty Paradox](https://en.wikipedia.org/wiki/Sleeping_Beauty_problem) is another tricky one:\n",
    "\n",
    ">Sleeping Beauty volunteers to undergo the following experiment and is told all of the following details: On Sunday she will be put to sleep. Once or twice, during the experiment, Beauty will be awakened, interviewed, and put back to sleep with an amnesia-inducing drug that makes her forget that awakening. A fair coin will be tossed to determine which experimental procedure to undertake: if the coin comes up heads, Beauty will be awakened and interviewed on Monday only. If the coin comes up tails, she will be awakened and interviewed on Monday and Tuesday. In either case, she will be awakened on Wednesday without interview and the experiment ends.\n",
    "Any time Sleeping Beauty is awakened and interviewed, she is asked, \"What is your belief now for the proposition that the coin landed heads?\"\n",
    "\n",
    "What should Sleeping Beauty say when she is interviewed?  First, she should define the sample space.  She could use the notation `'heads/Monday/interviewed'` to mean the outcome where the coin flip was heads, it is Monday, and she is interviewed. So it seems there are 4 equiprobable outcomes:"
   ]
  },
  {
   "cell_type": "code",
   "execution_count": null,
   "metadata": {
    "button": false,
    "collapsed": true,
    "deletable": true,
    "new_sheet": false,
    "run_control": {
     "read_only": false
    }
   },
   "outputs": [],
   "source": [
    "B = {'heads/Monday/interviewed', 'heads/Tuesday/sleep',\n",
    "     'tails/Monday/interviewed', 'tails/Tuesday/interviewed'}"
   ]
  },
  {
   "cell_type": "markdown",
   "metadata": {
    "button": false,
    "deletable": true,
    "new_sheet": false,
    "run_control": {
     "read_only": false
    }
   },
   "source": [
    "At this point, you're probably expecting me to define predicates, like this:\n",
    "\n",
    "    def heads(outcome): return 'heads' in outcome\n",
    "    def interviewed(outcome): return 'interviewed' in outcome\n",
    "    \n",
    "We've seen a lot of predicates like this. I think it is time to heed the \"[don't repeat yourself](https://en.wikipedia.org/wiki/Don%27t_repeat_yourself)\" principle, so I will define a predicate-defining function:"
   ]
  },
  {
   "cell_type": "code",
   "execution_count": null,
   "metadata": {
    "button": false,
    "collapsed": true,
    "deletable": true,
    "new_sheet": false,
    "run_control": {
     "read_only": false
    }
   },
   "outputs": [],
   "source": [
    "def T(property):\n",
    "    \"Return a predicate that is true of all outcomes that have 'property' as a substring.\"\n",
    "    return lambda outcome: property in outcome"
   ]
  },
  {
   "cell_type": "markdown",
   "metadata": {
    "button": false,
    "deletable": true,
    "new_sheet": false,
    "run_control": {
     "read_only": false
    }
   },
   "source": [
    "Now we can get the answer:"
   ]
  },
  {
   "cell_type": "code",
   "execution_count": null,
   "metadata": {
    "button": false,
    "collapsed": false,
    "deletable": true,
    "new_sheet": false,
    "run_control": {
     "read_only": false
    }
   },
   "outputs": [],
   "source": [
    "heads = T(\"heads\")\n",
    "interviewed = T(\"interviewed\")\n",
    "\n",
    "P(heads, such_that(interviewed, B))"
   ]
  },
  {
   "cell_type": "markdown",
   "metadata": {
    "button": false,
    "deletable": true,
    "new_sheet": false,
    "run_control": {
     "read_only": false
    }
   },
   "source": [
    "Note: I could have done that in one line instead of three: `P(T(\"heads\"), such_that(T(\"interviewed\"), B))`\n",
    "\n",
    "This problem is considered a paradox because there are people who argue that the answer should be 1/2, not 1/3. I admit I'm having difficulty coming up with a sample space that supports the \"halfer\" position. I do know of a question that has the answer 1/2:"
   ]
  },
  {
   "cell_type": "code",
   "execution_count": null,
   "metadata": {
    "button": false,
    "collapsed": false,
    "deletable": true,
    "new_sheet": false,
    "run_control": {
     "read_only": false
    }
   },
   "outputs": [],
   "source": [
    "P(heads, B) "
   ]
  },
  {
   "cell_type": "markdown",
   "metadata": {
    "button": false,
    "deletable": true,
    "new_sheet": false,
    "run_control": {
     "read_only": false
    }
   },
   "source": [
    "But that seems like the wrong question; we want the probability of heads given that Sleeping Beauty was interviewed, not the unconditional probability. \n",
    "\n",
    "The \"halfers\" argue that before Sleeping Beauty goes to sleep, her unconditional probability for heads should be 1/2. When she is interviewed, she doesn't know anything more than before she went to sleep, so nothing has changed, so the probability of heads should still be 1/2. I find two flaws with this argument. First, if you want to convince me, show me a sample space; don't just make philosophical arguments. (Although a philosophical argument can be employed to help you define the right sample space.) Second, while I agree that before she goes to sleep, Beauty's *unconditional* probability for heads should be 1/2, I would say that both before she goes to sleep and when she is awakened, her *conditional* probability of heads *given that she is being interviewed* should be 1/3, as shown by the sample space."
   ]
  },
  {
   "cell_type": "markdown",
   "metadata": {
    "button": false,
    "deletable": true,
    "new_sheet": false,
    "run_control": {
     "read_only": false
    }
   },
   "source": [
    "# The Monty Hall Paradox\n",
    "\n",
    "[This](https://en.wikipedia.org/wiki/Monty_Hall_problem) is one of the most famous probability paradoxes. It can be stated as follows:\n",
    "\n",
    "> Suppose you're on a game show, and you're given the choice of three doors: Behind one door is a car; behind the others, goats. You pick a door, say No. 1, and the host, who knows what's behind the doors, opens another door, say No. 3, which has a goat. He then says to you, \"Do you want to pick door No. 2?\" Is it to your advantage to switch your choice?\n",
    "\n",
    "<img src=\"http://retrothing.typepad.com/.a/6a00d83452989a69e20120a4cb10a2970b-800wi\">\n",
    "\n",
    "Much has been written about this problem, but to solve it all we have to do is be careful about how we understand the problem, and about defining our sample space.  I will define outcomes of the form `'Car1<Pick1/Open2'`, which means\n",
    "* `Car1`: First the car is randomly placed behind door 1.\n",
    "* `<`: The host randomly commits to the strategy of opening the lowest-numbered allowable door. A door is allowable if it does not contain the car and was not picked by the contestant. Alternatively, the host could have chosen to open the highest-numbered allowable door (`>`).\n",
    "(If you don't like the idea of the host commiting to a strategy, try this: the host mentally flips a coin to decide which door to open; include `'/Head/'` or `'/Tail/'` instead of `'<'` or `'>'` in the description of the outcome.)\n",
    "* `Pick1`: The contestant picks door 1.  Our sample space will only consider cases where the contestant picks door 1, but by symmetry, the same arguments could be used if the contestant picked door 2 or 3.\n",
    "* `Open2`: After hearing the contestant's choice, and following the strategy, the host opens a door; in this case door 2.\n",
    "\n",
    "We can see that the sample space has 6 equiprobable outcomes:"
   ]
  },
  {
   "cell_type": "code",
   "execution_count": null,
   "metadata": {
    "button": false,
    "collapsed": true,
    "deletable": true,
    "new_sheet": false,
    "run_control": {
     "read_only": false
    }
   },
   "outputs": [],
   "source": [
    "M = {'Car1<Pick1/Open2', 'Car1>Pick1/Open3',\n",
    "     'Car2<Pick1/Open3', 'Car2>Pick1/Open3',\n",
    "     'Car3<Pick1/Open2', 'Car3>Pick1/Open2'}"
   ]
  },
  {
   "cell_type": "markdown",
   "metadata": {
    "button": false,
    "deletable": true,
    "new_sheet": false,
    "run_control": {
     "read_only": false
    }
   },
   "source": [
    "Now, assuming the contestant picks door 1 and the host opens door 3, what is the probability that the car is behind door 1? Or door 2?"
   ]
  },
  {
   "cell_type": "code",
   "execution_count": null,
   "metadata": {
    "button": false,
    "collapsed": false,
    "deletable": true,
    "new_sheet": false,
    "run_control": {
     "read_only": false
    }
   },
   "outputs": [],
   "source": [
    "P(T(\"Car1\"), such_that(T(\"Open3\"), M))"
   ]
  },
  {
   "cell_type": "code",
   "execution_count": null,
   "metadata": {
    "button": false,
    "collapsed": false,
    "deletable": true,
    "new_sheet": false,
    "run_control": {
     "read_only": false
    }
   },
   "outputs": [],
   "source": [
    "P(T(\"Car2\"), such_that(T(\"Open3\"), M))"
   ]
  },
  {
   "cell_type": "markdown",
   "metadata": {
    "button": false,
    "deletable": true,
    "new_sheet": false,
    "run_control": {
     "read_only": false
    }
   },
   "source": [
    "We see that the strategy of **switching** from door 1 to door 2 will win the car 2/3 of the time, whereas the strategy of **sticking** with the original pick wins the car only 1/3 of the time. So if you like cars more than goats, you should switch. But don't feel bad if you got this one wrong; it turns out that Monty Hall himself, who opened numerous doors while hosting *Let's Make a Deal* for 13 years, didn't know the answer either, as revealed in this letter from Monty to statistician Lawrence Denenberg, when Denenberg asked for permission to use the problem in his textbook:\n",
    "<img src=\"http://norvig.com/monty-hall-letter.jpg\">\n",
    "\n",
    "If you were Denenberg, how would you answer Monty, in non-mathematical terms.  I would try something like this:\n",
    "\n",
    "> When the contestant makes her initial pick, she has 1/3 chance of picking the car, and there is a 2/3 chance the car is behind one of the other doors. That's still true after you open a door, but now the 2/3 chance for *either* other door becomes concentrated as 2/3 behind *one* other door, so the contestant should switch.\n",
    "\n",
    "But that argument was not persuasive to everyone. [Marilyn vos Savant](http://marilynvossavant.com/game-show-problem/) reports that many of her readers (including, she is pleased to point out, many Ph.D.s) still insist the answer is that it doesn't matter if the contestant switches; the odds are 1/2 either way. Let's try to discover what problem and what sample space those people are dealing with. Perhaps they are reasoning like this:\n",
    "\n",
    "They define outcomes of the form `'Car1/Pick1/Open2/Goat'`, which means:\n",
    "* `Car1`: First the car is randomly placed behind door 1.\n",
    "* `Pick1`: The contestant picks door 1.  \n",
    "* `Open2`: The host opens one of the two other doors at random (so the host might open the door with the car).\n",
    "* `Goat`: We observe there is a goat behind door 2.\n",
    "\n",
    "Under this interpretation, the sample space is:"
   ]
  },
  {
   "cell_type": "code",
   "execution_count": null,
   "metadata": {
    "button": false,
    "collapsed": true,
    "deletable": true,
    "new_sheet": false,
    "run_control": {
     "read_only": false
    }
   },
   "outputs": [],
   "source": [
    "M2 = {'Car1/Pick1/Open2/Goat', 'Car1/Pick1/Open3/Goat',\n",
    "      'Car2/Pick1/Open2/Car',  'Car2/Pick1/Open3/Goat',\n",
    "      'Car3/Pick1/Open2/Goat', 'Car3/Pick1/Open3/Car'}"
   ]
  },
  {
   "cell_type": "markdown",
   "metadata": {
    "button": false,
    "deletable": true,
    "new_sheet": false,
    "run_control": {
     "read_only": false
    }
   },
   "source": [
    "And we can calculate the probability of the car being behind each door, given that the contestant picks door 1 and the host opens door 3 to reveal a goat:"
   ]
  },
  {
   "cell_type": "code",
   "execution_count": null,
   "metadata": {
    "button": false,
    "collapsed": false,
    "deletable": true,
    "new_sheet": false,
    "run_control": {
     "read_only": false
    }
   },
   "outputs": [],
   "source": [
    "P(T(\"Car1\"), such_that(T(\"Open3/Goat\"), M2))"
   ]
  },
  {
   "cell_type": "code",
   "execution_count": null,
   "metadata": {
    "button": false,
    "collapsed": false,
    "deletable": true,
    "new_sheet": false,
    "run_control": {
     "read_only": false
    }
   },
   "outputs": [],
   "source": [
    "P(T(\"Car2\"), such_that(T(\"Open3/Goat\"), M2))"
   ]
  },
  {
   "cell_type": "markdown",
   "metadata": {
    "button": false,
    "deletable": true,
    "new_sheet": false,
    "run_control": {
     "read_only": false
    }
   },
   "source": [
    "So we see that under this interpretation it doesn't matter if you switch or not. \n",
    "\n",
    "Is this a valid interpretation? I agree that the wording of the problem can be seen as being ambiguous. However, this interpretation has a serious problem: in all the history of *Let's Make a Deal*, it was never the case that the host opened up a door with the grand prize.  This strongly suggests (but does not quite prove) that `M` and not `M2` is the correct sample space."
   ]
  },
  {
   "cell_type": "markdown",
   "metadata": {
    "button": false,
    "deletable": true,
    "new_sheet": false,
    "run_control": {
     "read_only": false
    }
   },
   "source": [
    "# Non-Equiprobable Outcomes: Probability Distributions\n",
    "\n",
    "So far, we have made the assumption that every outcome in a sample space is equally likely. In real life, the probability of a child being a girl (or boy) is not exactly 1/2 and the sex of a second child is not completely independent from the first. An [article](http://people.kzoo.edu/barth/math105/moreboys.pdf) gives the following counts for two-child families in Denmark:\n",
    "\n",
    "    GG: 121801    GB: 126840\n",
    "    BG: 127123    BB: 135138\n",
    "    \n",
    "We call a mapping from outcomes to their frequencies a *distribution*. Here are two more definitions:\n",
    "\n",
    "* [Distribution](http://mathworld.wolfram.com/StatisticalDistribution.html): An assignment of frequencies to every outcome in a sample space. \n",
    "\n",
    "* [Probability Distribution](https://en.wikipedia.org/wiki/Probability_distribution): A distribution that has been *normalized* so that the sum of the frequencies is 1 (and each frequency is between 0 and 1).\n",
    "\n",
    "We can implement a probability distribution as a subclass of `dict` where the keys are outcomes and the values are probabilities. The constructor `ProbDist` takes the same arguments that `dict` does: either a mapping or an iterable of `(key, val)` pairs, and/or optional keyword arguments. We also need to modify the functions `P` and `such_that` to accept either a sample space  or a probability distribution as the second argument."
   ]
  },
  {
   "cell_type": "code",
   "execution_count": null,
   "metadata": {
    "button": false,
    "collapsed": false,
    "deletable": true,
    "new_sheet": false,
    "run_control": {
     "read_only": false
    }
   },
   "outputs": [],
   "source": [
    "class ProbDist(dict):\n",
    "    \"A Probability Distribution; an {outcome: probability} mapping.\"\n",
    "    def __init__(self, mapping=(), **kwargs):\n",
    "        self.update(mapping, **kwargs)\n",
    "        total = sum(self.values())\n",
    "        for k in self:\n",
    "            self[k] = self[k] / total\n",
    "            \n",
    "def P(event, space): \n",
    "    \"\"\"The probability of an event, given a sample space of equiprobable outcomes. \n",
    "    event: a collection of outcomes, or a predicate that is true of outcomes in the event. \n",
    "    space: a set of outcomes or a probability distribution of {outcome: frequency} pairs.\"\"\"\n",
    "    if callable(event):\n",
    "        event = such_that(event, space)\n",
    "    if isinstance(space, ProbDist):\n",
    "        return sum(space[e] for e in space if e in event)\n",
    "    else:\n",
    "        return Fraction(len(event & space), len(space))\n",
    "    \n",
    "def such_that(predicate, space): \n",
    "    \"\"\"The elements in the space for which the predicate is true.\n",
    "    If space is a set, return a subset {element,...};\n",
    "    if space is a dict, return a sub-dict of {element: frequency,...} pairs;\n",
    "    in both cases only with elements where predicate(element) is true.\"\"\"\n",
    "    if isinstance(space, ProbDist):\n",
    "        return ProbDist({e:space[e] for e in space if predicate(e)})\n",
    "    else:\n",
    "        return {e for e in space if predicate(e)}"
   ]
  },
  {
   "cell_type": "markdown",
   "metadata": {
    "run_control": {}
   },
   "source": [
    "Here is the probability distribution for Danish two-child families:"
   ]
  },
  {
   "cell_type": "code",
   "execution_count": null,
   "metadata": {
    "button": false,
    "collapsed": false,
    "deletable": true,
    "new_sheet": false,
    "run_control": {
     "read_only": false
    }
   },
   "outputs": [],
   "source": [
    "DK = ProbDist(GG=121801, GB=126840,\n",
    "              BG=127123, BB=135138)\n",
    "DK"
   ]
  },
  {
   "cell_type": "markdown",
   "metadata": {
    "button": false,
    "deletable": true,
    "new_sheet": false,
    "run_control": {
     "read_only": false
    }
   },
   "source": [
    "Let's verify that `P` still works on the old problems where the sample space is a set:"
   ]
  },
  {
   "cell_type": "code",
   "execution_count": null,
   "metadata": {
    "button": false,
    "collapsed": false,
    "deletable": true,
    "new_sheet": false,
    "run_control": {
     "read_only": false
    }
   },
   "outputs": [],
   "source": [
    "# Problem 1 in S\n",
    "P(two_boys, such_that(older_is_a_boy, S))"
   ]
  },
  {
   "cell_type": "code",
   "execution_count": null,
   "metadata": {
    "button": false,
    "collapsed": false,
    "deletable": true,
    "new_sheet": false,
    "run_control": {
     "read_only": false
    }
   },
   "outputs": [],
   "source": [
    "# Problem 2 in S\n",
    "P(two_boys, such_that(at_least_one_boy, S))"
   ]
  },
  {
   "cell_type": "markdown",
   "metadata": {
    "button": false,
    "deletable": true,
    "new_sheet": false,
    "run_control": {
     "read_only": false
    }
   },
   "source": [
    "Now let's see if the definitions work with the probability distribution `DK`. We expect a little over 1/2 for Problem 1, and a little over 1/3 for problem 2:"
   ]
  },
  {
   "cell_type": "code",
   "execution_count": null,
   "metadata": {
    "button": false,
    "collapsed": false,
    "deletable": true,
    "new_sheet": false,
    "run_control": {
     "read_only": false
    }
   },
   "outputs": [],
   "source": [
    "# Problem 1 in DK\n",
    "P(two_boys, such_that(older_is_a_boy, DK))"
   ]
  },
  {
   "cell_type": "code",
   "execution_count": null,
   "metadata": {
    "button": false,
    "collapsed": false,
    "deletable": true,
    "new_sheet": false,
    "run_control": {
     "read_only": false
    }
   },
   "outputs": [],
   "source": [
    "# Problem 2 in DK\n",
    "P(two_boys, such_that(at_least_one_boy, DK))"
   ]
  },
  {
   "cell_type": "markdown",
   "metadata": {
    "button": false,
    "deletable": true,
    "new_sheet": false,
    "run_control": {
     "read_only": false
    }
   },
   "source": [
    "It all looks good. Now let's try a new problem that would not have been feasible with a set-based sample space.\n",
    "\n",
    "## Problem 4. One is a boy born on Feb. 29. What is the probability both are boys?\n",
    "\n",
    "* **Problem 4.** I have two children. At least one of them is a boy born on leap day, February 29. What is the probability that both children are boys? Assume that 51.5% of births are boys and that birth days are distributed evenly across the 4&times;365 + 1 days in a 4-year cycle.\n",
    "\n",
    "We will use the notation `GLBN` to mean an older girl born on leap day and a younger boy born on a non-leap day. We'll define a helper function, `joint`, that creates the joint probability distribution of two independent probability distributions:"
   ]
  },
  {
   "cell_type": "code",
   "execution_count": null,
   "metadata": {
    "button": false,
    "collapsed": false,
    "deletable": true,
    "new_sheet": false,
    "run_control": {
     "read_only": false
    }
   },
   "outputs": [],
   "source": [
    "def joint(A, B, sep=''):\n",
    "    \"\"\"The joint distribution of two independent probability distributions. \n",
    "    Result is all entries of the form {a+sep+b: P(a)*P(b)}\"\"\"\n",
    "    return ProbDist({a + sep + b: A[a] * B[b]\n",
    "                    for a in A\n",
    "                    for b in B})"
   ]
  },
  {
   "cell_type": "code",
   "execution_count": null,
   "metadata": {
    "button": false,
    "collapsed": false,
    "deletable": true,
    "new_sheet": false,
    "run_control": {
     "read_only": false
    }
   },
   "outputs": [],
   "source": [
    "sexes = ProbDist(B=51.5, G=48.5)   # Probability distribution over sexes\n",
    "days  = ProbDist(L=1, N=4*365)     # Probability distribution over Leap days and Non-leap days\n",
    "child = joint(sexes, days)         # Probability distribution for one child family\n",
    "S4    = joint(child, child)        # Probability distribution for two-child family"
   ]
  },
  {
   "cell_type": "markdown",
   "metadata": {
    "button": false,
    "deletable": true,
    "new_sheet": false,
    "run_control": {
     "read_only": false
    }
   },
   "source": [
    "Let's check out these last two probability distributions:"
   ]
  },
  {
   "cell_type": "code",
   "execution_count": null,
   "metadata": {
    "button": false,
    "collapsed": false,
    "deletable": true,
    "new_sheet": false,
    "run_control": {
     "read_only": false
    }
   },
   "outputs": [],
   "source": [
    "child"
   ]
  },
  {
   "cell_type": "code",
   "execution_count": null,
   "metadata": {
    "button": false,
    "collapsed": false,
    "deletable": true,
    "new_sheet": false,
    "run_control": {
     "read_only": false
    }
   },
   "outputs": [],
   "source": [
    "S4"
   ]
  },
  {
   "cell_type": "markdown",
   "metadata": {
    "button": false,
    "deletable": true,
    "new_sheet": false,
    "run_control": {
     "read_only": false
    }
   },
   "source": [
    "Now we can solve the problem. Since \"boy born on a leap day\" applies to so few children, we expect the probability of two boys to be just ever so slightly below the baseline rate for boys, 51.5%."
   ]
  },
  {
   "cell_type": "code",
   "execution_count": null,
   "metadata": {
    "button": false,
    "collapsed": false,
    "deletable": true,
    "new_sheet": false,
    "run_control": {
     "read_only": false
    }
   },
   "outputs": [],
   "source": [
    "# Problem 4\n",
    "\n",
    "boy_born_on_leap_day = T(\"BL\")\n",
    "\n",
    "P(two_boys, such_that(boy_born_on_leap_day, S4))"
   ]
  },
  {
   "cell_type": "markdown",
   "metadata": {
    "button": false,
    "deletable": true,
    "new_sheet": false,
    "run_control": {
     "read_only": false
    }
   },
   "source": [
    "# More Urn Problems: M&Ms and Bayes\n",
    "\n",
    "Here's another urn problem (or \"bag\" problem) [from](http://allendowney.blogspot.com/2011/10/my-favorite-bayess-theorem-problems.html) prolific Python/Probability author [Allen Downey ](http://allendowney.blogspot.com/):\n",
    "\n",
    "> The blue M&M was introduced in 1995.  Before then, the color mix in a bag of plain M&Ms was (30% Brown, 20% Yellow, 20% Red, 10% Green, 10% Orange, 10% Tan).  Afterward it was (24% Blue , 20% Green, 16% Orange, 14% Yellow, 13% Red, 13% Brown). \n",
    "A friend of mine has two bags of M&Ms, and he tells me that one is from 1994 and one from 1996.  He won't tell me which is which, but he gives me one M&M from each bag.  One is yellow and one is green.  What is the probability that the yellow M&M came from the 1994 bag?\n",
    "\n",
    "To solve this problem, we'll first represent probability distributions for each bag: `bag94` and `bag96`:"
   ]
  },
  {
   "cell_type": "code",
   "execution_count": null,
   "metadata": {
    "button": false,
    "collapsed": false,
    "deletable": true,
    "new_sheet": false,
    "run_control": {
     "read_only": false
    }
   },
   "outputs": [],
   "source": [
    "bag94 = ProbDist(brown=30, yellow=20, red=20, green=10, orange=10, tan=10)\n",
    "bag96 = ProbDist(blue=24, green=20, orange=16, yellow=14, red=13, brown=13)"
   ]
  },
  {
   "cell_type": "markdown",
   "metadata": {
    "button": false,
    "deletable": true,
    "new_sheet": false,
    "run_control": {
     "read_only": false
    }
   },
   "source": [
    "Next, define `MM` as the joint distribution&mdash;the sample space for picking one M&M from each bag. The outcome `'yellow green'` means that a yellow M&M was selected from the 1994 bag and a green one from the 1996 bag."
   ]
  },
  {
   "cell_type": "code",
   "execution_count": null,
   "metadata": {
    "button": false,
    "collapsed": false,
    "deletable": true,
    "new_sheet": false,
    "run_control": {
     "read_only": false
    }
   },
   "outputs": [],
   "source": [
    "MM = joint(bag94, bag96, sep=' ')\n",
    "MM"
   ]
  },
  {
   "cell_type": "markdown",
   "metadata": {
    "button": false,
    "deletable": true,
    "new_sheet": false,
    "run_control": {
     "read_only": false
    }
   },
   "source": [
    "Now we can answer the question: given that we got a yellow and a green (but don't know which comes from which bag), what is the probability that the yellow came from the 1994 bag?\n",
    "\n",
    "First we'll look at the \"given that we got a yellow and a green\" part:"
   ]
  },
  {
   "cell_type": "code",
   "execution_count": null,
   "metadata": {
    "button": false,
    "collapsed": false,
    "deletable": true,
    "new_sheet": false,
    "run_control": {
     "read_only": false
    }
   },
   "outputs": [],
   "source": [
    "def yellow_and_green(outcome): return 'yellow' in outcome and 'green' in outcome\n",
    "\n",
    "such_that(yellow_and_green, MM)"
   ]
  },
  {
   "cell_type": "markdown",
   "metadata": {
    "button": false,
    "deletable": true,
    "new_sheet": false,
    "run_control": {
     "read_only": false
    }
   },
   "source": [
    "Now use `P` to pick out the answer&mdash;the probability of selecting a yellow from the 1994 bag, given that a yellow and a green were selected (one from each bag):"
   ]
  },
  {
   "cell_type": "code",
   "execution_count": null,
   "metadata": {
    "button": false,
    "collapsed": false,
    "deletable": true,
    "new_sheet": false,
    "run_control": {
     "read_only": false
    }
   },
   "outputs": [],
   "source": [
    "def yellow94(outcome): return outcome.startswith('yellow')\n",
    "\n",
    "P(yellow94, such_that(yellow_and_green, MM))"
   ]
  },
  {
   "cell_type": "markdown",
   "metadata": {
    "button": false,
    "deletable": true,
    "new_sheet": false,
    "run_control": {
     "read_only": false
    }
   },
   "source": [
    "Answering this question is straightforward: just like all the other probability problems, we simply create a sample space, and use `P` to pick out the probability of the event in question, given what we know about the outcome.\n",
    "\n",
    "However, it is curious that we were able to solve this problem with the same methodology as all the others, because this problem comes from a section titled *My favorite Bayes's Theorem Problems*, so one would expect that we'd need to invoke Bayes Theorem to solve it.  The computation above shows that that is not necessary, but if you want to, Bayes Theorem can be used to solve it in a different way (a way that might be easier if you don't have a computer to grind through the sample space).\n",
    "\n",
    "Why is Bayes Theorem recommended? Because we are asked about the probability of an event, given the evidence, but that probability is not immediately available; however the probability of the evidence given the event is.  \n",
    "\n",
    "There are two hypotheses, `A` and `B`, both with equal probability:\n",
    "\n",
    "    A: first M&M from 94 bag, second from 96 bag\n",
    "    B: first M&M from 96 bag, second from 94 bag\n",
    "    P(A) = P(B) = 0.5\n",
    "    \n",
    "Then we get some evidence:\n",
    "    \n",
    "    E: first M&M yellow, second green\n",
    "    \n",
    "We want to know the probability of hypothesis `A`, given the evidence:\n",
    "    \n",
    "    P(A | E)\n",
    "    \n",
    "But that's not easy to calculate (except by enumerating the sample space). But Bayes Theorem says:\n",
    "    \n",
    "    P(A | E) = P(E | A) * P(A) / P(E)\n",
    "    \n",
    "The three quantities on the right-hand-side we can easily calculate:\n",
    "    \n",
    "    P(E | A) = 0.20 * 0.20 = 0.04\n",
    "    P(E | B) = 0.10 * 0.14 = 0.014\n",
    "    P(A)     = 0.5\n",
    "    P(E)     = P(E | A) * P(A) + P(E | B) * P(B) \n",
    "             = 0.04 * 0.5 + 0.014 * 0.5 = 0.027\n",
    "    \n",
    "And we can get a final answer:\n",
    "    \n",
    "    P(A | E) = P(E | A) * P(A) / P(E) \n",
    "             = 0.04 * 0.5 / 0.027 = 0.7407407407\n",
    "             \n",
    "You have a choice: you can use Bayes Theorem to calculate answers like this, or you can use sample spaces to calculate answers directly.\n",
    "\n",
    "There is one important question that Allen Downey does not address: would you consider eating twenty-year-old M&Ms?"
   ]
  },
  {
   "cell_type": "markdown",
   "metadata": {
    "button": false,
    "deletable": true,
    "new_sheet": false,
    "run_control": {
     "read_only": false
    }
   },
   "source": [
    "# Simulation\n",
    "\n",
    "Sometimes it is inconvenient to explicitly define a sample space. Perhaps the sample space is infinite, or perhaps it is just very large and complicated, and we feel more confident in writing a program to *simulate* the situation, rather than one to *enumerate* the complete sample space. *Sampling* from the simulation\n",
    "can give an accurate estimate of the probability.\n",
    "\n",
    "For example, here's a simulation of the Monty Hall problem. Given a boolean input, `switch`, saying whether the contestent wants to switch doors or not, the function `monty(switch)` returns True iff the contestant picks the car."
   ]
  },
  {
   "cell_type": "code",
   "execution_count": null,
   "metadata": {
    "button": false,
    "collapsed": false,
    "deletable": true,
    "new_sheet": false,
    "run_control": {
     "read_only": false
    }
   },
   "outputs": [],
   "source": [
    "import random\n",
    "from collections import Counter\n",
    "\n",
    "def monty(switch=True):\n",
    "    \"\"\"Simulate this sequence of events:\n",
    "    1. The host randomly chooses a door for the 'car'\n",
    "    2. The contestant randomly makes a 'pick' of one of the doors\n",
    "    3. The host randomly selects a non-car, non-pick door to be 'opened.' \n",
    "    4. If 'switch' is True, contestant changes 'pick' to the other door\n",
    "    5. Return true if the pick is the door with the car.\"\"\"\n",
    "    doors  = (1, 2, 3)\n",
    "    car    = random.choice(doors)\n",
    "    pick   = random.choice(doors)\n",
    "    opened = random.choice([d for d in doors if d != car and d != pick])\n",
    "    if switch:\n",
    "        pick = next(d for d in doors if d != pick and d != opened)\n",
    "    return (pick == car)"
   ]
  },
  {
   "cell_type": "markdown",
   "metadata": {
    "button": false,
    "deletable": true,
    "new_sheet": false,
    "run_control": {
     "read_only": false
    }
   },
   "source": [
    "We can confirm that the contestant wins about 2/3 of the time with the `switch` strategy, and only wins about 1/3 of the time when not switching:"
   ]
  },
  {
   "cell_type": "code",
   "execution_count": null,
   "metadata": {
    "button": false,
    "collapsed": false,
    "deletable": true,
    "new_sheet": false,
    "run_control": {
     "read_only": false
    }
   },
   "outputs": [],
   "source": [
    "Counter(monty(switch=True) for _ in range(10 ** 5))"
   ]
  },
  {
   "cell_type": "code",
   "execution_count": null,
   "metadata": {
    "button": false,
    "collapsed": false,
    "deletable": true,
    "new_sheet": false,
    "run_control": {
     "read_only": false
    }
   },
   "outputs": [],
   "source": [
    "Counter(monty(switch=False) for _ in range(10 ** 5))"
   ]
  },
  {
   "cell_type": "markdown",
   "metadata": {
    "button": false,
    "deletable": true,
    "new_sheet": false,
    "run_control": {
     "read_only": false
    }
   },
   "source": [
    "# Simulating Monopoly\n",
    "\n",
    "Here's another example where simulation is easier than enumeration: [problem 84](https://projecteuler.net/problem=84) from the excellent [Project Euler](https://projecteuler.net) asks for the probability that a player in the game *Monopoly* ends a roll on each of the squares on the board.  To answer this we need to take into account die rolls, chance and community chest cards, and going to jail (from the \"go to jail\" space, from a card, or from rolling doubles three times in a row). We do not need to take into account anything about buying or selling properties or exchanging money or winning or losing the game, because these don't change a player's location. We can assume that a player in jail will always pay to get out of jail immediately. Here is a simulation:"
   ]
  },
  {
   "cell_type": "code",
   "execution_count": null,
   "metadata": {
    "button": false,
    "collapsed": false,
    "deletable": true,
    "new_sheet": false,
    "run_control": {
     "read_only": false
    }
   },
   "outputs": [],
   "source": [
    "from collections import deque as Deck\n",
    "\n",
    "# The board: a list of the names of the 40 squares\n",
    "board = \"\"\"GO   A1 CC1 A2  T1 R1 B1  CH1 B2 B3\n",
    "           JAIL C1 U1  C2  C3 R2 D1  CC2 D2 D3 \n",
    "           FP   E1 CH2 E2  E3 R3 F1  F2  U2 F3 \n",
    "           G2J  G1 G2  CC3 G3 R4 CH3 H1  T2 H2\"\"\".split()\n",
    "\n",
    "# Lists of 16 community chest and 16 chance cards. See do_card.\n",
    "CC = ['GO', 'JAIL'] + 14 * ['?']\n",
    "CH = 'GO JAIL C1 E3 H2 R1 R R U -3'.split() + 6 * ['?']\n",
    "\n",
    "def monopoly(steps):\n",
    "    \"\"\"Simulate given number of steps of monopoly game, \n",
    "    yielding the name of the current square after each step.\"\"\"\n",
    "    global here\n",
    "    here = 0\n",
    "    CC_deck = Deck(shuffle(CC))\n",
    "    CH_deck = Deck(shuffle(CH))\n",
    "    doubles = 0\n",
    "    for _ in range(steps):\n",
    "        d1, d2 = random.randint(1, 6), random.randint(1, 6)\n",
    "        goto(here + d1 + d2)\n",
    "        doubles = (doubles + 1) if (d1 == d2) else 0\n",
    "        if doubles == 3 or board[here] == 'G2J':  \n",
    "            goto('JAIL')\n",
    "        elif board[here].startswith('CC'):\n",
    "            do_card(CC_deck)\n",
    "        elif board[here].startswith('CH'):\n",
    "            do_card(CH_deck)\n",
    "        yield board[here]\n",
    "\n",
    "def goto(square):\n",
    "    \"Go to destination square (either a square number or a square name). Update 'here'.\"\n",
    "    global here\n",
    "    if isinstance(square, int):\n",
    "        here = square % len(board)\n",
    "    else:\n",
    "        here = board.index(square)\n",
    "\n",
    "def do_card(deck):\n",
    "    \"Take the top card from deck and do what it says.\"\n",
    "    global here\n",
    "    card = deck[0]           # The top card\n",
    "    deck.rotate(1)           # Move top card to bottom of deck\n",
    "    if card == 'R' or card == 'U': \n",
    "        while not board[here].startswith(card):\n",
    "            goto(here + 1)   # Advance to next railroad or utility\n",
    "    elif card == '-3':\n",
    "        goto(here - 3)       # Go back 3 spaces\n",
    "    elif card != '?':\n",
    "        goto(card)           # Go to destination named on card\n",
    "        \n",
    "def shuffle(items):\n",
    "    \"Shuffle a list of items, and return them.\"\n",
    "    random.shuffle(items)\n",
    "    return items"
   ]
  },
  {
   "cell_type": "markdown",
   "metadata": {
    "button": false,
    "deletable": true,
    "new_sheet": false,
    "run_control": {
     "read_only": false
    }
   },
   "source": [
    "Let's run the simulation for 100,000 dice rolls, and see a histogram and the actual probability for each square:"
   ]
  },
  {
   "cell_type": "code",
   "execution_count": null,
   "metadata": {
    "button": false,
    "collapsed": false,
    "deletable": true,
    "new_sheet": false,
    "run_control": {
     "read_only": false
    }
   },
   "outputs": [],
   "source": [
    "results = list(monopoly(10 ** 5))"
   ]
  },
  {
   "cell_type": "code",
   "execution_count": null,
   "metadata": {
    "button": false,
    "collapsed": false,
    "deletable": true,
    "new_sheet": false,
    "run_control": {
     "read_only": false
    }
   },
   "outputs": [],
   "source": [
    "%matplotlib inline \n",
    "import matplotlib.pyplot as plt\n",
    "\n",
    "plt.hist([board.index(name) for name in results], bins=40);"
   ]
  },
  {
   "cell_type": "code",
   "execution_count": null,
   "metadata": {
    "button": false,
    "collapsed": false,
    "deletable": true,
    "new_sheet": false,
    "run_control": {
     "read_only": false
    }
   },
   "outputs": [],
   "source": [
    "ProbDist(Counter(results))"
   ]
  },
  {
   "cell_type": "markdown",
   "metadata": {
    "button": false,
    "deletable": true,
    "new_sheet": false,
    "run_control": {
     "read_only": false
    }
   },
   "source": [
    "We can see that `JAIL` is by far the most popular square (at a little over 6%), and that the three least popular squares (around 1%) are the three chance squares, `CH1`, `CH2`, and `CH3` (because 10 of the 16 chance cards send the player away from the square), and of course the \"Go to Jail\" square, square number 30 on the plot, which has a count of 0 because you can't end a turn there. The other squares are pretty evenly distributed at 2% to 3% each."
   ]
  },
  {
   "cell_type": "markdown",
   "metadata": {
    "button": false,
    "deletable": true,
    "new_sheet": false,
    "run_control": {
     "read_only": false
    }
   },
   "source": [
    "# Classy Monopoly\n",
    "\n",
    "Some people might think that the \"`global here`\" is bad style. One way to eliminate global variables is to pack them up into objects.  We can do that by making a `Monopoly` class.  My personal preference would be that the \"`global here`\" declarations add less visual clutter than the 32 instances of \"`self.`\" needed for the class definition, but I present this refactored version for those who prefer it."
   ]
  },
  {
   "cell_type": "code",
   "execution_count": null,
   "metadata": {
    "button": false,
    "collapsed": false,
    "deletable": true,
    "new_sheet": false,
    "run_control": {
     "read_only": false
    }
   },
   "outputs": [],
   "source": [
    "class Monopoly(object):\n",
    "\n",
    "    def __init__(self):\n",
    "        \"Initialize the Monopoly game.\"\n",
    "        self.board = split(\"\"\"GO   A1 CC1 A2  T1 R1 B1  CH1 B2 B3\n",
    "                              JAIL C1 U1  C2  C3 R2 D1  CC2 D2 D3 \n",
    "                              FP   E1 CH2 E2  E3 R3 F1  F2  U2 F3 \n",
    "                              G2J  G1 G2  CC3 G3 R4 CH3 H1  T2 H2\"\"\")\n",
    "        self.CC = Deck(shuffle(split('GO JAIL' + 14 * ' ?')))\n",
    "        self.CH = Deck(shuffle(split('GO JAIL C1 E3 H2 R1 R R U -3' + 6 * ' ?')))\n",
    "        self.here = 0\n",
    "        self.counter = Counter()\n",
    "        \n",
    "    def simulate(self, steps):\n",
    "        \"\"\"Simulate given number of steps of monopoly game, incrementing counter \n",
    "        for current square after each step. Return a list of (square, count) pairs in order.\"\"\"\n",
    "        doubles = 0\n",
    "        for _ in range(steps):\n",
    "            d1, d2 = random.randint(1, 6), random.randint(1, 6)\n",
    "            self.goto(self.here + d1 + d2)\n",
    "            doubles = (doubles + 1) if (d1 == d2) else 0\n",
    "            if doubles == 3 or self.board[self.here] == 'G2J':  \n",
    "                self.goto('JAIL')\n",
    "            elif self.board[self.here].startswith('CC'):\n",
    "                self.do_card(self.CC)\n",
    "            elif self.board[self.here].startswith('CH'):\n",
    "                self.do_card(self.CH)\n",
    "            self.counter[self.board[self.here]] += 1\n",
    "        return ProbDist(self.counter)\n",
    "\n",
    "    def goto(self, square):\n",
    "        \"Go to destination square, which can be either a square number or a square name.\"\n",
    "        if isinstance(square, int):\n",
    "            self.here = square % len(self.board)\n",
    "        else:\n",
    "            self.here = self.board.index(square)\n",
    "\n",
    "    def do_card(self, deck):\n",
    "        \"Take the top card from deck and do what it says.\"\n",
    "        card = deck[0]                   # Top card from deck\n",
    "        deck.rotate(1)                   # Move top card to bottom of deck\n",
    "        if card == 'R' or card == 'U': \n",
    "            while not self.board[self.here].startswith(card):\n",
    "                self.goto(self.here + 1) # Advance to next railroad or utility\n",
    "        elif card == '-3':\n",
    "            self.goto(self.here - 3)     # Go back 3 spaces\n",
    "        elif card != '?':\n",
    "            self.goto(card)              # Go to a destination\n",
    "        \n",
    "split = str.split\n",
    "\n",
    "results = list(monopoly(10 ** 5))\n",
    "Monopoly().simulate(10 ** 5)"
   ]
  },
  {
   "cell_type": "markdown",
   "metadata": {
    "button": false,
    "deletable": true,
    "new_sheet": false,
    "run_control": {
     "read_only": false
    }
   },
   "source": [
    "# The St. Petersburg Paradox\n",
    "\n",
    "One more famous paradox:  The [St. Petersburg paradox](https://en.wikipedia.org/wiki/St._Petersburg_paradox) from 1713, named for the home town of the [Bernoullis](http://www.storyofmathematics.com/18th_bernoulli.html), and introduced by [Daniel Bernoulli](), the nephew of Jacob Bernoulli (the urn guy).\n",
    "\n",
    "> *A casino offers a game of chance for a single player in which a fair coin is tossed at each stage. The pot starts at 2 dollars and is doubled every time a head appears. The first time a tail appears, the game ends and the player wins whatever is in the pot. Thus the player wins 2 dollars if a tail appears on the first toss, 4 dollars if a head appears on the first toss and a tail on the second, etc. What is the expected value of this game to the player?*\n",
    "\n",
    "To calculate the expected value, we see there is a 1/2 chance of a tail on the first toss (yielding a pot of \\$2) and if not that, a 1/2 &times; 1/2 = 1/4 chance of a tail on the second toss (yielding a pot of \\$4), and so on. So in total, the expected value is:\n",
    "\n",
    "$$\\frac{1}{2}\\cdot 2 + \\frac{1}{4}\\cdot 4 + \\frac{1}{8}\\cdot 8 + \\frac{1}{16} \\cdot 16 + \\cdots = 1 + 1 + 1 + 1 + \\cdots = \\infty$$\n",
    "\n",
    "The expected value is infinite! But anyone playing the game would not expect to win an infinite amount; thus the paradox.\n",
    "\n",
    "## Response 1: Limited Resources\n",
    "\n",
    "The first major response to the paradox is that the casino's resources are limited. Once you break their bank, they can't pay out any more, and thus the expected return is finite. Let's consider the case where the bank has a limit to their resources, and create a probability distribution for the problem. We keep doubling the pot and halving the probability of winning the amount in the pot (half because you get the pot on a tail but not a head), until we reach the limit."
   ]
  },
  {
   "cell_type": "code",
   "execution_count": null,
   "metadata": {
    "button": false,
    "collapsed": false,
    "deletable": true,
    "new_sheet": false,
    "run_control": {
     "read_only": false
    }
   },
   "outputs": [],
   "source": [
    "def st_pete(limit):\n",
    "    \"Return the probability distribution for the St. Petersburg Paradox with a limited bank.\"\n",
    "    P = {}     # The probability distribution\n",
    "    pot = 2    # Amount of money in the pot\n",
    "    pr  = 1/2. # Probability that you end up with the amount in pot\n",
    "    while pot < limit:\n",
    "        P[pot] = pr\n",
    "        pot, pr = pot * 2, pr / 2.\n",
    "    P[limit] = pr * 2               # pr * 2 because you get limit for heads or tails\n",
    "    assert sum(P.values()) == 1.0\n",
    "    return P"
   ]
  },
  {
   "cell_type": "markdown",
   "metadata": {
    "button": false,
    "deletable": true,
    "new_sheet": false,
    "run_control": {
     "read_only": false
    }
   },
   "source": [
    "Let's try with the casino limited to 100 million dollars:"
   ]
  },
  {
   "cell_type": "code",
   "execution_count": null,
   "metadata": {
    "button": false,
    "collapsed": false,
    "deletable": true,
    "new_sheet": false,
    "run_control": {
     "read_only": false
    }
   },
   "outputs": [],
   "source": [
    "StP = st_pete(limit=10**8)\n",
    "StP"
   ]
  },
  {
   "cell_type": "markdown",
   "metadata": {
    "button": false,
    "deletable": true,
    "new_sheet": false,
    "run_control": {
     "read_only": false
    }
   },
   "source": [
    "Now we define the function `EV` to compute the [expected value](https://en.wikipedia.org/wiki/Expected_value) of a probability distribution: "
   ]
  },
  {
   "cell_type": "code",
   "execution_count": null,
   "metadata": {
    "button": false,
    "collapsed": false,
    "deletable": true,
    "new_sheet": false,
    "run_control": {
     "read_only": false
    }
   },
   "outputs": [],
   "source": [
    "def EV(P):\n",
    "    \"The expected value of a probability distribution.\"\n",
    "    return sum(P[v] * v \n",
    "               for v in P)"
   ]
  },
  {
   "cell_type": "code",
   "execution_count": null,
   "metadata": {
    "button": false,
    "collapsed": false,
    "deletable": true,
    "new_sheet": false,
    "run_control": {
     "read_only": false
    }
   },
   "outputs": [],
   "source": [
    "EV(StP)"
   ]
  },
  {
   "cell_type": "markdown",
   "metadata": {
    "button": false,
    "deletable": true,
    "new_sheet": false,
    "run_control": {
     "read_only": false
    }
   },
   "source": [
    "This says that for a casino with a bankroll of 100 million dollars, if you want to maximize your expected value, you should be willing to pay up to \\$27.49 to play the game. Would you pay that much? I wouldn't, and neither would Daniel Bernoulli. \n",
    "\n",
    "## Response 2: Value of Money\n",
    "\n",
    "Daniel Bernoulli came up with a second response to the paradox based on the idea that if you have a lot of money, then additional money becomes less valuable to you. If I had nothing, and I won \\$1000, I would be very happy. But if I already had a million dollars and I won \\$1000, it would be less valuable. How much less valuable? Bernoulli proposed, and [experiments confirm](https://books.google.com/books?id=1oEa-BiARWUC&pg=PA205&lpg=PA205&dq=mr+beard+oil+wildcatter+value+of+money+utility&source=bl&ots=cBDIX-rkTz&sig=GHB8-inorWrU39vA8JYV_sCtqB8&hl=en&sa=X&ved=0CCAQ6AEwAGoVChMI5fu-p8qlyAIViKWICh0XAAz5#v=onepage&q=mr%20beard%20oil%20wildcatter%20value%20of%20money%20utility&f=false), that *the value of money is roughly logarithmic.* That is, rational bettors don't try to maximize their expected monetary value, they try to maximize their *expected utility*: the amount of \"happiness\" that the money is worth.\n",
    "I'll write the function `util` to describe what a dollar amount is worth to a hypothetical gambler. `util` says that a dollar is worth a dollar, until the amount is \"enough\" money. After that point, each additional dollar is worth half as much (only brings half as much happiness). Value keeps accumulating at this rate until we reach the next threshold of \"enough,\" when the utility of additional dollars is halfed again. The exact details of `util` are not critical; what matters is that overall money becomes less valuable after we have won a lot of it."
   ]
  },
  {
   "cell_type": "code",
   "execution_count": null,
   "metadata": {
    "button": false,
    "collapsed": false,
    "deletable": true,
    "new_sheet": false,
    "run_control": {
     "read_only": false
    }
   },
   "outputs": [],
   "source": [
    "def util(dollars, enough=1000): \n",
    "    \"The value of money: only half as valuable after you already have enough.\"\n",
    "    if dollars < enough:\n",
    "        return dollars\n",
    "    else:\n",
    "        return enough + util((dollars-enough)/2., enough*2)"
   ]
  },
  {
   "cell_type": "markdown",
   "metadata": {
    "button": false,
    "deletable": true,
    "new_sheet": false,
    "run_control": {
     "read_only": false
    }
   },
   "source": [
    "A table and a plot will give a feel for the `util` function. Notice the characterisitc concave-down shape of the plot."
   ]
  },
  {
   "cell_type": "code",
   "execution_count": null,
   "metadata": {
    "button": false,
    "collapsed": false,
    "deletable": true,
    "new_sheet": false,
    "run_control": {
     "read_only": false
    }
   },
   "outputs": [],
   "source": [
    "for d in range(2, 10):\n",
    "    m = 10 ** d\n",
    "    print('{:15,d} $ = {:10,d} util'.format(m, int(util(m))))"
   ]
  },
  {
   "cell_type": "code",
   "execution_count": null,
   "metadata": {
    "button": false,
    "collapsed": false,
    "deletable": true,
    "new_sheet": false,
    "run_control": {
     "read_only": false
    }
   },
   "outputs": [],
   "source": [
    "plt.plot([util(x) for x in range(1000, 10000000, 1000)])\n",
    "print('Y axis is util(x); x axis is in thousands of dollars.')"
   ]
  },
  {
   "cell_type": "markdown",
   "metadata": {
    "button": false,
    "deletable": true,
    "new_sheet": false,
    "run_control": {
     "read_only": false
    }
   },
   "source": [
    "Now I will define the function `EU`, which computes the [expected utility](http://wiki.lesswrong.com/wiki/Expected_utility) of the game:"
   ]
  },
  {
   "cell_type": "code",
   "execution_count": null,
   "metadata": {
    "button": false,
    "collapsed": false,
    "deletable": true,
    "new_sheet": false,
    "run_control": {
     "read_only": false
    }
   },
   "outputs": [],
   "source": [
    "def EU(P, U):\n",
    "    \"The expected utility of a probability distribution, given a utility function.\"\n",
    "    return sum(P[e] * U(e) \n",
    "               for e in P)"
   ]
  },
  {
   "cell_type": "code",
   "execution_count": null,
   "metadata": {
    "button": false,
    "collapsed": false,
    "deletable": true,
    "new_sheet": false,
    "run_control": {
     "read_only": false
    }
   },
   "outputs": [],
   "source": [
    "EU(StP, util)"
   ]
  },
  {
   "cell_type": "markdown",
   "metadata": {
    "button": false,
    "deletable": true,
    "new_sheet": false,
    "run_control": {
     "read_only": false
    }
   },
   "source": [
    "That says we should pay up to \\$13.10 to play the game, which sounds more reasonable than \\$27.49.\n",
    "\n",
    "# Understanding St. Petersburg  through Simulation\n",
    "\n",
    "Before I plunk down my \\$13, I'd like to understand the game better. I'll write a simulation of the game:"
   ]
  },
  {
   "cell_type": "code",
   "execution_count": null,
   "metadata": {
    "button": false,
    "collapsed": true,
    "deletable": true,
    "new_sheet": false,
    "run_control": {
     "read_only": false
    }
   },
   "outputs": [],
   "source": [
    "def flip(): return random.choice(('head', 'tail'))\n",
    "\n",
    "def simulate_st_pete(limit=10**9):\n",
    "    \"Simulate one round of the St. Petersburg game, and return the payoff.\"\n",
    "    pot = 2\n",
    "    while flip() == 'head':\n",
    "        pot = pot * 2\n",
    "        if pot > limit:\n",
    "            return limit\n",
    "    return pot"
   ]
  },
  {
   "cell_type": "markdown",
   "metadata": {
    "button": false,
    "deletable": true,
    "new_sheet": false,
    "run_control": {
     "read_only": false
    }
   },
   "source": [
    "I will run the simulation 100,000 times (with a random seed specified for reproducability) and make the results into a probability distribution:"
   ]
  },
  {
   "cell_type": "code",
   "execution_count": null,
   "metadata": {
    "button": false,
    "collapsed": false,
    "deletable": true,
    "new_sheet": false,
    "run_control": {
     "read_only": false
    }
   },
   "outputs": [],
   "source": [
    "random.seed(123456)\n",
    "\n",
    "results = ProbDist(Counter(simulate_st_pete() for _ in range(100000)))\n",
    "results"
   ]
  },
  {
   "cell_type": "markdown",
   "metadata": {
    "button": false,
    "deletable": true,
    "new_sheet": false,
    "run_control": {
     "read_only": false
    }
   },
   "source": [
    "The results are about what you would expect: about half the pots are 2, a quarter are 4, and higher pots are more and more unlikely.  Let's check expected utility and expected value:"
   ]
  },
  {
   "cell_type": "code",
   "execution_count": null,
   "metadata": {
    "button": false,
    "collapsed": false,
    "deletable": true,
    "new_sheet": false,
    "run_control": {
     "read_only": false
    }
   },
   "outputs": [],
   "source": [
    "EU(results, util), EV(results)"
   ]
  },
  {
   "cell_type": "markdown",
   "metadata": {
    "button": false,
    "deletable": true,
    "new_sheet": false,
    "run_control": {
     "read_only": false
    }
   },
   "source": [
    "These are not too far off from the theoretial values.\n",
    "\n",
    "To see better how things unfold, I will define a function to plot the running average of repeated rounds:"
   ]
  },
  {
   "cell_type": "code",
   "execution_count": null,
   "metadata": {
    "button": false,
    "collapsed": false,
    "deletable": true,
    "new_sheet": false,
    "run_control": {
     "read_only": false
    }
   },
   "outputs": [],
   "source": [
    "def running_averages(iterable):\n",
    "    \"For each element in the iterable, yield the mean of all elements seen so far.\" \n",
    "    total, n = 0, 0\n",
    "    for x in iterable:\n",
    "        total, n = total + x, n + 1\n",
    "        yield total / n\n",
    "\n",
    "def plot_running_averages(fn, n):\n",
    "    \"Plot the running average of calling the function n times.\"\n",
    "    plt.plot(list(running_averages(fn() for _ in range(n))))"
   ]
  },
  {
   "cell_type": "markdown",
   "metadata": {
    "button": false,
    "deletable": true,
    "new_sheet": false,
    "run_control": {
     "read_only": false
    }
   },
   "source": [
    "Let's do ten repetitions of plotting 100,000 rounds each repetition:"
   ]
  },
  {
   "cell_type": "code",
   "execution_count": null,
   "metadata": {
    "button": false,
    "collapsed": false,
    "deletable": true,
    "new_sheet": false,
    "run_control": {
     "read_only": false
    }
   },
   "outputs": [],
   "source": [
    "random.seed('running')\n",
    "\n",
    "for i in range(10):\n",
    "    plot_running_averages(simulate_st_pete, 100000);"
   ]
  },
  {
   "cell_type": "markdown",
   "metadata": {
    "button": false,
    "deletable": true,
    "new_sheet": false,
    "run_control": {
     "read_only": false
    }
   },
   "source": [
    "What can we see from this?  Nine of the 10 repetitions have a final expected value payoff (after 100,000 rounds) between 10 and 35. So a price around \\$13 still seems reasonable. One outlier has an average payoff just over 100, so if you are feeling lucky you might be willing to pay more than \\$13."
   ]
  },
  {
   "cell_type": "markdown",
   "metadata": {
    "button": false,
    "deletable": true,
    "new_sheet": false,
    "run_control": {
     "read_only": false
    }
   },
   "source": [
    "# Conclusion\n",
    "\n",
    "We've seen how to manage probability paradoxes. And we've seen how to handle tricky non-paradoxical problems as well. Just be explicit about what the problem says, and then methodical about defining the sample space, and finally be careful in counting the number of outcomes in the numerator and denominator. Easy as 1-2-3. But the bigger lesson is: treat those around you as reasonable people, and when they have different opinions, try to discover what problem they are  solving.\n",
    "\n",
    "*Note*: Here is a very nice [translation of this page to Julia](http://nbviewer.ipython.org/gist/mbeltagy/3ba5f77da6382da192c3) by \n",
    "Mohammed El-Beltagy."
   ]
  }
 ],
 "metadata": {
  "kernelspec": {
   "display_name": "Python 3",
   "language": "python",
   "name": "python3"
  },
  "language_info": {
   "codemirror_mode": {
    "name": "ipython",
    "version": 3
   },
   "file_extension": ".py",
   "mimetype": "text/x-python",
   "name": "python",
   "nbconvert_exporter": "python",
   "pygments_lexer": "ipython3",
   "version": "3.4.4"
  }
 },
 "nbformat": 4,
 "nbformat_minor": 0
}

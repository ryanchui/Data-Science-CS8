{
 "cells": [
  {
   "cell_type": "code",
   "execution_count": 1,
   "metadata": {
    "collapsed": true
   },
   "outputs": [],
   "source": [
    "import numpy as np\n",
    "from datascience import *\n",
    "\n",
    "# Configure notebook (happens automatically on data8.berkeley.edu)\n",
    "%matplotlib inline\n",
    "import matplotlib.pyplot as plt\n",
    "plt.style.use('fivethirtyeight')\n",
    "\n",
    "# Configure for presentation\n",
    "np.set_printoptions(threshold=50, linewidth=50)\n",
    "import matplotlib as mpl\n",
    "mpl.rc('font', size=16)"
   ]
  },
  {
   "cell_type": "markdown",
   "metadata": {},
   "source": [
    "## Where"
   ]
  },
  {
   "cell_type": "code",
   "execution_count": 2,
   "metadata": {
    "collapsed": false
   },
   "outputs": [
    {
     "data": {
      "text/html": [
       "<table border=\"1\" class=\"dataframe\">\n",
       "    <thead>\n",
       "        <tr>\n",
       "            <th>Title</th> <th>Studio</th> <th>Gross</th> <th>Gross (Adjusted)</th> <th>Year</th>\n",
       "        </tr>\n",
       "    </thead>\n",
       "    <tbody>\n",
       "        <tr>\n",
       "            <td>Star Wars: The Force Awakens             </td> <td>Buena Vista (Disney)</td> <td>906723418</td> <td>906723400       </td> <td>2015</td>\n",
       "        </tr>\n",
       "    </tbody>\n",
       "        <tr>\n",
       "            <td>Avatar                                   </td> <td>Fox                 </td> <td>760507625</td> <td>846120800       </td> <td>2009</td>\n",
       "        </tr>\n",
       "    </tbody>\n",
       "        <tr>\n",
       "            <td>Titanic                                  </td> <td>Paramount           </td> <td>658672302</td> <td>1178627900      </td> <td>1997</td>\n",
       "        </tr>\n",
       "    </tbody>\n",
       "        <tr>\n",
       "            <td>Jurassic World                           </td> <td>Universal           </td> <td>652270625</td> <td>687728000       </td> <td>2015</td>\n",
       "        </tr>\n",
       "    </tbody>\n",
       "        <tr>\n",
       "            <td>Marvel's The Avengers                    </td> <td>Buena Vista (Disney)</td> <td>623357910</td> <td>668866600       </td> <td>2012</td>\n",
       "        </tr>\n",
       "    </tbody>\n",
       "        <tr>\n",
       "            <td>The Dark Knight                          </td> <td>Warner Bros.        </td> <td>534858444</td> <td>647761600       </td> <td>2008</td>\n",
       "        </tr>\n",
       "    </tbody>\n",
       "        <tr>\n",
       "            <td>Star Wars: Episode I - The Phantom Menace</td> <td>Fox                 </td> <td>474544677</td> <td>785715000       </td> <td>1999</td>\n",
       "        </tr>\n",
       "    </tbody>\n",
       "        <tr>\n",
       "            <td>Star Wars                                </td> <td>Fox                 </td> <td>460998007</td> <td>1549640500      </td> <td>1977</td>\n",
       "        </tr>\n",
       "    </tbody>\n",
       "        <tr>\n",
       "            <td>Avengers: Age of Ultron                  </td> <td>Buena Vista (Disney)</td> <td>459005868</td> <td>465684200       </td> <td>2015</td>\n",
       "        </tr>\n",
       "    </tbody>\n",
       "        <tr>\n",
       "            <td>The Dark Knight Rises                    </td> <td>Warner Bros.        </td> <td>448139099</td> <td>500961700       </td> <td>2012</td>\n",
       "        </tr>\n",
       "    </tbody>\n",
       "</table>\n",
       "<p>... (190 rows omitted)</p"
      ],
      "text/plain": [
       "Title                                     | Studio               | Gross     | Gross (Adjusted) | Year\n",
       "Star Wars: The Force Awakens              | Buena Vista (Disney) | 906723418 | 906723400        | 2015\n",
       "Avatar                                    | Fox                  | 760507625 | 846120800        | 2009\n",
       "Titanic                                   | Paramount            | 658672302 | 1178627900       | 1997\n",
       "Jurassic World                            | Universal            | 652270625 | 687728000        | 2015\n",
       "Marvel's The Avengers                     | Buena Vista (Disney) | 623357910 | 668866600        | 2012\n",
       "The Dark Knight                           | Warner Bros.         | 534858444 | 647761600        | 2008\n",
       "Star Wars: Episode I - The Phantom Menace | Fox                  | 474544677 | 785715000        | 1999\n",
       "Star Wars                                 | Fox                  | 460998007 | 1549640500       | 1977\n",
       "Avengers: Age of Ultron                   | Buena Vista (Disney) | 459005868 | 465684200        | 2015\n",
       "The Dark Knight Rises                     | Warner Bros.         | 448139099 | 500961700        | 2012\n",
       "... (190 rows omitted)"
      ]
     },
     "execution_count": 2,
     "metadata": {},
     "output_type": "execute_result"
    }
   ],
   "source": [
    "t = Table.read_table('top_movies.csv')\n",
    "t"
   ]
  },
  {
   "cell_type": "code",
   "execution_count": 3,
   "metadata": {
    "collapsed": false
   },
   "outputs": [
    {
     "data": {
      "text/html": [
       "<table border=\"1\" class=\"dataframe\">\n",
       "    <thead>\n",
       "        <tr>\n",
       "            <th>Title</th> <th>Studio</th> <th>Gross</th> <th>Gross (Adjusted)</th> <th>Year</th>\n",
       "        </tr>\n",
       "    </thead>\n",
       "    <tbody>\n",
       "        <tr>\n",
       "            <td>Star Wars: The Force Awakens</td> <td>Buena Vista (Disney)</td> <td>906723418</td> <td>906723400       </td> <td>2015</td>\n",
       "        </tr>\n",
       "    </tbody>\n",
       "        <tr>\n",
       "            <td>Jurassic World              </td> <td>Universal           </td> <td>652270625</td> <td>687728000       </td> <td>2015</td>\n",
       "        </tr>\n",
       "    </tbody>\n",
       "        <tr>\n",
       "            <td>Avengers: Age of Ultron     </td> <td>Buena Vista (Disney)</td> <td>459005868</td> <td>465684200       </td> <td>2015</td>\n",
       "        </tr>\n",
       "    </tbody>\n",
       "        <tr>\n",
       "            <td>Inside Out                  </td> <td>Buena Vista (Disney)</td> <td>356461711</td> <td>375723400       </td> <td>2015</td>\n",
       "        </tr>\n",
       "    </tbody>\n",
       "        <tr>\n",
       "            <td>Furious 7                   </td> <td>Universal           </td> <td>353007020</td> <td>356907000       </td> <td>2015</td>\n",
       "        </tr>\n",
       "    </tbody>\n",
       "        <tr>\n",
       "            <td>Minions                     </td> <td>Universal           </td> <td>336045770</td> <td>354213900       </td> <td>2015</td>\n",
       "        </tr>\n",
       "    </tbody>\n",
       "</table>"
      ],
      "text/plain": [
       "Title                        | Studio               | Gross     | Gross (Adjusted) | Year\n",
       "Star Wars: The Force Awakens | Buena Vista (Disney) | 906723418 | 906723400        | 2015\n",
       "Jurassic World               | Universal            | 652270625 | 687728000        | 2015\n",
       "Avengers: Age of Ultron      | Buena Vista (Disney) | 459005868 | 465684200        | 2015\n",
       "Inside Out                   | Buena Vista (Disney) | 356461711 | 375723400        | 2015\n",
       "Furious 7                    | Universal            | 353007020 | 356907000        | 2015\n",
       "Minions                      | Universal            | 336045770 | 354213900        | 2015"
      ]
     },
     "execution_count": 3,
     "metadata": {},
     "output_type": "execute_result"
    }
   ],
   "source": [
    "t.where('Year', 2015)"
   ]
  },
  {
   "cell_type": "code",
   "execution_count": 4,
   "metadata": {
    "collapsed": false
   },
   "outputs": [
    {
     "data": {
      "text/html": [
       "<table border=\"1\" class=\"dataframe\">\n",
       "    <thead>\n",
       "        <tr>\n",
       "            <th>Title</th> <th>Studio</th> <th>Gross</th> <th>Gross (Adjusted)</th> <th>Year</th>\n",
       "        </tr>\n",
       "    </thead>\n",
       "    <tbody>\n",
       "        <tr>\n",
       "            <td>Star Wars: The Force Awakens         </td> <td>Buena Vista (Disney)</td> <td>906723418</td> <td>906723400       </td> <td>2015</td>\n",
       "        </tr>\n",
       "    </tbody>\n",
       "        <tr>\n",
       "            <td>Jurassic World                       </td> <td>Universal           </td> <td>652270625</td> <td>687728000       </td> <td>2015</td>\n",
       "        </tr>\n",
       "    </tbody>\n",
       "        <tr>\n",
       "            <td>Avengers: Age of Ultron              </td> <td>Buena Vista (Disney)</td> <td>459005868</td> <td>465684200       </td> <td>2015</td>\n",
       "        </tr>\n",
       "    </tbody>\n",
       "        <tr>\n",
       "            <td>Inside Out                           </td> <td>Buena Vista (Disney)</td> <td>356461711</td> <td>375723400       </td> <td>2015</td>\n",
       "        </tr>\n",
       "    </tbody>\n",
       "        <tr>\n",
       "            <td>Furious 7                            </td> <td>Universal           </td> <td>353007020</td> <td>356907000       </td> <td>2015</td>\n",
       "        </tr>\n",
       "    </tbody>\n",
       "        <tr>\n",
       "            <td>American Sniper                      </td> <td>Warner Bros.        </td> <td>350126372</td> <td>374796000       </td> <td>2014</td>\n",
       "        </tr>\n",
       "    </tbody>\n",
       "        <tr>\n",
       "            <td>The Hunger Games: Mockingjay - Part 1</td> <td>Lionsgate           </td> <td>337135885</td> <td>354324000       </td> <td>2014</td>\n",
       "        </tr>\n",
       "    </tbody>\n",
       "        <tr>\n",
       "            <td>Minions                              </td> <td>Universal           </td> <td>336045770</td> <td>354213900       </td> <td>2015</td>\n",
       "        </tr>\n",
       "    </tbody>\n",
       "        <tr>\n",
       "            <td>Guardians of the Galaxy              </td> <td>Buena Vista (Disney)</td> <td>333176600</td> <td>358244800       </td> <td>2014</td>\n",
       "        </tr>\n",
       "    </tbody>\n",
       "</table>"
      ],
      "text/plain": [
       "Title                                 | Studio               | Gross     | Gross (Adjusted) | Year\n",
       "Star Wars: The Force Awakens          | Buena Vista (Disney) | 906723418 | 906723400        | 2015\n",
       "Jurassic World                        | Universal            | 652270625 | 687728000        | 2015\n",
       "Avengers: Age of Ultron               | Buena Vista (Disney) | 459005868 | 465684200        | 2015\n",
       "Inside Out                            | Buena Vista (Disney) | 356461711 | 375723400        | 2015\n",
       "Furious 7                             | Universal            | 353007020 | 356907000        | 2015\n",
       "American Sniper                       | Warner Bros.         | 350126372 | 374796000        | 2014\n",
       "The Hunger Games: Mockingjay - Part 1 | Lionsgate            | 337135885 | 354324000        | 2014\n",
       "Minions                               | Universal            | 336045770 | 354213900        | 2015\n",
       "Guardians of the Galaxy               | Buena Vista (Disney) | 333176600 | 358244800        | 2014"
      ]
     },
     "execution_count": 4,
     "metadata": {},
     "output_type": "execute_result"
    }
   ],
   "source": [
    "t.where('Year', are.above(2013))"
   ]
  },
  {
   "cell_type": "code",
   "execution_count": 5,
   "metadata": {
    "collapsed": false
   },
   "outputs": [
    {
     "data": {
      "text/html": [
       "<table border=\"1\" class=\"dataframe\">\n",
       "    <thead>\n",
       "        <tr>\n",
       "            <th>Title</th> <th>Studio</th> <th>Gross</th> <th>Gross (Adjusted)</th> <th>Year</th>\n",
       "        </tr>\n",
       "    </thead>\n",
       "    <tbody>\n",
       "        <tr>\n",
       "            <td>E.T.: The Extra-Terrestrial         </td> <td>Universal   </td> <td>435110554</td> <td>1234132700      </td> <td>1982</td>\n",
       "        </tr>\n",
       "    </tbody>\n",
       "        <tr>\n",
       "            <td>Return of the Jedi                  </td> <td>Fox         </td> <td>309306177</td> <td>818316900       </td> <td>1983</td>\n",
       "        </tr>\n",
       "    </tbody>\n",
       "        <tr>\n",
       "            <td>The Empire Strikes Back             </td> <td>Fox         </td> <td>290475067</td> <td>854171500       </td> <td>1980</td>\n",
       "        </tr>\n",
       "    </tbody>\n",
       "        <tr>\n",
       "            <td>Batman                              </td> <td>Warner Bros.</td> <td>251188924</td> <td>547705200       </td> <td>1989</td>\n",
       "        </tr>\n",
       "    </tbody>\n",
       "        <tr>\n",
       "            <td>Raiders of the Lost Ark             </td> <td>Paramount   </td> <td>248159971</td> <td>770183000       </td> <td>1981</td>\n",
       "        </tr>\n",
       "    </tbody>\n",
       "        <tr>\n",
       "            <td>Ghostbusters                        </td> <td>Columbia    </td> <td>242212467</td> <td>619211400       </td> <td>1984</td>\n",
       "        </tr>\n",
       "    </tbody>\n",
       "        <tr>\n",
       "            <td>Beverly Hills Cop                   </td> <td>Paramount   </td> <td>234760478</td> <td>584205200       </td> <td>1984</td>\n",
       "        </tr>\n",
       "    </tbody>\n",
       "        <tr>\n",
       "            <td>Back to the Future                  </td> <td>Universal   </td> <td>210609762</td> <td>513740700       </td> <td>1985</td>\n",
       "        </tr>\n",
       "    </tbody>\n",
       "        <tr>\n",
       "            <td>Indiana Jones and the Last Crusade  </td> <td>Paramount   </td> <td>197171806</td> <td>429923500       </td> <td>1989</td>\n",
       "        </tr>\n",
       "    </tbody>\n",
       "        <tr>\n",
       "            <td>Indiana Jones and the Temple of Doom</td> <td>Paramount   </td> <td>179870271</td> <td>465735500       </td> <td>1984</td>\n",
       "        </tr>\n",
       "    </tbody>\n",
       "</table>\n",
       "<p>... (18 rows omitted)</p"
      ],
      "text/plain": [
       "Title                                | Studio       | Gross     | Gross (Adjusted) | Year\n",
       "E.T.: The Extra-Terrestrial          | Universal    | 435110554 | 1234132700       | 1982\n",
       "Return of the Jedi                   | Fox          | 309306177 | 818316900        | 1983\n",
       "The Empire Strikes Back              | Fox          | 290475067 | 854171500        | 1980\n",
       "Batman                               | Warner Bros. | 251188924 | 547705200        | 1989\n",
       "Raiders of the Lost Ark              | Paramount    | 248159971 | 770183000        | 1981\n",
       "Ghostbusters                         | Columbia     | 242212467 | 619211400        | 1984\n",
       "Beverly Hills Cop                    | Paramount    | 234760478 | 584205200        | 1984\n",
       "Back to the Future                   | Universal    | 210609762 | 513740700        | 1985\n",
       "Indiana Jones and the Last Crusade   | Paramount    | 197171806 | 429923500        | 1989\n",
       "Indiana Jones and the Temple of Doom | Paramount    | 179870271 | 465735500        | 1984\n",
       "... (18 rows omitted)"
      ]
     },
     "execution_count": 5,
     "metadata": {},
     "output_type": "execute_result"
    }
   ],
   "source": [
    "t.where('Year', are.between(1980, 1990))"
   ]
  },
  {
   "cell_type": "markdown",
   "metadata": {},
   "source": [
    "## Multinomial Distribution"
   ]
  },
  {
   "cell_type": "code",
   "execution_count": 6,
   "metadata": {
    "collapsed": false
   },
   "outputs": [
    {
     "data": {
      "text/html": [
       "<table border=\"1\" class=\"dataframe\">\n",
       "    <thead>\n",
       "        <tr>\n",
       "            <th>First</th> <th>Second</th> <th>Chance</th>\n",
       "        </tr>\n",
       "    </thead>\n",
       "    <tbody>\n",
       "        <tr>\n",
       "            <td>1    </td> <td>1     </td> <td>2.8%  </td>\n",
       "        </tr>\n",
       "    </tbody>\n",
       "        <tr>\n",
       "            <td>1    </td> <td>2     </td> <td>2.8%  </td>\n",
       "        </tr>\n",
       "    </tbody>\n",
       "        <tr>\n",
       "            <td>1    </td> <td>3     </td> <td>2.8%  </td>\n",
       "        </tr>\n",
       "    </tbody>\n",
       "        <tr>\n",
       "            <td>1    </td> <td>4     </td> <td>2.8%  </td>\n",
       "        </tr>\n",
       "    </tbody>\n",
       "        <tr>\n",
       "            <td>1    </td> <td>5     </td> <td>2.8%  </td>\n",
       "        </tr>\n",
       "    </tbody>\n",
       "        <tr>\n",
       "            <td>1    </td> <td>6     </td> <td>2.8%  </td>\n",
       "        </tr>\n",
       "    </tbody>\n",
       "        <tr>\n",
       "            <td>2    </td> <td>1     </td> <td>2.8%  </td>\n",
       "        </tr>\n",
       "    </tbody>\n",
       "        <tr>\n",
       "            <td>2    </td> <td>2     </td> <td>2.8%  </td>\n",
       "        </tr>\n",
       "    </tbody>\n",
       "        <tr>\n",
       "            <td>2    </td> <td>3     </td> <td>2.8%  </td>\n",
       "        </tr>\n",
       "    </tbody>\n",
       "        <tr>\n",
       "            <td>2    </td> <td>4     </td> <td>2.8%  </td>\n",
       "        </tr>\n",
       "    </tbody>\n",
       "</table>\n",
       "<p>... (26 rows omitted)</p"
      ],
      "text/plain": [
       "First | Second | Chance\n",
       "1     | 1      | 2.8%\n",
       "1     | 2      | 2.8%\n",
       "1     | 3      | 2.8%\n",
       "1     | 4      | 2.8%\n",
       "1     | 5      | 2.8%\n",
       "1     | 6      | 2.8%\n",
       "2     | 1      | 2.8%\n",
       "2     | 2      | 2.8%\n",
       "2     | 3      | 2.8%\n",
       "2     | 4      | 2.8%\n",
       "... (26 rows omitted)"
      ]
     },
     "execution_count": 6,
     "metadata": {},
     "output_type": "execute_result"
    }
   ],
   "source": [
    "two_dice = Table(['First', 'Second', 'Chance'])\n",
    "for first in np.arange(1, 7):\n",
    "    for second in np.arange(1, 7):\n",
    "        two_dice.append([first, second, 1/36])\n",
    "two_dice.set_format('Chance', PercentFormatter(1))"
   ]
  },
  {
   "cell_type": "code",
   "execution_count": 7,
   "metadata": {
    "collapsed": false
   },
   "outputs": [
    {
     "data": {
      "text/html": [
       "<table border=\"1\" class=\"dataframe\">\n",
       "    <thead>\n",
       "        <tr>\n",
       "            <th>First</th> <th>Second</th> <th>Chance</th>\n",
       "        </tr>\n",
       "    </thead>\n",
       "    <tbody>\n",
       "        <tr>\n",
       "            <td>1    </td> <td>4     </td> <td>2.8%  </td>\n",
       "        </tr>\n",
       "    </tbody>\n",
       "        <tr>\n",
       "            <td>2    </td> <td>3     </td> <td>2.8%  </td>\n",
       "        </tr>\n",
       "    </tbody>\n",
       "        <tr>\n",
       "            <td>3    </td> <td>2     </td> <td>2.8%  </td>\n",
       "        </tr>\n",
       "    </tbody>\n",
       "        <tr>\n",
       "            <td>4    </td> <td>1     </td> <td>2.8%  </td>\n",
       "        </tr>\n",
       "    </tbody>\n",
       "</table>"
      ],
      "text/plain": [
       "First | Second | Chance\n",
       "1     | 4      | 2.8%\n",
       "2     | 3      | 2.8%\n",
       "3     | 2      | 2.8%\n",
       "4     | 1      | 2.8%"
      ]
     },
     "execution_count": 7,
     "metadata": {},
     "output_type": "execute_result"
    }
   ],
   "source": [
    "dice_sums = two_dice.column('First') + two_dice.column('Second')\n",
    "sum_of_5 = two_dice.where(dice_sums == 5)\n",
    "sum_of_5"
   ]
  },
  {
   "cell_type": "code",
   "execution_count": 8,
   "metadata": {
    "collapsed": false
   },
   "outputs": [
    {
     "data": {
      "text/plain": [
       "0.1111111111111111"
      ]
     },
     "execution_count": 8,
     "metadata": {},
     "output_type": "execute_result"
    }
   ],
   "source": [
    "sum(sum_of_5.column('Chance'))"
   ]
  },
  {
   "cell_type": "code",
   "execution_count": 9,
   "metadata": {
    "collapsed": false
   },
   "outputs": [
    {
     "data": {
      "text/plain": [
       "0.1111111111111111"
      ]
     },
     "execution_count": 9,
     "metadata": {},
     "output_type": "execute_result"
    }
   ],
   "source": [
    "def P(event):\n",
    "    return sum(event.column('Chance'))\n",
    "\n",
    "P(sum_of_5)"
   ]
  },
  {
   "cell_type": "code",
   "execution_count": 10,
   "metadata": {
    "collapsed": false
   },
   "outputs": [
    {
     "data": {
      "text/html": [
       "<table border=\"1\" class=\"dataframe\">\n",
       "    <thead>\n",
       "        <tr>\n",
       "            <th>First</th> <th>Second</th> <th>Chance</th> <th>Sum</th>\n",
       "        </tr>\n",
       "    </thead>\n",
       "    <tbody>\n",
       "        <tr>\n",
       "            <td>1    </td> <td>1     </td> <td>2.8%  </td> <td>2   </td>\n",
       "        </tr>\n",
       "    </tbody>\n",
       "        <tr>\n",
       "            <td>1    </td> <td>2     </td> <td>2.8%  </td> <td>3   </td>\n",
       "        </tr>\n",
       "    </tbody>\n",
       "        <tr>\n",
       "            <td>1    </td> <td>3     </td> <td>2.8%  </td> <td>4   </td>\n",
       "        </tr>\n",
       "    </tbody>\n",
       "        <tr>\n",
       "            <td>1    </td> <td>4     </td> <td>2.8%  </td> <td>5   </td>\n",
       "        </tr>\n",
       "    </tbody>\n",
       "        <tr>\n",
       "            <td>1    </td> <td>5     </td> <td>2.8%  </td> <td>6   </td>\n",
       "        </tr>\n",
       "    </tbody>\n",
       "        <tr>\n",
       "            <td>1    </td> <td>6     </td> <td>2.8%  </td> <td>7   </td>\n",
       "        </tr>\n",
       "    </tbody>\n",
       "        <tr>\n",
       "            <td>2    </td> <td>1     </td> <td>2.8%  </td> <td>3   </td>\n",
       "        </tr>\n",
       "    </tbody>\n",
       "        <tr>\n",
       "            <td>2    </td> <td>2     </td> <td>2.8%  </td> <td>4   </td>\n",
       "        </tr>\n",
       "    </tbody>\n",
       "        <tr>\n",
       "            <td>2    </td> <td>3     </td> <td>2.8%  </td> <td>5   </td>\n",
       "        </tr>\n",
       "    </tbody>\n",
       "        <tr>\n",
       "            <td>2    </td> <td>4     </td> <td>2.8%  </td> <td>6   </td>\n",
       "        </tr>\n",
       "    </tbody>\n",
       "</table>\n",
       "<p>... (26 rows omitted)</p"
      ],
      "text/plain": [
       "First | Second | Chance | Sum\n",
       "1     | 1      | 2.8%   | 2\n",
       "1     | 2      | 2.8%   | 3\n",
       "1     | 3      | 2.8%   | 4\n",
       "1     | 4      | 2.8%   | 5\n",
       "1     | 5      | 2.8%   | 6\n",
       "1     | 6      | 2.8%   | 7\n",
       "2     | 1      | 2.8%   | 3\n",
       "2     | 2      | 2.8%   | 4\n",
       "2     | 3      | 2.8%   | 5\n",
       "2     | 4      | 2.8%   | 6\n",
       "... (26 rows omitted)"
      ]
     },
     "execution_count": 10,
     "metadata": {},
     "output_type": "execute_result"
    }
   ],
   "source": [
    "with_sums = two_dice.with_column('Sum', dice_sums)\n",
    "with_sums"
   ]
  },
  {
   "cell_type": "code",
   "execution_count": 11,
   "metadata": {
    "collapsed": false
   },
   "outputs": [
    {
     "data": {
      "text/html": [
       "<table border=\"1\" class=\"dataframe\">\n",
       "    <thead>\n",
       "        <tr>\n",
       "            <th>Sum</th> <th>count</th>\n",
       "        </tr>\n",
       "    </thead>\n",
       "    <tbody>\n",
       "        <tr>\n",
       "            <td>2   </td> <td>1    </td>\n",
       "        </tr>\n",
       "    </tbody>\n",
       "        <tr>\n",
       "            <td>3   </td> <td>2    </td>\n",
       "        </tr>\n",
       "    </tbody>\n",
       "        <tr>\n",
       "            <td>4   </td> <td>3    </td>\n",
       "        </tr>\n",
       "    </tbody>\n",
       "        <tr>\n",
       "            <td>5   </td> <td>4    </td>\n",
       "        </tr>\n",
       "    </tbody>\n",
       "        <tr>\n",
       "            <td>6   </td> <td>5    </td>\n",
       "        </tr>\n",
       "    </tbody>\n",
       "        <tr>\n",
       "            <td>7   </td> <td>6    </td>\n",
       "        </tr>\n",
       "    </tbody>\n",
       "        <tr>\n",
       "            <td>8   </td> <td>5    </td>\n",
       "        </tr>\n",
       "    </tbody>\n",
       "        <tr>\n",
       "            <td>9   </td> <td>4    </td>\n",
       "        </tr>\n",
       "    </tbody>\n",
       "        <tr>\n",
       "            <td>10  </td> <td>3    </td>\n",
       "        </tr>\n",
       "    </tbody>\n",
       "        <tr>\n",
       "            <td>11  </td> <td>2    </td>\n",
       "        </tr>\n",
       "    </tbody>\n",
       "</table>\n",
       "<p>... (1 rows omitted)</p"
      ],
      "text/plain": [
       "Sum  | count\n",
       "2    | 1\n",
       "3    | 2\n",
       "4    | 3\n",
       "5    | 4\n",
       "6    | 5\n",
       "7    | 6\n",
       "8    | 5\n",
       "9    | 4\n",
       "10   | 3\n",
       "11   | 2\n",
       "... (1 rows omitted)"
      ]
     },
     "execution_count": 11,
     "metadata": {},
     "output_type": "execute_result"
    }
   ],
   "source": [
    "with_sums.group('Sum')"
   ]
  },
  {
   "cell_type": "code",
   "execution_count": 15,
   "metadata": {
    "collapsed": false
   },
   "outputs": [
    {
     "data": {
      "text/html": [
       "<table border=\"1\" class=\"dataframe\">\n",
       "    <thead>\n",
       "        <tr>\n",
       "            <th>Sum</th> <th>Chance</th>\n",
       "        </tr>\n",
       "    </thead>\n",
       "    <tbody>\n",
       "        <tr>\n",
       "            <td>2   </td> <td>2.8%  </td>\n",
       "        </tr>\n",
       "    </tbody>\n",
       "        <tr>\n",
       "            <td>3   </td> <td>5.6%  </td>\n",
       "        </tr>\n",
       "    </tbody>\n",
       "        <tr>\n",
       "            <td>4   </td> <td>8.3%  </td>\n",
       "        </tr>\n",
       "    </tbody>\n",
       "        <tr>\n",
       "            <td>5   </td> <td>11.1% </td>\n",
       "        </tr>\n",
       "    </tbody>\n",
       "        <tr>\n",
       "            <td>6   </td> <td>13.9% </td>\n",
       "        </tr>\n",
       "    </tbody>\n",
       "        <tr>\n",
       "            <td>7   </td> <td>16.7% </td>\n",
       "        </tr>\n",
       "    </tbody>\n",
       "        <tr>\n",
       "            <td>8   </td> <td>13.9% </td>\n",
       "        </tr>\n",
       "    </tbody>\n",
       "        <tr>\n",
       "            <td>9   </td> <td>11.1% </td>\n",
       "        </tr>\n",
       "    </tbody>\n",
       "        <tr>\n",
       "            <td>10  </td> <td>8.3%  </td>\n",
       "        </tr>\n",
       "    </tbody>\n",
       "        <tr>\n",
       "            <td>11  </td> <td>5.6%  </td>\n",
       "        </tr>\n",
       "    </tbody>\n",
       "</table>\n",
       "<p>... (1 rows omitted)</p"
      ],
      "text/plain": [
       "Sum  | Chance\n",
       "2    | 2.8%\n",
       "3    | 5.6%\n",
       "4    | 8.3%\n",
       "5    | 11.1%\n",
       "6    | 13.9%\n",
       "7    | 16.7%\n",
       "8    | 13.9%\n",
       "9    | 11.1%\n",
       "10   | 8.3%\n",
       "11   | 5.6%\n",
       "... (1 rows omitted)"
      ]
     },
     "execution_count": 15,
     "metadata": {},
     "output_type": "execute_result"
    }
   ],
   "source": [
    "grouped = with_sums.select(['Sum', 'Chance']).group('Sum', sum)\n",
    "two_dice_sums = grouped.relabeled(1, 'Chance').set_format('Chance', PercentFormatter(1))\n",
    "two_dice_sums"
   ]
  },
  {
   "cell_type": "code",
   "execution_count": 16,
   "metadata": {
    "collapsed": false
   },
   "outputs": [
    {
     "data": {
      "text/plain": [
       "0.1388888888888889"
      ]
     },
     "execution_count": 16,
     "metadata": {},
     "output_type": "execute_result"
    }
   ],
   "source": [
    "P(with_sums.where('Sum', 8))"
   ]
  },
  {
   "cell_type": "code",
   "execution_count": 17,
   "metadata": {
    "collapsed": false
   },
   "outputs": [
    {
     "data": {
      "text/plain": [
       "0.1388888888888889"
      ]
     },
     "execution_count": 17,
     "metadata": {},
     "output_type": "execute_result"
    }
   ],
   "source": [
    "P(two_dice_sums.where('Sum', 8))"
   ]
  },
  {
   "cell_type": "markdown",
   "metadata": {},
   "source": [
    "### U.S. Birth Times"
   ]
  },
  {
   "cell_type": "code",
   "execution_count": 18,
   "metadata": {
    "collapsed": false
   },
   "outputs": [
    {
     "data": {
      "text/html": [
       "<table border=\"1\" class=\"dataframe\">\n",
       "    <thead>\n",
       "        <tr>\n",
       "            <th>Time</th> <th>Hour</th> <th>Chance</th>\n",
       "        </tr>\n",
       "    </thead>\n",
       "    <tbody>\n",
       "        <tr>\n",
       "            <td>6 a.m.  </td> <td>6   </td> <td>2.9%  </td>\n",
       "        </tr>\n",
       "    </tbody>\n",
       "        <tr>\n",
       "            <td>7 a.m.  </td> <td>7   </td> <td>4.5%  </td>\n",
       "        </tr>\n",
       "    </tbody>\n",
       "        <tr>\n",
       "            <td>8 a.m.  </td> <td>8   </td> <td>6.3%  </td>\n",
       "        </tr>\n",
       "    </tbody>\n",
       "        <tr>\n",
       "            <td>9 a.m.  </td> <td>9   </td> <td>5.0%  </td>\n",
       "        </tr>\n",
       "    </tbody>\n",
       "        <tr>\n",
       "            <td>10 a.m. </td> <td>10  </td> <td>5.0%  </td>\n",
       "        </tr>\n",
       "    </tbody>\n",
       "        <tr>\n",
       "            <td>11 a.m. </td> <td>11  </td> <td>5.0%  </td>\n",
       "        </tr>\n",
       "    </tbody>\n",
       "        <tr>\n",
       "            <td>Noon    </td> <td>12  </td> <td>6.0%  </td>\n",
       "        </tr>\n",
       "    </tbody>\n",
       "        <tr>\n",
       "            <td>1 p.m.  </td> <td>13  </td> <td>5.7%  </td>\n",
       "        </tr>\n",
       "    </tbody>\n",
       "        <tr>\n",
       "            <td>2 p.m.  </td> <td>14  </td> <td>5.1%  </td>\n",
       "        </tr>\n",
       "    </tbody>\n",
       "        <tr>\n",
       "            <td>3 p.m.  </td> <td>15  </td> <td>4.8%  </td>\n",
       "        </tr>\n",
       "    </tbody>\n",
       "        <tr>\n",
       "            <td>4 p.m.  </td> <td>16  </td> <td>4.9%  </td>\n",
       "        </tr>\n",
       "    </tbody>\n",
       "        <tr>\n",
       "            <td>5 p.m.  </td> <td>17  </td> <td>5.0%  </td>\n",
       "        </tr>\n",
       "    </tbody>\n",
       "        <tr>\n",
       "            <td>6 p.m.  </td> <td>18  </td> <td>4.5%  </td>\n",
       "        </tr>\n",
       "    </tbody>\n",
       "        <tr>\n",
       "            <td>7 p.m.  </td> <td>19  </td> <td>4.0%  </td>\n",
       "        </tr>\n",
       "    </tbody>\n",
       "        <tr>\n",
       "            <td>8 p.m.  </td> <td>20  </td> <td>4.0%  </td>\n",
       "        </tr>\n",
       "    </tbody>\n",
       "        <tr>\n",
       "            <td>9 p.m.  </td> <td>21  </td> <td>3.7%  </td>\n",
       "        </tr>\n",
       "    </tbody>\n",
       "        <tr>\n",
       "            <td>10 p.m. </td> <td>22  </td> <td>3.5%  </td>\n",
       "        </tr>\n",
       "    </tbody>\n",
       "        <tr>\n",
       "            <td>11 p.m. </td> <td>23  </td> <td>3.3%  </td>\n",
       "        </tr>\n",
       "    </tbody>\n",
       "        <tr>\n",
       "            <td>Midnight</td> <td>0   </td> <td>2.9%  </td>\n",
       "        </tr>\n",
       "    </tbody>\n",
       "        <tr>\n",
       "            <td>1 a.m.  </td> <td>1   </td> <td>2.9%  </td>\n",
       "        </tr>\n",
       "    </tbody>\n",
       "        <tr>\n",
       "            <td>2 a.m.  </td> <td>2   </td> <td>2.8%  </td>\n",
       "        </tr>\n",
       "    </tbody>\n",
       "        <tr>\n",
       "            <td>3 a.m.  </td> <td>3   </td> <td>2.7%  </td>\n",
       "        </tr>\n",
       "    </tbody>\n",
       "        <tr>\n",
       "            <td>4 a.m.  </td> <td>4   </td> <td>2.7%  </td>\n",
       "        </tr>\n",
       "    </tbody>\n",
       "        <tr>\n",
       "            <td>5 a.m.  </td> <td>5   </td> <td>2.8%  </td>\n",
       "        </tr>\n",
       "    </tbody>\n",
       "</table>"
      ],
      "text/plain": [
       "<IPython.core.display.HTML object>"
      ]
     },
     "metadata": {},
     "output_type": "display_data"
    }
   ],
   "source": [
    "birth = Table.read_table('birth_time.csv').select(['Time', 'Hour', 'Chance'])\n",
    "birth.set_format('Chance', PercentFormatter(1)).show()"
   ]
  },
  {
   "cell_type": "code",
   "execution_count": 19,
   "metadata": {
    "collapsed": false
   },
   "outputs": [
    {
     "data": {
      "text/html": [
       "<table border=\"1\" class=\"dataframe\">\n",
       "    <thead>\n",
       "        <tr>\n",
       "            <th>Time</th> <th>Hour</th> <th>Chance</th>\n",
       "        </tr>\n",
       "    </thead>\n",
       "    <tbody>\n",
       "        <tr>\n",
       "            <td>8 a.m. </td> <td>8   </td> <td>6.3%  </td>\n",
       "        </tr>\n",
       "    </tbody>\n",
       "        <tr>\n",
       "            <td>9 a.m. </td> <td>9   </td> <td>5.0%  </td>\n",
       "        </tr>\n",
       "    </tbody>\n",
       "        <tr>\n",
       "            <td>10 a.m.</td> <td>10  </td> <td>5.0%  </td>\n",
       "        </tr>\n",
       "    </tbody>\n",
       "        <tr>\n",
       "            <td>11 a.m.</td> <td>11  </td> <td>5.0%  </td>\n",
       "        </tr>\n",
       "    </tbody>\n",
       "        <tr>\n",
       "            <td>Noon   </td> <td>12  </td> <td>6.0%  </td>\n",
       "        </tr>\n",
       "    </tbody>\n",
       "        <tr>\n",
       "            <td>1 p.m. </td> <td>13  </td> <td>5.7%  </td>\n",
       "        </tr>\n",
       "    </tbody>\n",
       "        <tr>\n",
       "            <td>2 p.m. </td> <td>14  </td> <td>5.1%  </td>\n",
       "        </tr>\n",
       "    </tbody>\n",
       "        <tr>\n",
       "            <td>3 p.m. </td> <td>15  </td> <td>4.8%  </td>\n",
       "        </tr>\n",
       "    </tbody>\n",
       "        <tr>\n",
       "            <td>4 p.m. </td> <td>16  </td> <td>4.9%  </td>\n",
       "        </tr>\n",
       "    </tbody>\n",
       "        <tr>\n",
       "            <td>5 p.m. </td> <td>17  </td> <td>5.0%  </td>\n",
       "        </tr>\n",
       "    </tbody>\n",
       "</table>"
      ],
      "text/plain": [
       "Time    | Hour | Chance\n",
       "8 a.m.  | 8    | 6.3%\n",
       "9 a.m.  | 9    | 5.0%\n",
       "10 a.m. | 10   | 5.0%\n",
       "11 a.m. | 11   | 5.0%\n",
       "Noon    | 12   | 6.0%\n",
       "1 p.m.  | 13   | 5.7%\n",
       "2 p.m.  | 14   | 5.1%\n",
       "3 p.m.  | 15   | 4.8%\n",
       "4 p.m.  | 16   | 4.9%\n",
       "5 p.m.  | 17   | 5.0%"
      ]
     },
     "execution_count": 19,
     "metadata": {},
     "output_type": "execute_result"
    }
   ],
   "source": [
    "business_hours = birth.where('Hour', are.between(8, 18))\n",
    "business_hours"
   ]
  },
  {
   "cell_type": "code",
   "execution_count": 20,
   "metadata": {
    "collapsed": false
   },
   "outputs": [
    {
     "data": {
      "text/plain": [
       "0.52800000000000002"
      ]
     },
     "execution_count": 20,
     "metadata": {},
     "output_type": "execute_result"
    }
   ],
   "source": [
    "P(business_hours)"
   ]
  },
  {
   "cell_type": "code",
   "execution_count": 21,
   "metadata": {
    "collapsed": false
   },
   "outputs": [
    {
     "data": {
      "text/plain": [
       "0.16799999999999998"
      ]
     },
     "execution_count": 21,
     "metadata": {},
     "output_type": "execute_result"
    }
   ],
   "source": [
    "P(birth.where('Hour', are.between(0, 6)))"
   ]
  },
  {
   "cell_type": "markdown",
   "metadata": {},
   "source": [
    "## Conditional Distributions\n",
    "\n"
   ]
  },
  {
   "cell_type": "code",
   "execution_count": 22,
   "metadata": {
    "collapsed": false
   },
   "outputs": [
    {
     "data": {
      "text/html": [
       "<table border=\"1\" class=\"dataframe\">\n",
       "    <thead>\n",
       "        <tr>\n",
       "            <th>Time</th> <th>Hour</th> <th>Chance</th>\n",
       "        </tr>\n",
       "    </thead>\n",
       "    <tbody>\n",
       "        <tr>\n",
       "            <td>8 a.m. </td> <td>8   </td> <td>11.9% </td>\n",
       "        </tr>\n",
       "    </tbody>\n",
       "        <tr>\n",
       "            <td>9 a.m. </td> <td>9   </td> <td>9.5%  </td>\n",
       "        </tr>\n",
       "    </tbody>\n",
       "        <tr>\n",
       "            <td>10 a.m.</td> <td>10  </td> <td>9.5%  </td>\n",
       "        </tr>\n",
       "    </tbody>\n",
       "        <tr>\n",
       "            <td>11 a.m.</td> <td>11  </td> <td>9.5%  </td>\n",
       "        </tr>\n",
       "    </tbody>\n",
       "        <tr>\n",
       "            <td>Noon   </td> <td>12  </td> <td>11.4% </td>\n",
       "        </tr>\n",
       "    </tbody>\n",
       "        <tr>\n",
       "            <td>1 p.m. </td> <td>13  </td> <td>10.8% </td>\n",
       "        </tr>\n",
       "    </tbody>\n",
       "        <tr>\n",
       "            <td>2 p.m. </td> <td>14  </td> <td>9.7%  </td>\n",
       "        </tr>\n",
       "    </tbody>\n",
       "        <tr>\n",
       "            <td>3 p.m. </td> <td>15  </td> <td>9.1%  </td>\n",
       "        </tr>\n",
       "    </tbody>\n",
       "        <tr>\n",
       "            <td>4 p.m. </td> <td>16  </td> <td>9.3%  </td>\n",
       "        </tr>\n",
       "    </tbody>\n",
       "        <tr>\n",
       "            <td>5 p.m. </td> <td>17  </td> <td>9.5%  </td>\n",
       "        </tr>\n",
       "    </tbody>\n",
       "</table>"
      ],
      "text/plain": [
       "Time    | Hour | Chance\n",
       "8 a.m.  | 8    | 11.9%\n",
       "9 a.m.  | 9    | 9.5%\n",
       "10 a.m. | 10   | 9.5%\n",
       "11 a.m. | 11   | 9.5%\n",
       "Noon    | 12   | 11.4%\n",
       "1 p.m.  | 13   | 10.8%\n",
       "2 p.m.  | 14   | 9.7%\n",
       "3 p.m.  | 15   | 9.1%\n",
       "4 p.m.  | 16   | 9.3%\n",
       "5 p.m.  | 17   | 9.5%"
      ]
     },
     "execution_count": 22,
     "metadata": {},
     "output_type": "execute_result"
    }
   ],
   "source": [
    "given_business_hours = business_hours.with_column('Chance', \n",
    "                                                  business_hours.column('Chance') / P(business_hours))\n",
    "given_business_hours"
   ]
  },
  {
   "cell_type": "code",
   "execution_count": 23,
   "metadata": {
    "collapsed": false
   },
   "outputs": [],
   "source": [
    "def given(event):\n",
    "    return event.with_column('Chance', event.column('Chance') / P(event))"
   ]
  },
  {
   "cell_type": "code",
   "execution_count": 24,
   "metadata": {
    "collapsed": false
   },
   "outputs": [
    {
     "data": {
      "text/html": [
       "<table border=\"1\" class=\"dataframe\">\n",
       "    <thead>\n",
       "        <tr>\n",
       "            <th>Time</th> <th>Hour</th> <th>Chance</th>\n",
       "        </tr>\n",
       "    </thead>\n",
       "    <tbody>\n",
       "        <tr>\n",
       "            <td>8 a.m. </td> <td>8   </td> <td>11.9% </td>\n",
       "        </tr>\n",
       "    </tbody>\n",
       "        <tr>\n",
       "            <td>9 a.m. </td> <td>9   </td> <td>9.5%  </td>\n",
       "        </tr>\n",
       "    </tbody>\n",
       "        <tr>\n",
       "            <td>10 a.m.</td> <td>10  </td> <td>9.5%  </td>\n",
       "        </tr>\n",
       "    </tbody>\n",
       "        <tr>\n",
       "            <td>11 a.m.</td> <td>11  </td> <td>9.5%  </td>\n",
       "        </tr>\n",
       "    </tbody>\n",
       "        <tr>\n",
       "            <td>Noon   </td> <td>12  </td> <td>11.4% </td>\n",
       "        </tr>\n",
       "    </tbody>\n",
       "        <tr>\n",
       "            <td>1 p.m. </td> <td>13  </td> <td>10.8% </td>\n",
       "        </tr>\n",
       "    </tbody>\n",
       "        <tr>\n",
       "            <td>2 p.m. </td> <td>14  </td> <td>9.7%  </td>\n",
       "        </tr>\n",
       "    </tbody>\n",
       "        <tr>\n",
       "            <td>3 p.m. </td> <td>15  </td> <td>9.1%  </td>\n",
       "        </tr>\n",
       "    </tbody>\n",
       "        <tr>\n",
       "            <td>4 p.m. </td> <td>16  </td> <td>9.3%  </td>\n",
       "        </tr>\n",
       "    </tbody>\n",
       "        <tr>\n",
       "            <td>5 p.m. </td> <td>17  </td> <td>9.5%  </td>\n",
       "        </tr>\n",
       "    </tbody>\n",
       "</table>"
      ],
      "text/plain": [
       "Time    | Hour | Chance\n",
       "8 a.m.  | 8    | 11.9%\n",
       "9 a.m.  | 9    | 9.5%\n",
       "10 a.m. | 10   | 9.5%\n",
       "11 a.m. | 11   | 9.5%\n",
       "Noon    | 12   | 11.4%\n",
       "1 p.m.  | 13   | 10.8%\n",
       "2 p.m.  | 14   | 9.7%\n",
       "3 p.m.  | 15   | 9.1%\n",
       "4 p.m.  | 16   | 9.3%\n",
       "5 p.m.  | 17   | 9.5%"
      ]
     },
     "execution_count": 24,
     "metadata": {},
     "output_type": "execute_result"
    }
   ],
   "source": [
    "given(business_hours)"
   ]
  },
  {
   "cell_type": "code",
   "execution_count": 25,
   "metadata": {
    "collapsed": false
   },
   "outputs": [
    {
     "data": {
      "text/plain": [
       "0.40340909090909094"
      ]
     },
     "execution_count": 25,
     "metadata": {},
     "output_type": "execute_result"
    }
   ],
   "source": [
    "P(given(business_hours).where('Hour', are.below(12)))"
   ]
  },
  {
   "cell_type": "code",
   "execution_count": 26,
   "metadata": {
    "collapsed": false
   },
   "outputs": [
    {
     "data": {
      "text/plain": [
       "0.21300000000000002"
      ]
     },
     "execution_count": 26,
     "metadata": {},
     "output_type": "execute_result"
    }
   ],
   "source": [
    "morning = birth.where('Hour', are.between(8, 12))\n",
    "P(morning)"
   ]
  },
  {
   "cell_type": "code",
   "execution_count": 27,
   "metadata": {
    "collapsed": false
   },
   "outputs": [
    {
     "data": {
      "text/plain": [
       "0.45500000000000007"
      ]
     },
     "execution_count": 27,
     "metadata": {},
     "output_type": "execute_result"
    }
   ],
   "source": [
    "P(birth.where('Hour', are.below(12)))"
   ]
  },
  {
   "cell_type": "code",
   "execution_count": 28,
   "metadata": {
    "collapsed": false
   },
   "outputs": [
    {
     "data": {
      "text/plain": [
       "0.40340909090909094"
      ]
     },
     "execution_count": 28,
     "metadata": {},
     "output_type": "execute_result"
    }
   ],
   "source": [
    "P(morning) / P(business_hours)"
   ]
  },
  {
   "cell_type": "code",
   "execution_count": 29,
   "metadata": {
    "collapsed": false
   },
   "outputs": [
    {
     "data": {
      "text/html": [
       "<table border=\"1\" class=\"dataframe\">\n",
       "    <thead>\n",
       "        <tr>\n",
       "            <th>Time</th> <th>Hour</th> <th>Chance</th>\n",
       "        </tr>\n",
       "    </thead>\n",
       "    <tbody>\n",
       "        <tr>\n",
       "            <td>8 a.m. </td> <td>8   </td> <td>6.3%  </td>\n",
       "        </tr>\n",
       "    </tbody>\n",
       "        <tr>\n",
       "            <td>9 a.m. </td> <td>9   </td> <td>5.0%  </td>\n",
       "        </tr>\n",
       "    </tbody>\n",
       "        <tr>\n",
       "            <td>10 a.m.</td> <td>10  </td> <td>5.0%  </td>\n",
       "        </tr>\n",
       "    </tbody>\n",
       "        <tr>\n",
       "            <td>11 a.m.</td> <td>11  </td> <td>5.0%  </td>\n",
       "        </tr>\n",
       "    </tbody>\n",
       "</table>"
      ],
      "text/plain": [
       "Time    | Hour | Chance\n",
       "8 a.m.  | 8    | 6.3%\n",
       "9 a.m.  | 9    | 5.0%\n",
       "10 a.m. | 10   | 5.0%\n",
       "11 a.m. | 11   | 5.0%"
      ]
     },
     "execution_count": 29,
     "metadata": {},
     "output_type": "execute_result"
    }
   ],
   "source": [
    "business_hours.where('Hour', are.below(12))"
   ]
  },
  {
   "cell_type": "code",
   "execution_count": 30,
   "metadata": {
    "collapsed": false
   },
   "outputs": [
    {
     "data": {
      "text/plain": [
       "0.40340909090909094"
      ]
     },
     "execution_count": 30,
     "metadata": {},
     "output_type": "execute_result"
    }
   ],
   "source": [
    "P(business_hours.where('Hour', are.below(12))) / P(business_hours)"
   ]
  },
  {
   "cell_type": "markdown",
   "metadata": {},
   "source": [
    "## Discussion Question"
   ]
  },
  {
   "cell_type": "code",
   "execution_count": 31,
   "metadata": {
    "collapsed": false
   },
   "outputs": [
    {
     "data": {
      "text/plain": [
       "0.57798165137614688"
      ]
     },
     "execution_count": 31,
     "metadata": {},
     "output_type": "execute_result"
    }
   ],
   "source": [
    "after_noon = birth.where('Hour', are.above(11) )\n",
    "P ( given ( after_noon ).where( 'Hour' , are.below(18) ) )"
   ]
  },
  {
   "cell_type": "markdown",
   "metadata": {},
   "source": [
    "## Joint Distributions"
   ]
  },
  {
   "cell_type": "code",
   "execution_count": 32,
   "metadata": {
    "collapsed": false
   },
   "outputs": [
    {
     "data": {
      "text/html": [
       "<table border=\"1\" class=\"dataframe\">\n",
       "    <thead>\n",
       "        <tr>\n",
       "            <th>First</th> <th>Second</th> <th>Chance</th>\n",
       "        </tr>\n",
       "    </thead>\n",
       "    <tbody>\n",
       "        <tr>\n",
       "            <td>1    </td> <td>1     </td> <td>2.8%  </td>\n",
       "        </tr>\n",
       "    </tbody>\n",
       "        <tr>\n",
       "            <td>1    </td> <td>2     </td> <td>2.8%  </td>\n",
       "        </tr>\n",
       "    </tbody>\n",
       "        <tr>\n",
       "            <td>1    </td> <td>3     </td> <td>2.8%  </td>\n",
       "        </tr>\n",
       "    </tbody>\n",
       "        <tr>\n",
       "            <td>1    </td> <td>4     </td> <td>2.8%  </td>\n",
       "        </tr>\n",
       "    </tbody>\n",
       "        <tr>\n",
       "            <td>1    </td> <td>5     </td> <td>2.8%  </td>\n",
       "        </tr>\n",
       "    </tbody>\n",
       "        <tr>\n",
       "            <td>1    </td> <td>6     </td> <td>2.8%  </td>\n",
       "        </tr>\n",
       "    </tbody>\n",
       "        <tr>\n",
       "            <td>2    </td> <td>1     </td> <td>2.8%  </td>\n",
       "        </tr>\n",
       "    </tbody>\n",
       "        <tr>\n",
       "            <td>2    </td> <td>2     </td> <td>2.8%  </td>\n",
       "        </tr>\n",
       "    </tbody>\n",
       "        <tr>\n",
       "            <td>2    </td> <td>3     </td> <td>2.8%  </td>\n",
       "        </tr>\n",
       "    </tbody>\n",
       "        <tr>\n",
       "            <td>2    </td> <td>4     </td> <td>2.8%  </td>\n",
       "        </tr>\n",
       "    </tbody>\n",
       "</table>\n",
       "<p>... (26 rows omitted)</p"
      ],
      "text/plain": [
       "First | Second | Chance\n",
       "1     | 1      | 2.8%\n",
       "1     | 2      | 2.8%\n",
       "1     | 3      | 2.8%\n",
       "1     | 4      | 2.8%\n",
       "1     | 5      | 2.8%\n",
       "1     | 6      | 2.8%\n",
       "2     | 1      | 2.8%\n",
       "2     | 2      | 2.8%\n",
       "2     | 3      | 2.8%\n",
       "2     | 4      | 2.8%\n",
       "... (26 rows omitted)"
      ]
     },
     "execution_count": 32,
     "metadata": {},
     "output_type": "execute_result"
    }
   ],
   "source": [
    "two_dice"
   ]
  },
  {
   "cell_type": "code",
   "execution_count": 33,
   "metadata": {
    "collapsed": false,
    "scrolled": true
   },
   "outputs": [
    {
     "data": {
      "text/html": [
       "<table border=\"1\" class=\"dataframe\">\n",
       "    <thead>\n",
       "        <tr>\n",
       "            <th>Time</th> <th>Hour</th> <th>Weekday</th> <th>Weekend</th>\n",
       "        </tr>\n",
       "    </thead>\n",
       "    <tbody>\n",
       "        <tr>\n",
       "            <td>6 a.m. </td> <td>6   </td> <td>2.7%   </td> <td>3.6%   </td>\n",
       "        </tr>\n",
       "    </tbody>\n",
       "        <tr>\n",
       "            <td>7 a.m. </td> <td>7   </td> <td>4.7%   </td> <td>3.8%   </td>\n",
       "        </tr>\n",
       "    </tbody>\n",
       "        <tr>\n",
       "            <td>8 a.m. </td> <td>8   </td> <td>6.7%   </td> <td>4.6%   </td>\n",
       "        </tr>\n",
       "    </tbody>\n",
       "        <tr>\n",
       "            <td>9 a.m. </td> <td>9   </td> <td>5.1%   </td> <td>5.0%   </td>\n",
       "        </tr>\n",
       "    </tbody>\n",
       "        <tr>\n",
       "            <td>10 a.m.</td> <td>10  </td> <td>5.0%   </td> <td>5.0%   </td>\n",
       "        </tr>\n",
       "    </tbody>\n",
       "        <tr>\n",
       "            <td>11 a.m.</td> <td>11  </td> <td>5.0%   </td> <td>4.9%   </td>\n",
       "        </tr>\n",
       "    </tbody>\n",
       "        <tr>\n",
       "            <td>Noon   </td> <td>12  </td> <td>6.3%   </td> <td>5.0%   </td>\n",
       "        </tr>\n",
       "    </tbody>\n",
       "        <tr>\n",
       "            <td>1 p.m. </td> <td>13  </td> <td>5.9%   </td> <td>4.7%   </td>\n",
       "        </tr>\n",
       "    </tbody>\n",
       "        <tr>\n",
       "            <td>2 p.m. </td> <td>14  </td> <td>5.3%   </td> <td>4.6%   </td>\n",
       "        </tr>\n",
       "    </tbody>\n",
       "        <tr>\n",
       "            <td>3 p.m. </td> <td>15  </td> <td>4.9%   </td> <td>4.6%   </td>\n",
       "        </tr>\n",
       "    </tbody>\n",
       "</table>\n",
       "<p>... (14 rows omitted)</p"
      ],
      "text/plain": [
       "Time    | Hour | Weekday | Weekend\n",
       "6 a.m.  | 6    | 2.7%    | 3.6%\n",
       "7 a.m.  | 7    | 4.7%    | 3.8%\n",
       "8 a.m.  | 8    | 6.7%    | 4.6%\n",
       "9 a.m.  | 9    | 5.1%    | 5.0%\n",
       "10 a.m. | 10   | 5.0%    | 5.0%\n",
       "11 a.m. | 11   | 5.0%    | 4.9%\n",
       "Noon    | 12   | 6.3%    | 5.0%\n",
       "1 p.m.  | 13   | 5.9%    | 4.7%\n",
       "2 p.m.  | 14   | 5.3%    | 4.6%\n",
       "3 p.m.  | 15   | 4.9%    | 4.6%\n",
       "... (14 rows omitted)"
      ]
     },
     "execution_count": 33,
     "metadata": {},
     "output_type": "execute_result"
    }
   ],
   "source": [
    "birth_day = Table.read_table('birth_time.csv').drop('Chance')\n",
    "birth_day.set_format([2, 3], PercentFormatter(1))"
   ]
  },
  {
   "cell_type": "code",
   "execution_count": 34,
   "metadata": {
    "collapsed": true
   },
   "outputs": [],
   "source": [
    "weekday = birth_day.select(['Hour', 'Weekday']).relabeled(1, 'Chance')\n",
    "weekend = birth_day.select(['Hour', 'Weekend']).relabeled(1, 'Chance')"
   ]
  },
  {
   "cell_type": "code",
   "execution_count": 35,
   "metadata": {
    "collapsed": false
   },
   "outputs": [
    {
     "data": {
      "text/html": [
       "<table border=\"1\" class=\"dataframe\">\n",
       "    <thead>\n",
       "        <tr>\n",
       "            <th>Day</th> <th>Hour</th> <th>Chance</th>\n",
       "        </tr>\n",
       "    </thead>\n",
       "    <tbody>\n",
       "        <tr>\n",
       "            <td>Weekday</td> <td>6   </td> <td>2.1%  </td>\n",
       "        </tr>\n",
       "    </tbody>\n",
       "        <tr>\n",
       "            <td>Weekday</td> <td>7   </td> <td>3.7%  </td>\n",
       "        </tr>\n",
       "    </tbody>\n",
       "        <tr>\n",
       "            <td>Weekday</td> <td>8   </td> <td>5.2%  </td>\n",
       "        </tr>\n",
       "    </tbody>\n",
       "        <tr>\n",
       "            <td>Weekday</td> <td>9   </td> <td>4.0%  </td>\n",
       "        </tr>\n",
       "    </tbody>\n",
       "        <tr>\n",
       "            <td>Weekday</td> <td>10  </td> <td>3.9%  </td>\n",
       "        </tr>\n",
       "    </tbody>\n",
       "        <tr>\n",
       "            <td>Weekday</td> <td>11  </td> <td>3.9%  </td>\n",
       "        </tr>\n",
       "    </tbody>\n",
       "        <tr>\n",
       "            <td>Weekday</td> <td>12  </td> <td>4.9%  </td>\n",
       "        </tr>\n",
       "    </tbody>\n",
       "        <tr>\n",
       "            <td>Weekday</td> <td>13  </td> <td>4.6%  </td>\n",
       "        </tr>\n",
       "    </tbody>\n",
       "        <tr>\n",
       "            <td>Weekday</td> <td>14  </td> <td>4.1%  </td>\n",
       "        </tr>\n",
       "    </tbody>\n",
       "        <tr>\n",
       "            <td>Weekday</td> <td>15  </td> <td>3.8%  </td>\n",
       "        </tr>\n",
       "    </tbody>\n",
       "</table>\n",
       "<p>... (38 rows omitted)</p"
      ],
      "text/plain": [
       "Day     | Hour | Chance\n",
       "Weekday | 6    | 2.1%\n",
       "Weekday | 7    | 3.7%\n",
       "Weekday | 8    | 5.2%\n",
       "Weekday | 9    | 4.0%\n",
       "Weekday | 10   | 3.9%\n",
       "Weekday | 11   | 3.9%\n",
       "Weekday | 12   | 4.9%\n",
       "Weekday | 13   | 4.6%\n",
       "Weekday | 14   | 4.1%\n",
       "Weekday | 15   | 3.8%\n",
       "... (38 rows omitted)"
      ]
     },
     "execution_count": 35,
     "metadata": {},
     "output_type": "execute_result"
    }
   ],
   "source": [
    "birth_joint = Table(['Day', 'Hour', 'Chance'])\n",
    "for row in weekday.rows:\n",
    "    birth_joint.append(['Weekday', row.item('Hour'), row.item('Chance') * 0.7825])\n",
    "for row in weekend.rows:\n",
    "    birth_joint.append(['Weekend', row.item('Hour'), row.item('Chance') * 0.2175])\n",
    "birth_joint.set_format('Chance', PercentFormatter(1))"
   ]
  },
  {
   "cell_type": "code",
   "execution_count": 36,
   "metadata": {
    "collapsed": false
   },
   "outputs": [
    {
     "data": {
      "text/plain": [
       "1.0"
      ]
     },
     "execution_count": 36,
     "metadata": {},
     "output_type": "execute_result"
    }
   ],
   "source": [
    "P(birth_joint)"
   ]
  },
  {
   "cell_type": "code",
   "execution_count": 37,
   "metadata": {
    "collapsed": false
   },
   "outputs": [
    {
     "data": {
      "text/plain": [
       "0.17058499999999999"
      ]
     },
     "execution_count": 37,
     "metadata": {},
     "output_type": "execute_result"
    }
   ],
   "source": [
    "P(birth_joint.where('Day', 'Weekday').where('Hour', are.between(8, 12)))"
   ]
  },
  {
   "cell_type": "code",
   "execution_count": 38,
   "metadata": {
    "collapsed": false
   },
   "outputs": [
    {
     "data": {
      "text/html": [
       "<table border=\"1\" class=\"dataframe\">\n",
       "    <thead>\n",
       "        <tr>\n",
       "            <th>Day</th> <th>Hour</th> <th>Chance</th>\n",
       "        </tr>\n",
       "    </thead>\n",
       "    <tbody>\n",
       "        <tr>\n",
       "            <td>Weekday</td> <td>5   </td> <td>2.0%  </td>\n",
       "        </tr>\n",
       "    </tbody>\n",
       "        <tr>\n",
       "            <td>Weekend</td> <td>5   </td> <td>0.8%  </td>\n",
       "        </tr>\n",
       "    </tbody>\n",
       "</table>"
      ],
      "text/plain": [
       "Day     | Hour | Chance\n",
       "Weekday | 5    | 2.0%\n",
       "Weekend | 5    | 0.8%"
      ]
     },
     "execution_count": 38,
     "metadata": {},
     "output_type": "execute_result"
    }
   ],
   "source": [
    "early_morning = birth_joint.where('Hour', 5)\n",
    "early_morning"
   ]
  },
  {
   "cell_type": "code",
   "execution_count": 39,
   "metadata": {
    "collapsed": false
   },
   "outputs": [
    {
     "data": {
      "text/plain": [
       "0.28584466551063248"
      ]
     },
     "execution_count": 39,
     "metadata": {},
     "output_type": "execute_result"
    }
   ],
   "source": [
    "P(given(early_morning).where('Day', 'Weekend'))"
   ]
  },
  {
   "cell_type": "markdown",
   "metadata": {},
   "source": [
    "### Bayes' Rule: Diagnostic Example\n",
    "\n",
    "In a population, there is a rare disease. Researchers have developed a medical test for the disease. Mostly, the test correctly identifies whether or not the tested person has the disease. But sometimes, the test is wrong. Here are the relevant proportions.\n",
    "\n",
    "- 1% of the population has the disease\n",
    "- If a person has the disease, the test returns the correct result with chance 99%.\n",
    "- If a person does not have the disease, the test returns the correct result with chance 99.5%.\n",
    "\n",
    "**One person is picked at random from the population.** Given that the person tests positive, what is the chance that the person has the disease?\n",
    "\n",
    "We begin by partitioning the population into four categories in the tree diagram below.\n",
    "\n",
    "<img src=\"disease1.png\" />"
   ]
  },
  {
   "cell_type": "markdown",
   "metadata": {},
   "source": [
    "By Bayes' Rule, the chance that the person has the disease given that he or she has tested positive is the chance of the top \"Test Positive\" branch relative to the total chance of the two \"Test Positive\" branches. The answer is\n",
    "$$\n",
    "\\frac{0.01 \\times 0.99}{0.01 \\times 0.99 ~+~ 0.99 \\times 0.005} ~=~ 0.667\n",
    "$$"
   ]
  },
  {
   "cell_type": "code",
   "execution_count": 40,
   "metadata": {
    "collapsed": false
   },
   "outputs": [
    {
     "data": {
      "text/plain": [
       "0.6666666666666666"
      ]
     },
     "execution_count": 40,
     "metadata": {},
     "output_type": "execute_result"
    }
   ],
   "source": [
    "# The person is picked at random from the population.\n",
    "\n",
    "# By Bayes' Rule:\n",
    "# Chance that the person has the disease, given that test was +\n",
    "\n",
    "(0.01*0.99)/(0.01*0.99 + 0.99*0.005)"
   ]
  },
  {
   "cell_type": "code",
   "execution_count": 41,
   "metadata": {
    "collapsed": false
   },
   "outputs": [
    {
     "data": {
      "text/html": [
       "<table border=\"1\" class=\"dataframe\">\n",
       "    <thead>\n",
       "        <tr>\n",
       "            <th>Health</th> <th>Test</th> <th>Chance</th>\n",
       "        </tr>\n",
       "    </thead>\n",
       "    <tbody>\n",
       "        <tr>\n",
       "            <td>Diseased    </td> <td>Positive</td> <td>0.0099 </td>\n",
       "        </tr>\n",
       "    </tbody>\n",
       "        <tr>\n",
       "            <td>Diseased    </td> <td>Negative</td> <td>0.0001 </td>\n",
       "        </tr>\n",
       "    </tbody>\n",
       "        <tr>\n",
       "            <td>Not Diseased</td> <td>Positive</td> <td>0.00495</td>\n",
       "        </tr>\n",
       "    </tbody>\n",
       "        <tr>\n",
       "            <td>Not Diseased</td> <td>Negative</td> <td>0.98505</td>\n",
       "        </tr>\n",
       "    </tbody>\n",
       "</table>"
      ],
      "text/plain": [
       "Health       | Test     | Chance\n",
       "Diseased     | Positive | 0.0099\n",
       "Diseased     | Negative | 0.0001\n",
       "Not Diseased | Positive | 0.00495\n",
       "Not Diseased | Negative | 0.98505"
      ]
     },
     "execution_count": 41,
     "metadata": {},
     "output_type": "execute_result"
    }
   ],
   "source": [
    "rare = Table(['Health', 'Test', 'Chance']).with_rows([\n",
    "        ['Diseased', 'Positive', 0.01 * 0.99],\n",
    "        ['Diseased', 'Negative', 0.01 * 0.01],\n",
    "        ['Not Diseased', 'Positive', 0.99 * 0.005],\n",
    "        ['Not Diseased', 'Negative', 0.99 * 0.995]\n",
    "    ])\n",
    "rare"
   ]
  },
  {
   "cell_type": "code",
   "execution_count": 42,
   "metadata": {
    "collapsed": false
   },
   "outputs": [
    {
     "data": {
      "text/plain": [
       "0.66666666666666663"
      ]
     },
     "execution_count": 42,
     "metadata": {},
     "output_type": "execute_result"
    }
   ],
   "source": [
    "positive = rare.where('Test', 'Positive')\n",
    "P(given(positive).where('Health', 'Diseased'))"
   ]
  },
  {
   "cell_type": "markdown",
   "metadata": {},
   "source": [
    "If that probability were 10%, then the probabilities on the left side of the tree diagram would change accordingly, with the 0.1 and 0.9 now interpreted as subjective probabilities:\n",
    "\n",
    "<img src=\"disease10.png\" />\n",
    "\n",
    "The change has a noticeable effect on the answer, as you can see by running the cell below."
   ]
  },
  {
   "cell_type": "code",
   "execution_count": 43,
   "metadata": {
    "collapsed": false
   },
   "outputs": [
    {
     "data": {
      "text/plain": [
       "0.9565217391304347"
      ]
     },
     "execution_count": 43,
     "metadata": {},
     "output_type": "execute_result"
    }
   ],
   "source": [
    "# Subjective prior probability of 10% that the person has the disease\n",
    "\n",
    "# By Bayes' Rule:\n",
    "# Chance that the person has the disease, given that test was +\n",
    "\n",
    "(0.1*0.99)/(0.1*0.99 + 0.9*0.005)"
   ]
  },
  {
   "cell_type": "markdown",
   "metadata": {},
   "source": [
    "If the patient's prior probability of havng the disease is 50%, then the result changes yet again. \n",
    "\n",
    "<img src=\"disease50.png\" />"
   ]
  },
  {
   "cell_type": "code",
   "execution_count": 44,
   "metadata": {
    "collapsed": false
   },
   "outputs": [
    {
     "data": {
      "text/plain": [
       "0.9949748743718593"
      ]
     },
     "execution_count": 44,
     "metadata": {},
     "output_type": "execute_result"
    }
   ],
   "source": [
    "# Subjective prior probability of 50% that the person has the disease\n",
    "\n",
    "# By Bayes' Rule: \n",
    "# Chance that the person has the disease, given that test was +\n",
    "\n",
    "(0.5*0.99)/(0.5*0.99 + 0.5*0.005)"
   ]
  }
 ],
 "metadata": {
  "kernelspec": {
   "display_name": "Python 3",
   "language": "python",
   "name": "python3"
  },
  "language_info": {
   "codemirror_mode": {
    "name": "ipython",
    "version": 3
   },
   "file_extension": ".py",
   "mimetype": "text/x-python",
   "name": "python",
   "nbconvert_exporter": "python",
   "pygments_lexer": "ipython3",
   "version": "3.4.4"
  }
 },
 "nbformat": 4,
 "nbformat_minor": 0
}

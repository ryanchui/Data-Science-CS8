{
 "cells": [
  {
   "cell_type": "code",
   "execution_count": 2,
   "metadata": {
    "collapsed": true
   },
   "outputs": [],
   "source": [
    "import numpy as np\n",
    "from datascience import *\n",
    "np.set_printoptions(threshold=50, linewidth=50)"
   ]
  },
  {
   "cell_type": "markdown",
   "metadata": {},
   "source": [
    "## Bikes (Review)"
   ]
  },
  {
   "cell_type": "code",
   "execution_count": 3,
   "metadata": {
    "collapsed": true
   },
   "outputs": [],
   "source": [
    "# Download data (it may take minutes)\n",
    "import os\n",
    "if not os.path.exists('201508_station_data.csv'):\n",
    "    !wget https://s3.amazonaws.com/babs-open-data/babs_open_data_year_2.zip && \\\n",
    "        unzip babs_open_data_year_2.zip && \\\n",
    "        rm 201508_status_data.csv babs_open_data_year_2.zip"
   ]
  },
  {
   "cell_type": "code",
   "execution_count": 4,
   "metadata": {
    "collapsed": false
   },
   "outputs": [
    {
     "data": {
      "text/html": [
       "<table border=\"1\" class=\"dataframe\">\n",
       "    <thead>\n",
       "        <tr>\n",
       "            <th>Trip ID</th> <th>Duration</th> <th>Start Date</th> <th>Start Station</th> <th>Start Terminal</th> <th>End Date</th> <th>End Station</th> <th>End Terminal</th> <th>Bike #</th> <th>Subscriber Type</th> <th>Zip Code</th>\n",
       "        </tr>\n",
       "    </thead>\n",
       "    <tbody>\n",
       "        <tr>\n",
       "            <td>913460 </td> <td>765     </td> <td>8/31/2015 23:26</td> <td>Harry Bridges Plaza (Ferry Building)         </td> <td>50            </td> <td>8/31/2015 23:39</td> <td>San Francisco Caltrain (Townsend at 4th)     </td> <td>70          </td> <td>288   </td> <td>Subscriber     </td> <td>2139    </td>\n",
       "        </tr>\n",
       "    </tbody>\n",
       "        <tr>\n",
       "            <td>913459 </td> <td>1036    </td> <td>8/31/2015 23:11</td> <td>San Antonio Shopping Center                  </td> <td>31            </td> <td>8/31/2015 23:28</td> <td>Mountain View City Hall                      </td> <td>27          </td> <td>35    </td> <td>Subscriber     </td> <td>95032   </td>\n",
       "        </tr>\n",
       "    </tbody>\n",
       "        <tr>\n",
       "            <td>913455 </td> <td>307     </td> <td>8/31/2015 23:13</td> <td>Post at Kearny                               </td> <td>47            </td> <td>8/31/2015 23:18</td> <td>2nd at South Park                            </td> <td>64          </td> <td>468   </td> <td>Subscriber     </td> <td>94107   </td>\n",
       "        </tr>\n",
       "    </tbody>\n",
       "        <tr>\n",
       "            <td>913454 </td> <td>409     </td> <td>8/31/2015 23:10</td> <td>San Jose City Hall                           </td> <td>10            </td> <td>8/31/2015 23:17</td> <td>San Salvador at 1st                          </td> <td>8           </td> <td>68    </td> <td>Subscriber     </td> <td>95113   </td>\n",
       "        </tr>\n",
       "    </tbody>\n",
       "        <tr>\n",
       "            <td>913453 </td> <td>789     </td> <td>8/31/2015 23:09</td> <td>Embarcadero at Folsom                        </td> <td>51            </td> <td>8/31/2015 23:22</td> <td>Embarcadero at Sansome                       </td> <td>60          </td> <td>487   </td> <td>Customer       </td> <td>9069    </td>\n",
       "        </tr>\n",
       "    </tbody>\n",
       "        <tr>\n",
       "            <td>913452 </td> <td>293     </td> <td>8/31/2015 23:07</td> <td>Yerba Buena Center of the Arts (3rd @ Howard)</td> <td>68            </td> <td>8/31/2015 23:12</td> <td>San Francisco Caltrain (Townsend at 4th)     </td> <td>70          </td> <td>538   </td> <td>Subscriber     </td> <td>94118   </td>\n",
       "        </tr>\n",
       "    </tbody>\n",
       "        <tr>\n",
       "            <td>913451 </td> <td>896     </td> <td>8/31/2015 23:07</td> <td>Embarcadero at Folsom                        </td> <td>51            </td> <td>8/31/2015 23:22</td> <td>Embarcadero at Sansome                       </td> <td>60          </td> <td>363   </td> <td>Customer       </td> <td>92562   </td>\n",
       "        </tr>\n",
       "    </tbody>\n",
       "        <tr>\n",
       "            <td>913450 </td> <td>255     </td> <td>8/31/2015 22:16</td> <td>Embarcadero at Sansome                       </td> <td>60            </td> <td>8/31/2015 22:20</td> <td>Steuart at Market                            </td> <td>74          </td> <td>470   </td> <td>Subscriber     </td> <td>94111   </td>\n",
       "        </tr>\n",
       "    </tbody>\n",
       "        <tr>\n",
       "            <td>913449 </td> <td>126     </td> <td>8/31/2015 22:12</td> <td>Beale at Market                              </td> <td>56            </td> <td>8/31/2015 22:15</td> <td>Temporary Transbay Terminal (Howard at Beale)</td> <td>55          </td> <td>439   </td> <td>Subscriber     </td> <td>94130   </td>\n",
       "        </tr>\n",
       "    </tbody>\n",
       "        <tr>\n",
       "            <td>913448 </td> <td>932     </td> <td>8/31/2015 21:57</td> <td>Post at Kearny                               </td> <td>47            </td> <td>8/31/2015 22:12</td> <td>South Van Ness at Market                     </td> <td>66          </td> <td>472   </td> <td>Subscriber     </td> <td>94702   </td>\n",
       "        </tr>\n",
       "    </tbody>\n",
       "</table>\n",
       "<p>... (354142 rows omitted)</p"
      ],
      "text/plain": [
       "Trip ID | Duration | Start Date      | Start Station                                 | Start Terminal | End Date        | End Station                                   | End Terminal | Bike # | Subscriber Type | Zip Code\n",
       "913460  | 765      | 8/31/2015 23:26 | Harry Bridges Plaza (Ferry Building)          | 50             | 8/31/2015 23:39 | San Francisco Caltrain (Townsend at 4th)      | 70           | 288    | Subscriber      | 2139\n",
       "913459  | 1036     | 8/31/2015 23:11 | San Antonio Shopping Center                   | 31             | 8/31/2015 23:28 | Mountain View City Hall                       | 27           | 35     | Subscriber      | 95032\n",
       "913455  | 307      | 8/31/2015 23:13 | Post at Kearny                                | 47             | 8/31/2015 23:18 | 2nd at South Park                             | 64           | 468    | Subscriber      | 94107\n",
       "913454  | 409      | 8/31/2015 23:10 | San Jose City Hall                            | 10             | 8/31/2015 23:17 | San Salvador at 1st                           | 8            | 68     | Subscriber      | 95113\n",
       "913453  | 789      | 8/31/2015 23:09 | Embarcadero at Folsom                         | 51             | 8/31/2015 23:22 | Embarcadero at Sansome                        | 60           | 487    | Customer        | 9069\n",
       "913452  | 293      | 8/31/2015 23:07 | Yerba Buena Center of the Arts (3rd @ Howard) | 68             | 8/31/2015 23:12 | San Francisco Caltrain (Townsend at 4th)      | 70           | 538    | Subscriber      | 94118\n",
       "913451  | 896      | 8/31/2015 23:07 | Embarcadero at Folsom                         | 51             | 8/31/2015 23:22 | Embarcadero at Sansome                        | 60           | 363    | Customer        | 92562\n",
       "913450  | 255      | 8/31/2015 22:16 | Embarcadero at Sansome                        | 60             | 8/31/2015 22:20 | Steuart at Market                             | 74           | 470    | Subscriber      | 94111\n",
       "913449  | 126      | 8/31/2015 22:12 | Beale at Market                               | 56             | 8/31/2015 22:15 | Temporary Transbay Terminal (Howard at Beale) | 55           | 439    | Subscriber      | 94130\n",
       "913448  | 932      | 8/31/2015 21:57 | Post at Kearny                                | 47             | 8/31/2015 22:12 | South Van Ness at Market                      | 66           | 472    | Subscriber      | 94702\n",
       "... (354142 rows omitted)"
      ]
     },
     "execution_count": 4,
     "metadata": {},
     "output_type": "execute_result"
    }
   ],
   "source": [
    "# Lecture 8\n",
    "trips = Table.read_table('201508_trip_data.csv')\n",
    "trips"
   ]
  },
  {
   "cell_type": "code",
   "execution_count": 7,
   "metadata": {
    "collapsed": false
   },
   "outputs": [
    {
     "data": {
      "text/html": [
       "<table border=\"1\" class=\"dataframe\">\n",
       "    <thead>\n",
       "        <tr>\n",
       "            <th>Date</th> <th>Temp</th>\n",
       "        </tr>\n",
       "    </thead>\n",
       "    <tbody>\n",
       "        <tr>\n",
       "            <td>1/2/2015  </td> <td>50  </td>\n",
       "        </tr>\n",
       "    </tbody>\n",
       "        <tr>\n",
       "            <td>1/3/2015  </td> <td>53  </td>\n",
       "        </tr>\n",
       "    </tbody>\n",
       "        <tr>\n",
       "            <td>1/4/2015  </td> <td>54  </td>\n",
       "        </tr>\n",
       "    </tbody>\n",
       "        <tr>\n",
       "            <td>12/27/2014</td> <td>55  </td>\n",
       "        </tr>\n",
       "    </tbody>\n",
       "        <tr>\n",
       "            <td>12/28/2014</td> <td>55  </td>\n",
       "        </tr>\n",
       "    </tbody>\n",
       "        <tr>\n",
       "            <td>12/29/2014</td> <td>55  </td>\n",
       "        </tr>\n",
       "    </tbody>\n",
       "        <tr>\n",
       "            <td>12/30/2014</td> <td>55  </td>\n",
       "        </tr>\n",
       "    </tbody>\n",
       "        <tr>\n",
       "            <td>12/12/2014</td> <td>56  </td>\n",
       "        </tr>\n",
       "    </tbody>\n",
       "        <tr>\n",
       "            <td>12/15/2014</td> <td>56  </td>\n",
       "        </tr>\n",
       "    </tbody>\n",
       "        <tr>\n",
       "            <td>1/1/2015  </td> <td>56  </td>\n",
       "        </tr>\n",
       "    </tbody>\n",
       "</table>\n",
       "<p>... (355 rows omitted)</p"
      ],
      "text/plain": [
       "Date       | Temp\n",
       "1/2/2015   | 50\n",
       "1/3/2015   | 53\n",
       "1/4/2015   | 54\n",
       "12/27/2014 | 55\n",
       "12/28/2014 | 55\n",
       "12/29/2014 | 55\n",
       "12/30/2014 | 55\n",
       "12/12/2014 | 56\n",
       "12/15/2014 | 56\n",
       "1/1/2015   | 56\n",
       "... (355 rows omitted)"
      ]
     },
     "execution_count": 7,
     "metadata": {},
     "output_type": "execute_result"
    }
   ],
   "source": [
    "weather = Table.read_table('201508_weather_data.csv')\n",
    "temp = weather.where('Zip', 94107).select([0, 1]).sort(1).relabeled(0, 'Date').relabeled(1, 'Temp')\n",
    "temp"
   ]
  },
  {
   "cell_type": "code",
   "execution_count": 8,
   "metadata": {
    "collapsed": false
   },
   "outputs": [
    {
     "data": {
      "text/plain": [
       "'8/31/2015'"
      ]
     },
     "execution_count": 8,
     "metadata": {},
     "output_type": "execute_result"
    }
   ],
   "source": [
    "def day(time):\n",
    "    return np.array(time.split()).item(0)\n",
    "\n",
    "day('8/31/2015 23:26')"
   ]
  },
  {
   "cell_type": "code",
   "execution_count": 9,
   "metadata": {
    "collapsed": false
   },
   "outputs": [
    {
     "data": {
      "text/plain": [
       "array(['8/31/2015', '8/31/2015', '8/31/2015', ...,\n",
       "       '9/1/2014', '9/1/2014', '9/1/2014'], \n",
       "      dtype='<U10')"
      ]
     },
     "execution_count": 9,
     "metadata": {},
     "output_type": "execute_result"
    }
   ],
   "source": [
    "dates = trips.apply(day, 2)\n",
    "dates"
   ]
  },
  {
   "cell_type": "code",
   "execution_count": 10,
   "metadata": {
    "collapsed": false
   },
   "outputs": [
    {
     "data": {
      "text/html": [
       "<table border=\"1\" class=\"dataframe\">\n",
       "    <thead>\n",
       "        <tr>\n",
       "            <th>Start Station</th> <th>Date</th>\n",
       "        </tr>\n",
       "    </thead>\n",
       "    <tbody>\n",
       "        <tr>\n",
       "            <td>Harry Bridges Plaza (Ferry Building)         </td> <td>8/31/2015</td>\n",
       "        </tr>\n",
       "    </tbody>\n",
       "        <tr>\n",
       "            <td>San Antonio Shopping Center                  </td> <td>8/31/2015</td>\n",
       "        </tr>\n",
       "    </tbody>\n",
       "        <tr>\n",
       "            <td>Post at Kearny                               </td> <td>8/31/2015</td>\n",
       "        </tr>\n",
       "    </tbody>\n",
       "        <tr>\n",
       "            <td>San Jose City Hall                           </td> <td>8/31/2015</td>\n",
       "        </tr>\n",
       "    </tbody>\n",
       "        <tr>\n",
       "            <td>Embarcadero at Folsom                        </td> <td>8/31/2015</td>\n",
       "        </tr>\n",
       "    </tbody>\n",
       "        <tr>\n",
       "            <td>Yerba Buena Center of the Arts (3rd @ Howard)</td> <td>8/31/2015</td>\n",
       "        </tr>\n",
       "    </tbody>\n",
       "        <tr>\n",
       "            <td>Embarcadero at Folsom                        </td> <td>8/31/2015</td>\n",
       "        </tr>\n",
       "    </tbody>\n",
       "        <tr>\n",
       "            <td>Embarcadero at Sansome                       </td> <td>8/31/2015</td>\n",
       "        </tr>\n",
       "    </tbody>\n",
       "        <tr>\n",
       "            <td>Beale at Market                              </td> <td>8/31/2015</td>\n",
       "        </tr>\n",
       "    </tbody>\n",
       "        <tr>\n",
       "            <td>Post at Kearny                               </td> <td>8/31/2015</td>\n",
       "        </tr>\n",
       "    </tbody>\n",
       "</table>\n",
       "<p>... (354142 rows omitted)</p"
      ],
      "text/plain": [
       "Start Station                                 | Date\n",
       "Harry Bridges Plaza (Ferry Building)          | 8/31/2015\n",
       "San Antonio Shopping Center                   | 8/31/2015\n",
       "Post at Kearny                                | 8/31/2015\n",
       "San Jose City Hall                            | 8/31/2015\n",
       "Embarcadero at Folsom                         | 8/31/2015\n",
       "Yerba Buena Center of the Arts (3rd @ Howard) | 8/31/2015\n",
       "Embarcadero at Folsom                         | 8/31/2015\n",
       "Embarcadero at Sansome                        | 8/31/2015\n",
       "Beale at Market                               | 8/31/2015\n",
       "Post at Kearny                                | 8/31/2015\n",
       "... (354142 rows omitted)"
      ]
     },
     "execution_count": 10,
     "metadata": {},
     "output_type": "execute_result"
    }
   ],
   "source": [
    "trip_dates = trips.select('Start Station').with_column('Date', dates)\n",
    "trip_dates"
   ]
  },
  {
   "cell_type": "code",
   "execution_count": 57,
   "metadata": {
    "collapsed": false
   },
   "outputs": [
    {
     "data": {
      "text/html": [
       "<table border=\"1\" class=\"dataframe\">\n",
       "    <thead>\n",
       "        <tr>\n",
       "            <th>Date</th> <th>Trips</th>\n",
       "        </tr>\n",
       "    </thead>\n",
       "    <tbody>\n",
       "        <tr>\n",
       "            <td>12/11/2014</td> <td>107  </td>\n",
       "        </tr>\n",
       "    </tbody>\n",
       "        <tr>\n",
       "            <td>11/30/2014</td> <td>121  </td>\n",
       "        </tr>\n",
       "    </tbody>\n",
       "        <tr>\n",
       "            <td>11/27/2014</td> <td>133  </td>\n",
       "        </tr>\n",
       "    </tbody>\n",
       "        <tr>\n",
       "            <td>2/8/2015  </td> <td>141  </td>\n",
       "        </tr>\n",
       "    </tbody>\n",
       "        <tr>\n",
       "            <td>12/25/2014</td> <td>150  </td>\n",
       "        </tr>\n",
       "    </tbody>\n",
       "        <tr>\n",
       "            <td>1/1/2015  </td> <td>181  </td>\n",
       "        </tr>\n",
       "    </tbody>\n",
       "        <tr>\n",
       "            <td>1/4/2015  </td> <td>206  </td>\n",
       "        </tr>\n",
       "    </tbody>\n",
       "        <tr>\n",
       "            <td>4/5/2015  </td> <td>216  </td>\n",
       "        </tr>\n",
       "    </tbody>\n",
       "        <tr>\n",
       "            <td>12/27/2014</td> <td>231  </td>\n",
       "        </tr>\n",
       "    </tbody>\n",
       "        <tr>\n",
       "            <td>11/23/2014</td> <td>235  </td>\n",
       "        </tr>\n",
       "    </tbody>\n",
       "</table>\n",
       "<p>... (355 rows omitted)</p"
      ],
      "text/plain": [
       "Date       | Trips\n",
       "12/11/2014 | 107\n",
       "11/30/2014 | 121\n",
       "11/27/2014 | 133\n",
       "2/8/2015   | 141\n",
       "12/25/2014 | 150\n",
       "1/1/2015   | 181\n",
       "1/4/2015   | 206\n",
       "4/5/2015   | 216\n",
       "12/27/2014 | 231\n",
       "11/23/2014 | 235\n",
       "... (355 rows omitted)"
      ]
     },
     "execution_count": 57,
     "metadata": {},
     "output_type": "execute_result"
    }
   ],
   "source": [
    "by_date = trip_dates.group('Date').sort(1).relabeled(1, 'Trips')\n",
    "by_date"
   ]
  },
  {
   "cell_type": "markdown",
   "metadata": {},
   "source": [
    "## Join"
   ]
  },
  {
   "cell_type": "code",
   "execution_count": 77,
   "metadata": {
    "collapsed": false
   },
   "outputs": [
    {
     "data": {
      "text/html": [
       "<table border=\"1\" class=\"dataframe\">\n",
       "    <thead>\n",
       "        <tr>\n",
       "            <th>Date</th> <th>Trips</th> <th>Temp</th>\n",
       "        </tr>\n",
       "    </thead>\n",
       "    <tbody>\n",
       "        <tr>\n",
       "            <td>1/1/2015 </td> <td>181  </td> <td>56  </td>\n",
       "        </tr>\n",
       "    </tbody>\n",
       "        <tr>\n",
       "            <td>1/10/2015</td> <td>362  </td> <td>60  </td>\n",
       "        </tr>\n",
       "    </tbody>\n",
       "        <tr>\n",
       "            <td>1/11/2015</td> <td>327  </td> <td>57  </td>\n",
       "        </tr>\n",
       "    </tbody>\n",
       "        <tr>\n",
       "            <td>1/12/2015</td> <td>1344 </td> <td>57  </td>\n",
       "        </tr>\n",
       "    </tbody>\n",
       "        <tr>\n",
       "            <td>1/13/2015</td> <td>1368 </td> <td>66  </td>\n",
       "        </tr>\n",
       "    </tbody>\n",
       "        <tr>\n",
       "            <td>1/14/2015</td> <td>1296 </td> <td>59  </td>\n",
       "        </tr>\n",
       "    </tbody>\n",
       "        <tr>\n",
       "            <td>1/15/2015</td> <td>1229 </td> <td>59  </td>\n",
       "        </tr>\n",
       "    </tbody>\n",
       "        <tr>\n",
       "            <td>1/16/2015</td> <td>1082 </td> <td>57  </td>\n",
       "        </tr>\n",
       "    </tbody>\n",
       "        <tr>\n",
       "            <td>1/17/2015</td> <td>319  </td> <td>57  </td>\n",
       "        </tr>\n",
       "    </tbody>\n",
       "        <tr>\n",
       "            <td>1/18/2015</td> <td>275  </td> <td>65  </td>\n",
       "        </tr>\n",
       "    </tbody>\n",
       "</table>\n",
       "<p>... (355 rows omitted)</p"
      ],
      "text/plain": [
       "Date      | Trips | Temp\n",
       "1/1/2015  | 181   | 56\n",
       "1/10/2015 | 362   | 60\n",
       "1/11/2015 | 327   | 57\n",
       "1/12/2015 | 1344  | 57\n",
       "1/13/2015 | 1368  | 66\n",
       "1/14/2015 | 1296  | 59\n",
       "1/15/2015 | 1229  | 59\n",
       "1/16/2015 | 1082  | 57\n",
       "1/17/2015 | 319   | 57\n",
       "1/18/2015 | 275   | 65\n",
       "... (355 rows omitted)"
      ]
     },
     "execution_count": 77,
     "metadata": {},
     "output_type": "execute_result"
    }
   ],
   "source": [
    "both = by_date.join('Date', temp)\n",
    "both"
   ]
  },
  {
   "cell_type": "markdown",
   "metadata": {},
   "source": [
    "#### Discussion Question"
   ]
  },
  {
   "cell_type": "code",
   "execution_count": 34,
   "metadata": {
    "collapsed": false
   },
   "outputs": [
    {
     "data": {
      "text/plain": [
       "847.41525423728808"
      ]
     },
     "execution_count": 34,
     "metadata": {},
     "output_type": "execute_result"
    }
   ],
   "source": [
    "np.average(both.where(both.column('Temp') < 65).column('Trips'))"
   ]
  },
  {
   "cell_type": "code",
   "execution_count": 62,
   "metadata": {
    "collapsed": false
   },
   "outputs": [
    {
     "data": {
      "text/plain": [
       "1028.9757085020242"
      ]
     },
     "execution_count": 62,
     "metadata": {},
     "output_type": "execute_result"
    }
   ],
   "source": [
    "np.average(both.where(both.column('Temp') >= 65).column('Trips'))"
   ]
  },
  {
   "cell_type": "markdown",
   "metadata": {},
   "source": [
    "## Pivot"
   ]
  },
  {
   "cell_type": "code",
   "execution_count": 36,
   "metadata": {
    "collapsed": false
   },
   "outputs": [
    {
     "data": {
      "text/plain": [
       "{nan, 'Fog', 'Fog-Rain', 'Rain-Thunderstorm', 'Rain'}"
      ]
     },
     "execution_count": 36,
     "metadata": {},
     "output_type": "execute_result"
    }
   ],
   "source": [
    "set(weather.column(' Events'))"
   ]
  },
  {
   "cell_type": "code",
   "execution_count": 30,
   "metadata": {
    "collapsed": false
   },
   "outputs": [
    {
     "data": {
      "text/html": [
       "<table border=\"1\" class=\"dataframe\">\n",
       "    <thead>\n",
       "        <tr>\n",
       "            <th>Date</th> <th>Water</th> <th>Temp</th>\n",
       "        </tr>\n",
       "    </thead>\n",
       "    <tbody>\n",
       "        <tr>\n",
       "            <td>9/1/2014 </td> <td>Dry  </td> <td>Hot </td>\n",
       "        </tr>\n",
       "    </tbody>\n",
       "        <tr>\n",
       "            <td>9/2/2014 </td> <td>Dry  </td> <td>Hot </td>\n",
       "        </tr>\n",
       "    </tbody>\n",
       "        <tr>\n",
       "            <td>9/3/2014 </td> <td>Dry  </td> <td>Hot </td>\n",
       "        </tr>\n",
       "    </tbody>\n",
       "        <tr>\n",
       "            <td>9/4/2014 </td> <td>Dry  </td> <td>Hot </td>\n",
       "        </tr>\n",
       "    </tbody>\n",
       "        <tr>\n",
       "            <td>9/5/2014 </td> <td>Dry  </td> <td>Hot </td>\n",
       "        </tr>\n",
       "    </tbody>\n",
       "        <tr>\n",
       "            <td>9/6/2014 </td> <td>Dry  </td> <td>Hot </td>\n",
       "        </tr>\n",
       "    </tbody>\n",
       "        <tr>\n",
       "            <td>9/7/2014 </td> <td>Dry  </td> <td>Hot </td>\n",
       "        </tr>\n",
       "    </tbody>\n",
       "        <tr>\n",
       "            <td>9/8/2014 </td> <td>Dry  </td> <td>Hot </td>\n",
       "        </tr>\n",
       "    </tbody>\n",
       "        <tr>\n",
       "            <td>9/9/2014 </td> <td>Dry  </td> <td>Hot </td>\n",
       "        </tr>\n",
       "    </tbody>\n",
       "        <tr>\n",
       "            <td>9/10/2014</td> <td>Dry  </td> <td>Hot </td>\n",
       "        </tr>\n",
       "    </tbody>\n",
       "</table>\n",
       "<p>... (1815 rows omitted)</p"
      ],
      "text/plain": [
       "Date      | Water | Temp\n",
       "9/1/2014  | Dry   | Hot\n",
       "9/2/2014  | Dry   | Hot\n",
       "9/3/2014  | Dry   | Hot\n",
       "9/4/2014  | Dry   | Hot\n",
       "9/5/2014  | Dry   | Hot\n",
       "9/6/2014  | Dry   | Hot\n",
       "9/7/2014  | Dry   | Hot\n",
       "9/8/2014  | Dry   | Hot\n",
       "9/9/2014  | Dry   | Hot\n",
       "9/10/2014 | Dry   | Hot\n",
       "... (1815 rows omitted)"
      ]
     },
     "execution_count": 30,
     "metadata": {},
     "output_type": "execute_result"
    }
   ],
   "source": [
    "def moisture(event):\n",
    "    if event == 'Rain' or event == 'Fog-Rain' or event == 'Rain-Thunderstorm':\n",
    "        return 'Wet'\n",
    "    elif event == 'Fog':\n",
    "        return 'Moist'\n",
    "    else:\n",
    "        return 'Dry'\n",
    "    \n",
    "def temperature(k):\n",
    "    if k >= 65:\n",
    "        return \"Hot\"\n",
    "    else:\n",
    "        return \"Cold\"\n",
    "    \n",
    "climate = Table().with_columns([\n",
    "        'Date',  weather.column(0),\n",
    "        'Water', weather.apply(moisture, ' Events'),\n",
    "        'Temp',  weather.apply(temperature, 'Max TemperatureF'),\n",
    "    ])\n",
    "\n",
    "climate"
   ]
  },
  {
   "cell_type": "code",
   "execution_count": 67,
   "metadata": {
    "collapsed": false
   },
   "outputs": [
    {
     "data": {
      "text/html": [
       "<table border=\"1\" class=\"dataframe\">\n",
       "    <thead>\n",
       "        <tr>\n",
       "            <th>Date</th> <th>Trips</th> <th>Water</th> <th>Temp</th>\n",
       "        </tr>\n",
       "    </thead>\n",
       "    <tbody>\n",
       "        <tr>\n",
       "            <td>1/1/2015 </td> <td>181  </td> <td>Dry  </td> <td>Cold</td>\n",
       "        </tr>\n",
       "    </tbody>\n",
       "        <tr>\n",
       "            <td>1/10/2015</td> <td>362  </td> <td>Moist</td> <td>Cold</td>\n",
       "        </tr>\n",
       "    </tbody>\n",
       "        <tr>\n",
       "            <td>1/11/2015</td> <td>327  </td> <td>Moist</td> <td>Cold</td>\n",
       "        </tr>\n",
       "    </tbody>\n",
       "        <tr>\n",
       "            <td>1/12/2015</td> <td>1344 </td> <td>Moist</td> <td>Cold</td>\n",
       "        </tr>\n",
       "    </tbody>\n",
       "        <tr>\n",
       "            <td>1/13/2015</td> <td>1368 </td> <td>Moist</td> <td>Hot </td>\n",
       "        </tr>\n",
       "    </tbody>\n",
       "        <tr>\n",
       "            <td>1/14/2015</td> <td>1296 </td> <td>Dry  </td> <td>Cold</td>\n",
       "        </tr>\n",
       "    </tbody>\n",
       "        <tr>\n",
       "            <td>1/15/2015</td> <td>1229 </td> <td>Moist</td> <td>Cold</td>\n",
       "        </tr>\n",
       "    </tbody>\n",
       "        <tr>\n",
       "            <td>1/16/2015</td> <td>1082 </td> <td>Wet  </td> <td>Cold</td>\n",
       "        </tr>\n",
       "    </tbody>\n",
       "        <tr>\n",
       "            <td>1/17/2015</td> <td>319  </td> <td>Dry  </td> <td>Cold</td>\n",
       "        </tr>\n",
       "    </tbody>\n",
       "        <tr>\n",
       "            <td>1/18/2015</td> <td>275  </td> <td>Moist</td> <td>Hot </td>\n",
       "        </tr>\n",
       "    </tbody>\n",
       "</table>\n",
       "<p>... (355 rows omitted)</p"
      ],
      "text/plain": [
       "Date      | Trips | Water | Temp\n",
       "1/1/2015  | 181   | Dry   | Cold\n",
       "1/10/2015 | 362   | Moist | Cold\n",
       "1/11/2015 | 327   | Moist | Cold\n",
       "1/12/2015 | 1344  | Moist | Cold\n",
       "1/13/2015 | 1368  | Moist | Hot\n",
       "1/14/2015 | 1296  | Dry   | Cold\n",
       "1/15/2015 | 1229  | Moist | Cold\n",
       "1/16/2015 | 1082  | Wet   | Cold\n",
       "1/17/2015 | 319   | Dry   | Cold\n",
       "1/18/2015 | 275   | Moist | Hot\n",
       "... (355 rows omitted)"
      ]
     },
     "execution_count": 67,
     "metadata": {},
     "output_type": "execute_result"
    }
   ],
   "source": [
    "days = by_date.join('Date', climate)\n",
    "days"
   ]
  },
  {
   "cell_type": "code",
   "execution_count": 68,
   "metadata": {
    "collapsed": false
   },
   "outputs": [
    {
     "data": {
      "text/html": [
       "<table border=\"1\" class=\"dataframe\">\n",
       "    <thead>\n",
       "        <tr>\n",
       "            <th>Temp</th> <th>Trips average</th>\n",
       "        </tr>\n",
       "    </thead>\n",
       "    <tbody>\n",
       "        <tr>\n",
       "            <td>Cold</td> <td>847.415      </td>\n",
       "        </tr>\n",
       "    </tbody>\n",
       "        <tr>\n",
       "            <td>Hot </td> <td>1028.98      </td>\n",
       "        </tr>\n",
       "    </tbody>\n",
       "</table>"
      ],
      "text/plain": [
       "Temp | Trips average\n",
       "Cold | 847.415\n",
       "Hot  | 1028.98"
      ]
     },
     "execution_count": 68,
     "metadata": {},
     "output_type": "execute_result"
    }
   ],
   "source": [
    "days.select([3, 1]).group(0, np.average)"
   ]
  },
  {
   "cell_type": "code",
   "execution_count": 37,
   "metadata": {
    "collapsed": false
   },
   "outputs": [
    {
     "data": {
      "text/html": [
       "<table border=\"1\" class=\"dataframe\">\n",
       "    <thead>\n",
       "        <tr>\n",
       "            <th>Water</th> <th>Temp</th> <th>count</th>\n",
       "        </tr>\n",
       "    </thead>\n",
       "    <tbody>\n",
       "        <tr>\n",
       "            <td>Dry  </td> <td>Cold</td> <td>71   </td>\n",
       "        </tr>\n",
       "    </tbody>\n",
       "        <tr>\n",
       "            <td>Dry  </td> <td>Hot </td> <td>202  </td>\n",
       "        </tr>\n",
       "    </tbody>\n",
       "        <tr>\n",
       "            <td>Moist</td> <td>Cold</td> <td>16   </td>\n",
       "        </tr>\n",
       "    </tbody>\n",
       "        <tr>\n",
       "            <td>Moist</td> <td>Hot </td> <td>18   </td>\n",
       "        </tr>\n",
       "    </tbody>\n",
       "        <tr>\n",
       "            <td>Wet  </td> <td>Cold</td> <td>31   </td>\n",
       "        </tr>\n",
       "    </tbody>\n",
       "        <tr>\n",
       "            <td>Wet  </td> <td>Hot </td> <td>27   </td>\n",
       "        </tr>\n",
       "    </tbody>\n",
       "</table>"
      ],
      "text/plain": [
       "Water | Temp | count\n",
       "Dry   | Cold | 71\n",
       "Dry   | Hot  | 202\n",
       "Moist | Cold | 16\n",
       "Moist | Hot  | 18\n",
       "Wet   | Cold | 31\n",
       "Wet   | Hot  | 27"
      ]
     },
     "execution_count": 37,
     "metadata": {},
     "output_type": "execute_result"
    }
   ],
   "source": [
    "days.groups(['Water', 'Temp'])"
   ]
  },
  {
   "cell_type": "code",
   "execution_count": 38,
   "metadata": {
    "collapsed": false
   },
   "outputs": [
    {
     "data": {
      "text/html": [
       "<table border=\"1\" class=\"dataframe\">\n",
       "    <thead>\n",
       "        <tr>\n",
       "            <th>Temp</th> <th>Dry</th> <th>Moist</th> <th>Wet</th>\n",
       "        </tr>\n",
       "    </thead>\n",
       "    <tbody>\n",
       "        <tr>\n",
       "            <td>Cold</td> <td>71  </td> <td>16   </td> <td>31  </td>\n",
       "        </tr>\n",
       "    </tbody>\n",
       "        <tr>\n",
       "            <td>Hot </td> <td>202 </td> <td>18   </td> <td>27  </td>\n",
       "        </tr>\n",
       "    </tbody>\n",
       "</table>"
      ],
      "text/plain": [
       "Temp | Dry  | Moist | Wet\n",
       "Cold | 71   | 16    | 31\n",
       "Hot  | 202  | 18    | 27"
      ]
     },
     "execution_count": 38,
     "metadata": {},
     "output_type": "execute_result"
    }
   ],
   "source": [
    "days.pivot('Water', 'Temp')"
   ]
  },
  {
   "cell_type": "code",
   "execution_count": 39,
   "metadata": {
    "collapsed": false
   },
   "outputs": [
    {
     "data": {
      "text/html": [
       "<table border=\"1\" class=\"dataframe\">\n",
       "    <thead>\n",
       "        <tr>\n",
       "            <th>Temp</th> <th>Dry</th> <th>Moist</th> <th>Wet</th>\n",
       "        </tr>\n",
       "    </thead>\n",
       "    <tbody>\n",
       "        <tr>\n",
       "            <td>Cold</td> <td>900.324</td> <td>1037.56</td> <td>628.097</td>\n",
       "        </tr>\n",
       "    </tbody>\n",
       "        <tr>\n",
       "            <td>Hot </td> <td>1033.05</td> <td>901.167</td> <td>1083.67</td>\n",
       "        </tr>\n",
       "    </tbody>\n",
       "</table>"
      ],
      "text/plain": [
       "Temp | Dry     | Moist   | Wet\n",
       "Cold | 900.324 | 1037.56 | 628.097\n",
       "Hot  | 1033.05 | 901.167 | 1083.67"
      ]
     },
     "execution_count": 39,
     "metadata": {},
     "output_type": "execute_result"
    }
   ],
   "source": [
    "days.pivot('Water', 'Temp', 'Trips', np.average)"
   ]
  },
  {
   "cell_type": "markdown",
   "metadata": {},
   "source": [
    "## Charts"
   ]
  },
  {
   "cell_type": "code",
   "execution_count": 75,
   "metadata": {
    "collapsed": false
   },
   "outputs": [
    {
     "data": {
      "image/png": "[encoded data removed]",
      "text/plain": [
       "<matplotlib.figure.Figure at 0x10a4b0e48>"
      ]
     },
     "metadata": {},
     "output_type": "display_data"
    }
   ],
   "source": [
    "days.select([3, 1]).group(0, np.average).barh('Temp')"
   ]
  },
  {
   "cell_type": "code",
   "execution_count": 59,
   "metadata": {
    "collapsed": false
   },
   "outputs": [
    {
     "data": {
      "image/png": "[encoded data removed]",
      "text/plain": [
       "<matplotlib.figure.Figure at 0x10c9906a0>"
      ]
     },
     "metadata": {},
     "output_type": "display_data"
    }
   ],
   "source": [
    "days.pivot('Water', 'Temp', 'Trips', np.average).barh('Temp')"
   ]
  },
  {
   "cell_type": "code",
   "execution_count": 44,
   "metadata": {
    "collapsed": false
   },
   "outputs": [],
   "source": [
    "# Download data\n",
    "import os\n",
    "if not os.path.exists('kaiser_ethnicity_everyone.csv'):\n",
    "    !wget https://raw.githubusercontent.com/data-8/textbook/gh-pages/notebooks/kaiser_ethnicity_everyone.csv\n",
    "    !wget https://raw.githubusercontent.com/data-8/textbook/gh-pages/notebooks/kaiser_ethnicity_children.csv"
   ]
  },
  {
   "cell_type": "code",
   "execution_count": 45,
   "metadata": {
    "collapsed": true
   },
   "outputs": [],
   "source": [
    "# Configure notebook (happens automatically on data8.berkeley.edu)\n",
    "%matplotlib inline\n",
    "import matplotlib.pyplot as plt\n",
    "plt.style.use('fivethirtyeight')"
   ]
  },
  {
   "cell_type": "code",
   "execution_count": 46,
   "metadata": {
    "collapsed": false
   },
   "outputs": [
    {
     "data": {
      "text/html": [
       "<table border=\"1\" class=\"dataframe\">\n",
       "    <thead>\n",
       "        <tr>\n",
       "            <th>State</th> <th>Race/Ethnicity</th> <th>Population</th>\n",
       "        </tr>\n",
       "    </thead>\n",
       "    <tbody>\n",
       "        <tr>\n",
       "            <td>Alabama</td> <td>White                        </td> <td>3,167,600 </td>\n",
       "        </tr>\n",
       "    </tbody>\n",
       "        <tr>\n",
       "            <td>Alabama</td> <td>Black                        </td> <td>1,269,200 </td>\n",
       "        </tr>\n",
       "    </tbody>\n",
       "        <tr>\n",
       "            <td>Alabama</td> <td>Hispanic                     </td> <td>191,000   </td>\n",
       "        </tr>\n",
       "    </tbody>\n",
       "        <tr>\n",
       "            <td>Alabama</td> <td>Asian                        </td> <td>77,300    </td>\n",
       "        </tr>\n",
       "    </tbody>\n",
       "        <tr>\n",
       "            <td>Alabama</td> <td>American Indian/Alaska Native</td> <td>0         </td>\n",
       "        </tr>\n",
       "    </tbody>\n",
       "        <tr>\n",
       "            <td>Alabama</td> <td>Two Or More Races            </td> <td>56,100    </td>\n",
       "        </tr>\n",
       "    </tbody>\n",
       "        <tr>\n",
       "            <td>Alabama</td> <td>Total                        </td> <td>4,768,000 </td>\n",
       "        </tr>\n",
       "    </tbody>\n",
       "        <tr>\n",
       "            <td>Alaska </td> <td>White                        </td> <td>396,400   </td>\n",
       "        </tr>\n",
       "    </tbody>\n",
       "        <tr>\n",
       "            <td>Alaska </td> <td>Black                        </td> <td>17,000    </td>\n",
       "        </tr>\n",
       "    </tbody>\n",
       "        <tr>\n",
       "            <td>Alaska </td> <td>Hispanic                     </td> <td>59,200    </td>\n",
       "        </tr>\n",
       "    </tbody>\n",
       "</table>\n",
       "<p>... (347 rows omitted)</p"
      ],
      "text/plain": [
       "State   | Race/Ethnicity                | Population\n",
       "Alabama | White                         | 3,167,600\n",
       "Alabama | Black                         | 1,269,200\n",
       "Alabama | Hispanic                      | 191,000\n",
       "Alabama | Asian                         | 77,300\n",
       "Alabama | American Indian/Alaska Native | 0\n",
       "Alabama | Two Or More Races             | 56,100\n",
       "Alabama | Total                         | 4,768,000\n",
       "Alaska  | White                         | 396,400\n",
       "Alaska  | Black                         | 17,000\n",
       "Alaska  | Hispanic                      | 59,200\n",
       "... (347 rows omitted)"
      ]
     },
     "execution_count": 46,
     "metadata": {},
     "output_type": "execute_result"
    }
   ],
   "source": [
    "everyone = Table.read_table('kaiser_ethnicity_everyone.csv')\n",
    "children = Table.read_table('kaiser_ethnicity_children.csv')\n",
    "children.set_format(2, NumberFormatter)\n",
    "everyone.set_format(2, NumberFormatter)"
   ]
  },
  {
   "cell_type": "code",
   "execution_count": 47,
   "metadata": {
    "collapsed": false
   },
   "outputs": [
    {
     "data": {
      "text/html": [
       "<table border=\"1\" class=\"dataframe\">\n",
       "    <thead>\n",
       "        <tr>\n",
       "            <th>State</th> <th>Race/Ethnicity</th> <th>Population</th>\n",
       "        </tr>\n",
       "    </thead>\n",
       "    <tbody>\n",
       "        <tr>\n",
       "            <td>California</td> <td>White                        </td> <td>15,172,800</td>\n",
       "        </tr>\n",
       "    </tbody>\n",
       "        <tr>\n",
       "            <td>California</td> <td>Black                        </td> <td>2,068,500 </td>\n",
       "        </tr>\n",
       "    </tbody>\n",
       "        <tr>\n",
       "            <td>California</td> <td>Hispanic                     </td> <td>14,786,000</td>\n",
       "        </tr>\n",
       "    </tbody>\n",
       "        <tr>\n",
       "            <td>California</td> <td>Asian                        </td> <td>5,662,400 </td>\n",
       "        </tr>\n",
       "    </tbody>\n",
       "        <tr>\n",
       "            <td>California</td> <td>American Indian/Alaska Native</td> <td>198,600   </td>\n",
       "        </tr>\n",
       "    </tbody>\n",
       "        <tr>\n",
       "            <td>California</td> <td>Two Or More Races            </td> <td>813,100   </td>\n",
       "        </tr>\n",
       "    </tbody>\n",
       "        <tr>\n",
       "            <td>California</td> <td>Total                        </td> <td>38,701,300</td>\n",
       "        </tr>\n",
       "    </tbody>\n",
       "</table>"
      ],
      "text/plain": [
       "State      | Race/Ethnicity                | Population\n",
       "California | White                         | 15,172,800\n",
       "California | Black                         | 2,068,500\n",
       "California | Hispanic                      | 14,786,000\n",
       "California | Asian                         | 5,662,400\n",
       "California | American Indian/Alaska Native | 198,600\n",
       "California | Two Or More Races             | 813,100\n",
       "California | Total                         | 38,701,300"
      ]
     },
     "execution_count": 47,
     "metadata": {},
     "output_type": "execute_result"
    }
   ],
   "source": [
    "everyone.where('State', 'California')"
   ]
  },
  {
   "cell_type": "code",
   "execution_count": 48,
   "metadata": {
    "collapsed": false
   },
   "outputs": [
    {
     "data": {
      "image/png": "[encoded data removed]",
      "text/plain": [
       "<matplotlib.figure.Figure at 0x109448358>"
      ]
     },
     "metadata": {},
     "output_type": "display_data"
    }
   ],
   "source": [
    "everyone.where('State', 'California').barh('Race/Ethnicity', 'Population')"
   ]
  },
  {
   "cell_type": "code",
   "execution_count": 49,
   "metadata": {
    "collapsed": false
   },
   "outputs": [
    {
     "data": {
      "text/html": [
       "<table border=\"1\" class=\"dataframe\">\n",
       "    <thead>\n",
       "        <tr>\n",
       "            <th>State</th> <th>Race/Ethnicity</th> <th>Population</th>\n",
       "        </tr>\n",
       "    </thead>\n",
       "    <tbody>\n",
       "        <tr>\n",
       "            <td>California</td> <td>White         </td> <td>2,786,000 </td>\n",
       "        </tr>\n",
       "    </tbody>\n",
       "        <tr>\n",
       "            <td>California</td> <td>Black         </td> <td>484,200   </td>\n",
       "        </tr>\n",
       "    </tbody>\n",
       "        <tr>\n",
       "            <td>California</td> <td>Hispanic      </td> <td>4,849,400 </td>\n",
       "        </tr>\n",
       "    </tbody>\n",
       "        <tr>\n",
       "            <td>California</td> <td>Other         </td> <td>1,590,100 </td>\n",
       "        </tr>\n",
       "    </tbody>\n",
       "        <tr>\n",
       "            <td>California</td> <td>Total         </td> <td>9,709,700 </td>\n",
       "        </tr>\n",
       "    </tbody>\n",
       "</table>"
      ],
      "text/plain": [
       "State      | Race/Ethnicity | Population\n",
       "California | White          | 2,786,000\n",
       "California | Black          | 484,200\n",
       "California | Hispanic       | 4,849,400\n",
       "California | Other          | 1,590,100\n",
       "California | Total          | 9,709,700"
      ]
     },
     "execution_count": 49,
     "metadata": {},
     "output_type": "execute_result"
    }
   ],
   "source": [
    "children.where('State', 'California')"
   ]
  },
  {
   "cell_type": "code",
   "execution_count": 50,
   "metadata": {
    "collapsed": false
   },
   "outputs": [
    {
     "data": {
      "image/png": "[encoded data removed]",
      "text/plain": [
       "<matplotlib.figure.Figure at 0x109a4e828>"
      ]
     },
     "metadata": {},
     "output_type": "display_data"
    }
   ],
   "source": [
    "children.where('State', 'California').barh(1, 2)"
   ]
  },
  {
   "cell_type": "code",
   "execution_count": 51,
   "metadata": {
    "collapsed": false
   },
   "outputs": [
    {
     "data": {
      "text/html": [
       "<table border=\"1\" class=\"dataframe\">\n",
       "    <thead>\n",
       "        <tr>\n",
       "            <th>State</th> <th>Race/Ethnicity</th> <th>Population</th> <th>State Total</th>\n",
       "        </tr>\n",
       "    </thead>\n",
       "    <tbody>\n",
       "        <tr>\n",
       "            <td>Alabama</td> <td>White                        </td> <td>3167600   </td> <td>4768000    </td>\n",
       "        </tr>\n",
       "    </tbody>\n",
       "        <tr>\n",
       "            <td>Alabama</td> <td>Black                        </td> <td>1269200   </td> <td>4768000    </td>\n",
       "        </tr>\n",
       "    </tbody>\n",
       "        <tr>\n",
       "            <td>Alabama</td> <td>Hispanic                     </td> <td>191000    </td> <td>4768000    </td>\n",
       "        </tr>\n",
       "    </tbody>\n",
       "        <tr>\n",
       "            <td>Alabama</td> <td>Asian                        </td> <td>77300     </td> <td>4768000    </td>\n",
       "        </tr>\n",
       "    </tbody>\n",
       "        <tr>\n",
       "            <td>Alabama</td> <td>American Indian/Alaska Native</td> <td>0         </td> <td>4768000    </td>\n",
       "        </tr>\n",
       "    </tbody>\n",
       "        <tr>\n",
       "            <td>Alabama</td> <td>Two Or More Races            </td> <td>56100     </td> <td>4768000    </td>\n",
       "        </tr>\n",
       "    </tbody>\n",
       "        <tr>\n",
       "            <td>Alabama</td> <td>Total                        </td> <td>4768000   </td> <td>4768000    </td>\n",
       "        </tr>\n",
       "    </tbody>\n",
       "        <tr>\n",
       "            <td>Alaska </td> <td>White                        </td> <td>396400    </td> <td>695700     </td>\n",
       "        </tr>\n",
       "    </tbody>\n",
       "        <tr>\n",
       "            <td>Alaska </td> <td>Black                        </td> <td>17000     </td> <td>695700     </td>\n",
       "        </tr>\n",
       "    </tbody>\n",
       "        <tr>\n",
       "            <td>Alaska </td> <td>Hispanic                     </td> <td>59200     </td> <td>695700     </td>\n",
       "        </tr>\n",
       "    </tbody>\n",
       "</table>\n",
       "<p>... (347 rows omitted)</p"
      ],
      "text/plain": [
       "State   | Race/Ethnicity                | Population | State Total\n",
       "Alabama | White                         | 3167600    | 4768000\n",
       "Alabama | Black                         | 1269200    | 4768000\n",
       "Alabama | Hispanic                      | 191000     | 4768000\n",
       "Alabama | Asian                         | 77300      | 4768000\n",
       "Alabama | American Indian/Alaska Native | 0          | 4768000\n",
       "Alabama | Two Or More Races             | 56100      | 4768000\n",
       "Alabama | Total                         | 4768000    | 4768000\n",
       "Alaska  | White                         | 396400     | 695700\n",
       "Alaska  | Black                         | 17000      | 695700\n",
       "Alaska  | Hispanic                      | 59200      | 695700\n",
       "... (347 rows omitted)"
      ]
     },
     "execution_count": 51,
     "metadata": {},
     "output_type": "execute_result"
    }
   ],
   "source": [
    "totals = everyone.join('State', everyone.where(1, 'Total').relabeled('Population', 'State Total')).drop(3)\n",
    "totals"
   ]
  },
  {
   "cell_type": "code",
   "execution_count": 52,
   "metadata": {
    "collapsed": false
   },
   "outputs": [
    {
     "data": {
      "text/html": [
       "<table border=\"1\" class=\"dataframe\">\n",
       "    <thead>\n",
       "        <tr>\n",
       "            <th>State</th> <th>Race/Ethnicity</th> <th>Proportion</th>\n",
       "        </tr>\n",
       "    </thead>\n",
       "    <tbody>\n",
       "        <tr>\n",
       "            <td>Alabama</td> <td>White                        </td> <td>66.43%    </td>\n",
       "        </tr>\n",
       "    </tbody>\n",
       "        <tr>\n",
       "            <td>Alabama</td> <td>Black                        </td> <td>26.62%    </td>\n",
       "        </tr>\n",
       "    </tbody>\n",
       "        <tr>\n",
       "            <td>Alabama</td> <td>Hispanic                     </td> <td>4.01%     </td>\n",
       "        </tr>\n",
       "    </tbody>\n",
       "        <tr>\n",
       "            <td>Alabama</td> <td>Asian                        </td> <td>1.62%     </td>\n",
       "        </tr>\n",
       "    </tbody>\n",
       "        <tr>\n",
       "            <td>Alabama</td> <td>American Indian/Alaska Native</td> <td>0.00%     </td>\n",
       "        </tr>\n",
       "    </tbody>\n",
       "        <tr>\n",
       "            <td>Alabama</td> <td>Two Or More Races            </td> <td>1.18%     </td>\n",
       "        </tr>\n",
       "    </tbody>\n",
       "        <tr>\n",
       "            <td>Alabama</td> <td>Total                        </td> <td>100.00%   </td>\n",
       "        </tr>\n",
       "    </tbody>\n",
       "        <tr>\n",
       "            <td>Alaska </td> <td>White                        </td> <td>56.98%    </td>\n",
       "        </tr>\n",
       "    </tbody>\n",
       "        <tr>\n",
       "            <td>Alaska </td> <td>Black                        </td> <td>2.44%     </td>\n",
       "        </tr>\n",
       "    </tbody>\n",
       "        <tr>\n",
       "            <td>Alaska </td> <td>Hispanic                     </td> <td>8.51%     </td>\n",
       "        </tr>\n",
       "    </tbody>\n",
       "</table>\n",
       "<p>... (347 rows omitted)</p"
      ],
      "text/plain": [
       "State   | Race/Ethnicity                | Proportion\n",
       "Alabama | White                         | 66.43%\n",
       "Alabama | Black                         | 26.62%\n",
       "Alabama | Hispanic                      | 4.01%\n",
       "Alabama | Asian                         | 1.62%\n",
       "Alabama | American Indian/Alaska Native | 0.00%\n",
       "Alabama | Two Or More Races             | 1.18%\n",
       "Alabama | Total                         | 100.00%\n",
       "Alaska  | White                         | 56.98%\n",
       "Alaska  | Black                         | 2.44%\n",
       "Alaska  | Hispanic                      | 8.51%\n",
       "... (347 rows omitted)"
      ]
     },
     "execution_count": 52,
     "metadata": {},
     "output_type": "execute_result"
    }
   ],
   "source": [
    "proportions = everyone.select([0, 1]).with_column('Proportion', totals.column(2)/totals.column(3))\n",
    "proportions.set_format(2, PercentFormatter)"
   ]
  },
  {
   "cell_type": "code",
   "execution_count": 53,
   "metadata": {
    "collapsed": false
   },
   "outputs": [
    {
     "data": {
      "text/html": [
       "<table border=\"1\" class=\"dataframe\">\n",
       "    <thead>\n",
       "        <tr>\n",
       "            <th>State</th> <th>Race/Ethnicity</th> <th>Children Proportion</th>\n",
       "        </tr>\n",
       "    </thead>\n",
       "    <tbody>\n",
       "        <tr>\n",
       "            <td>Alabama</td> <td>White         </td> <td>59.99%             </td>\n",
       "        </tr>\n",
       "    </tbody>\n",
       "        <tr>\n",
       "            <td>Alabama</td> <td>Black         </td> <td>30.50%             </td>\n",
       "        </tr>\n",
       "    </tbody>\n",
       "        <tr>\n",
       "            <td>Alabama</td> <td>Hispanic      </td> <td>6.41%              </td>\n",
       "        </tr>\n",
       "    </tbody>\n",
       "        <tr>\n",
       "            <td>Alabama</td> <td>Other         </td> <td>3.09%              </td>\n",
       "        </tr>\n",
       "    </tbody>\n",
       "        <tr>\n",
       "            <td>Alabama</td> <td>Total         </td> <td>100.00%            </td>\n",
       "        </tr>\n",
       "    </tbody>\n",
       "        <tr>\n",
       "            <td>Alaska </td> <td>White         </td> <td>46.00%             </td>\n",
       "        </tr>\n",
       "    </tbody>\n",
       "        <tr>\n",
       "            <td>Alaska </td> <td>Black         </td> <td>2.60%              </td>\n",
       "        </tr>\n",
       "    </tbody>\n",
       "        <tr>\n",
       "            <td>Alaska </td> <td>Hispanic      </td> <td>11.99%             </td>\n",
       "        </tr>\n",
       "    </tbody>\n",
       "        <tr>\n",
       "            <td>Alaska </td> <td>Other         </td> <td>39.36%             </td>\n",
       "        </tr>\n",
       "    </tbody>\n",
       "        <tr>\n",
       "            <td>Alaska </td> <td>Total         </td> <td>100.00%            </td>\n",
       "        </tr>\n",
       "    </tbody>\n",
       "</table>\n",
       "<p>... (245 rows omitted)</p"
      ],
      "text/plain": [
       "State   | Race/Ethnicity | Children Proportion\n",
       "Alabama | White          | 59.99%\n",
       "Alabama | Black          | 30.50%\n",
       "Alabama | Hispanic       | 6.41%\n",
       "Alabama | Other          | 3.09%\n",
       "Alabama | Total          | 100.00%\n",
       "Alaska  | White          | 46.00%\n",
       "Alaska  | Black          | 2.60%\n",
       "Alaska  | Hispanic       | 11.99%\n",
       "Alaska  | Other          | 39.36%\n",
       "Alaska  | Total          | 100.00%\n",
       "... (245 rows omitted)"
      ]
     },
     "execution_count": 53,
     "metadata": {},
     "output_type": "execute_result"
    }
   ],
   "source": [
    "children_proportions = children.select([0, 1]).with_column(\n",
    "    'Children Proportion', children.column(2) / children.join('State', children.where(1, 'Total')).column(4))\n",
    "children_proportions.set_format(2, PercentFormatter)"
   ]
  },
  {
   "cell_type": "code",
   "execution_count": 54,
   "metadata": {
    "collapsed": false
   },
   "outputs": [
    {
     "data": {
      "text/html": [
       "<table border=\"1\" class=\"dataframe\">\n",
       "    <thead>\n",
       "        <tr>\n",
       "            <th>Race/Ethnicity</th> <th>Proportion</th> <th>Children Proportion</th>\n",
       "        </tr>\n",
       "    </thead>\n",
       "    <tbody>\n",
       "        <tr>\n",
       "            <td>Black         </td> <td>5.34%     </td> <td>4.99%              </td>\n",
       "        </tr>\n",
       "    </tbody>\n",
       "        <tr>\n",
       "            <td>Hispanic      </td> <td>38.21%    </td> <td>49.94%             </td>\n",
       "        </tr>\n",
       "    </tbody>\n",
       "        <tr>\n",
       "            <td>White         </td> <td>39.20%    </td> <td>28.69%             </td>\n",
       "        </tr>\n",
       "    </tbody>\n",
       "        <tr>\n",
       "            <td>Total         </td> <td>100.00%   </td> <td>100.00%            </td>\n",
       "        </tr>\n",
       "    </tbody>\n",
       "</table>"
      ],
      "text/plain": [
       "Race/Ethnicity | Proportion | Children Proportion\n",
       "Black          | 5.34%      | 4.99%\n",
       "Hispanic       | 38.21%     | 49.94%\n",
       "White          | 39.20%     | 28.69%\n",
       "Total          | 100.00%    | 100.00%"
      ]
     },
     "execution_count": 54,
     "metadata": {},
     "output_type": "execute_result"
    }
   ],
   "source": [
    "def compare(state):\n",
    "    prop_for_state = proportions.where('State', state).drop(0)\n",
    "    children_prop_for_state = children_proportions.where('State', state).drop(0)\n",
    "    joined = prop_for_state.join('Race/Ethnicity', children_prop_for_state)\n",
    "    joined.set_format([1, 2], PercentFormatter)\n",
    "    return joined.sort('Proportion')\n",
    "\n",
    "compare('California')"
   ]
  },
  {
   "cell_type": "code",
   "execution_count": 55,
   "metadata": {
    "collapsed": false
   },
   "outputs": [
    {
     "data": {
      "image/png": "[encoded data removed]",
      "text/plain": [
       "<matplotlib.figure.Figure at 0x10a8d2a58>"
      ]
     },
     "metadata": {},
     "output_type": "display_data"
    }
   ],
   "source": [
    "compare('California').barh('Race/Ethnicity')"
   ]
  },
  {
   "cell_type": "code",
   "execution_count": 56,
   "metadata": {
    "collapsed": false
   },
   "outputs": [
    {
     "data": {
      "image/png": "[encoded data removed]",
      "text/plain": [
       "<matplotlib.figure.Figure at 0x10c6199b0>"
      ]
     },
     "metadata": {},
     "output_type": "display_data"
    }
   ],
   "source": [
    "compare('Minnesota').barh('Race/Ethnicity')"
   ]
  }
 ],
 "metadata": {
  "kernelspec": {
   "display_name": "Python 3",
   "language": "python",
   "name": "python3"
  },
  "language_info": {
   "codemirror_mode": {
    "name": "ipython",
    "version": 3
   },
   "file_extension": ".py",
   "mimetype": "text/x-python",
   "name": "python",
   "nbconvert_exporter": "python",
   "pygments_lexer": "ipython3",
   "version": "3.4.4"
  }
 },
 "nbformat": 4,
 "nbformat_minor": 0
}

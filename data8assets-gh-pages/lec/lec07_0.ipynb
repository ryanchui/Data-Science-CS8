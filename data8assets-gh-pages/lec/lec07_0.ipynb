{
 "cells": [
  {
   "cell_type": "code",
   "execution_count": null,
   "metadata": {
    "collapsed": true
   },
   "outputs": [],
   "source": [
    "import numpy as np\n",
    "np.set_printoptions(threshold=50, linewidth=50)"
   ]
  },
  {
   "cell_type": "code",
   "execution_count": null,
   "metadata": {
    "collapsed": false
   },
   "outputs": [],
   "source": [
    "# From Lecture 6\n",
    "from datascience import *\n",
    "url = 'http://www.census.gov/popest/data/national/asrh/2014/files/NC-EST2014-AGESEX-RES.csv'\n",
    "full = Table.read_table(url)\n",
    "partial = full.select(['SEX', 'AGE', 4, 8])\n",
    "simple = partial.relabeled(2, '2010').relabeled(3, '2014')\n",
    "census = simple.with_columns([\n",
    "        'Change', simple.column('2014')-simple.column('2010'),\n",
    "        'Growth', (simple.column('2014')/simple.column('2010')) ** (1/4) - 1\n",
    "    ])\n",
    "census.set_format('Growth', PercentFormatter)\n",
    "census.set_format([2, 3, 4], NumberFormatter)"
   ]
  },
  {
   "cell_type": "code",
   "execution_count": null,
   "metadata": {
    "collapsed": true
   },
   "outputs": [],
   "source": [
    "males = census.where('SEX', 1)\n",
    "females = census.where('SEX', 2)"
   ]
  },
  {
   "cell_type": "code",
   "execution_count": null,
   "metadata": {
    "collapsed": true
   },
   "outputs": [],
   "source": []
  }
 ],
 "metadata": {
  "kernelspec": {
   "display_name": "Python 3",
   "language": "python",
   "name": "python3"
  },
  "language_info": {
   "codemirror_mode": {
    "name": "ipython",
    "version": 3
   },
   "file_extension": ".py",
   "mimetype": "text/x-python",
   "name": "python",
   "nbconvert_exporter": "python",
   "pygments_lexer": "ipython3",
   "version": "3.4.4"
  }
 },
 "nbformat": 4,
 "nbformat_minor": 0
}
